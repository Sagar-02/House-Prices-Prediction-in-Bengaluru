{
 "cells": [
  {
   "cell_type": "code",
   "execution_count": null,
   "id": "abdb21df",
   "metadata": {},
   "outputs": [],
   "source": []
  },
  {
   "cell_type": "code",
   "execution_count": 1,
   "id": "b56efa04",
   "metadata": {},
   "outputs": [],
   "source": [
    "import numpy as np\n",
    "import pandas as pd\n",
    "import matplotlib.pyplot as plt\n",
    "import seaborn as sns\n",
    "\n",
    "import warnings\n",
    "warnings.filterwarnings('ignore')"
   ]
  },
  {
   "cell_type": "code",
   "execution_count": 2,
   "id": "4b2c50fb",
   "metadata": {},
   "outputs": [],
   "source": [
    "# Train data\n",
    "\n",
    "train_data=pd.read_csv('Train.csv')\n"
   ]
  },
  {
   "cell_type": "code",
   "execution_count": 3,
   "id": "305259eb",
   "metadata": {},
   "outputs": [
    {
     "data": {
      "text/html": [
       "<div>\n",
       "<style scoped>\n",
       "    .dataframe tbody tr th:only-of-type {\n",
       "        vertical-align: middle;\n",
       "    }\n",
       "\n",
       "    .dataframe tbody tr th {\n",
       "        vertical-align: top;\n",
       "    }\n",
       "\n",
       "    .dataframe thead th {\n",
       "        text-align: right;\n",
       "    }\n",
       "</style>\n",
       "<table border=\"1\" class=\"dataframe\">\n",
       "  <thead>\n",
       "    <tr style=\"text-align: right;\">\n",
       "      <th></th>\n",
       "      <th>area_type</th>\n",
       "      <th>availability</th>\n",
       "      <th>location</th>\n",
       "      <th>size</th>\n",
       "      <th>society</th>\n",
       "      <th>total_sqft</th>\n",
       "      <th>bath</th>\n",
       "      <th>balcony</th>\n",
       "      <th>price</th>\n",
       "    </tr>\n",
       "  </thead>\n",
       "  <tbody>\n",
       "    <tr>\n",
       "      <th>0</th>\n",
       "      <td>Super built-up  Area</td>\n",
       "      <td>19-Dec</td>\n",
       "      <td>Electronic City Phase II</td>\n",
       "      <td>2 BHK</td>\n",
       "      <td>Coomee</td>\n",
       "      <td>1056</td>\n",
       "      <td>2.0</td>\n",
       "      <td>1.0</td>\n",
       "      <td>39.07</td>\n",
       "    </tr>\n",
       "    <tr>\n",
       "      <th>1</th>\n",
       "      <td>Plot  Area</td>\n",
       "      <td>Ready To Move</td>\n",
       "      <td>Chikka Tirupathi</td>\n",
       "      <td>4 Bedroom</td>\n",
       "      <td>Theanmp</td>\n",
       "      <td>2600</td>\n",
       "      <td>5.0</td>\n",
       "      <td>3.0</td>\n",
       "      <td>120.00</td>\n",
       "    </tr>\n",
       "    <tr>\n",
       "      <th>2</th>\n",
       "      <td>Built-up  Area</td>\n",
       "      <td>Ready To Move</td>\n",
       "      <td>Uttarahalli</td>\n",
       "      <td>3 BHK</td>\n",
       "      <td>NaN</td>\n",
       "      <td>1440</td>\n",
       "      <td>2.0</td>\n",
       "      <td>3.0</td>\n",
       "      <td>62.00</td>\n",
       "    </tr>\n",
       "    <tr>\n",
       "      <th>3</th>\n",
       "      <td>Super built-up  Area</td>\n",
       "      <td>Ready To Move</td>\n",
       "      <td>Lingadheeranahalli</td>\n",
       "      <td>3 BHK</td>\n",
       "      <td>Soiewre</td>\n",
       "      <td>1521</td>\n",
       "      <td>3.0</td>\n",
       "      <td>1.0</td>\n",
       "      <td>95.00</td>\n",
       "    </tr>\n",
       "    <tr>\n",
       "      <th>4</th>\n",
       "      <td>Super built-up  Area</td>\n",
       "      <td>Ready To Move</td>\n",
       "      <td>Kothanur</td>\n",
       "      <td>2 BHK</td>\n",
       "      <td>NaN</td>\n",
       "      <td>1200</td>\n",
       "      <td>2.0</td>\n",
       "      <td>1.0</td>\n",
       "      <td>51.00</td>\n",
       "    </tr>\n",
       "    <tr>\n",
       "      <th>...</th>\n",
       "      <td>...</td>\n",
       "      <td>...</td>\n",
       "      <td>...</td>\n",
       "      <td>...</td>\n",
       "      <td>...</td>\n",
       "      <td>...</td>\n",
       "      <td>...</td>\n",
       "      <td>...</td>\n",
       "      <td>...</td>\n",
       "    </tr>\n",
       "    <tr>\n",
       "      <th>13315</th>\n",
       "      <td>Built-up  Area</td>\n",
       "      <td>Ready To Move</td>\n",
       "      <td>Whitefield</td>\n",
       "      <td>5 Bedroom</td>\n",
       "      <td>ArsiaEx</td>\n",
       "      <td>3453</td>\n",
       "      <td>4.0</td>\n",
       "      <td>0.0</td>\n",
       "      <td>231.00</td>\n",
       "    </tr>\n",
       "    <tr>\n",
       "      <th>13316</th>\n",
       "      <td>Super built-up  Area</td>\n",
       "      <td>Ready To Move</td>\n",
       "      <td>Richards Town</td>\n",
       "      <td>4 BHK</td>\n",
       "      <td>NaN</td>\n",
       "      <td>3600</td>\n",
       "      <td>5.0</td>\n",
       "      <td>NaN</td>\n",
       "      <td>400.00</td>\n",
       "    </tr>\n",
       "    <tr>\n",
       "      <th>13317</th>\n",
       "      <td>Built-up  Area</td>\n",
       "      <td>Ready To Move</td>\n",
       "      <td>Raja Rajeshwari Nagar</td>\n",
       "      <td>2 BHK</td>\n",
       "      <td>Mahla T</td>\n",
       "      <td>1141</td>\n",
       "      <td>2.0</td>\n",
       "      <td>1.0</td>\n",
       "      <td>60.00</td>\n",
       "    </tr>\n",
       "    <tr>\n",
       "      <th>13318</th>\n",
       "      <td>Super built-up  Area</td>\n",
       "      <td>18-Jun</td>\n",
       "      <td>Padmanabhanagar</td>\n",
       "      <td>4 BHK</td>\n",
       "      <td>SollyCl</td>\n",
       "      <td>4689</td>\n",
       "      <td>4.0</td>\n",
       "      <td>1.0</td>\n",
       "      <td>488.00</td>\n",
       "    </tr>\n",
       "    <tr>\n",
       "      <th>13319</th>\n",
       "      <td>Super built-up  Area</td>\n",
       "      <td>Ready To Move</td>\n",
       "      <td>Doddathoguru</td>\n",
       "      <td>1 BHK</td>\n",
       "      <td>NaN</td>\n",
       "      <td>550</td>\n",
       "      <td>1.0</td>\n",
       "      <td>1.0</td>\n",
       "      <td>17.00</td>\n",
       "    </tr>\n",
       "  </tbody>\n",
       "</table>\n",
       "<p>13320 rows × 9 columns</p>\n",
       "</div>"
      ],
      "text/plain": [
       "                  area_type   availability                  location  \\\n",
       "0      Super built-up  Area         19-Dec  Electronic City Phase II   \n",
       "1                Plot  Area  Ready To Move          Chikka Tirupathi   \n",
       "2            Built-up  Area  Ready To Move               Uttarahalli   \n",
       "3      Super built-up  Area  Ready To Move        Lingadheeranahalli   \n",
       "4      Super built-up  Area  Ready To Move                  Kothanur   \n",
       "...                     ...            ...                       ...   \n",
       "13315        Built-up  Area  Ready To Move                Whitefield   \n",
       "13316  Super built-up  Area  Ready To Move             Richards Town   \n",
       "13317        Built-up  Area  Ready To Move     Raja Rajeshwari Nagar   \n",
       "13318  Super built-up  Area         18-Jun           Padmanabhanagar   \n",
       "13319  Super built-up  Area  Ready To Move              Doddathoguru   \n",
       "\n",
       "            size  society total_sqft  bath  balcony   price  \n",
       "0          2 BHK  Coomee        1056   2.0      1.0   39.07  \n",
       "1      4 Bedroom  Theanmp       2600   5.0      3.0  120.00  \n",
       "2          3 BHK      NaN       1440   2.0      3.0   62.00  \n",
       "3          3 BHK  Soiewre       1521   3.0      1.0   95.00  \n",
       "4          2 BHK      NaN       1200   2.0      1.0   51.00  \n",
       "...          ...      ...        ...   ...      ...     ...  \n",
       "13315  5 Bedroom  ArsiaEx       3453   4.0      0.0  231.00  \n",
       "13316      4 BHK      NaN       3600   5.0      NaN  400.00  \n",
       "13317      2 BHK  Mahla T       1141   2.0      1.0   60.00  \n",
       "13318      4 BHK  SollyCl       4689   4.0      1.0  488.00  \n",
       "13319      1 BHK      NaN        550   1.0      1.0   17.00  \n",
       "\n",
       "[13320 rows x 9 columns]"
      ]
     },
     "execution_count": 3,
     "metadata": {},
     "output_type": "execute_result"
    }
   ],
   "source": [
    "train_data"
   ]
  },
  {
   "cell_type": "code",
   "execution_count": 4,
   "id": "2c80e374",
   "metadata": {},
   "outputs": [
    {
     "data": {
      "text/html": [
       "<div>\n",
       "<style scoped>\n",
       "    .dataframe tbody tr th:only-of-type {\n",
       "        vertical-align: middle;\n",
       "    }\n",
       "\n",
       "    .dataframe tbody tr th {\n",
       "        vertical-align: top;\n",
       "    }\n",
       "\n",
       "    .dataframe thead th {\n",
       "        text-align: right;\n",
       "    }\n",
       "</style>\n",
       "<table border=\"1\" class=\"dataframe\">\n",
       "  <thead>\n",
       "    <tr style=\"text-align: right;\">\n",
       "      <th></th>\n",
       "      <th>area_type</th>\n",
       "      <th>availability</th>\n",
       "      <th>location</th>\n",
       "      <th>size</th>\n",
       "      <th>society</th>\n",
       "      <th>total_sqft</th>\n",
       "      <th>bath</th>\n",
       "      <th>balcony</th>\n",
       "      <th>price</th>\n",
       "    </tr>\n",
       "  </thead>\n",
       "  <tbody>\n",
       "    <tr>\n",
       "      <th>0</th>\n",
       "      <td>Super built-up  Area</td>\n",
       "      <td>Ready To Move</td>\n",
       "      <td>Brookefield</td>\n",
       "      <td>2 BHK</td>\n",
       "      <td>Roeekbl</td>\n",
       "      <td>1225</td>\n",
       "      <td>2.0</td>\n",
       "      <td>2.0</td>\n",
       "      <td>NaN</td>\n",
       "    </tr>\n",
       "    <tr>\n",
       "      <th>1</th>\n",
       "      <td>Plot  Area</td>\n",
       "      <td>Ready To Move</td>\n",
       "      <td>Akshaya Nagar</td>\n",
       "      <td>9 Bedroom</td>\n",
       "      <td>NaN</td>\n",
       "      <td>2400</td>\n",
       "      <td>9.0</td>\n",
       "      <td>2.0</td>\n",
       "      <td>NaN</td>\n",
       "    </tr>\n",
       "    <tr>\n",
       "      <th>2</th>\n",
       "      <td>Plot  Area</td>\n",
       "      <td>18-Apr</td>\n",
       "      <td>Hennur Road</td>\n",
       "      <td>4 Bedroom</td>\n",
       "      <td>Saandtt</td>\n",
       "      <td>1650</td>\n",
       "      <td>5.0</td>\n",
       "      <td>2.0</td>\n",
       "      <td>NaN</td>\n",
       "    </tr>\n",
       "    <tr>\n",
       "      <th>3</th>\n",
       "      <td>Super built-up  Area</td>\n",
       "      <td>Ready To Move</td>\n",
       "      <td>Kodichikkanahalli</td>\n",
       "      <td>3 BHK</td>\n",
       "      <td>Winerri</td>\n",
       "      <td>1322</td>\n",
       "      <td>3.0</td>\n",
       "      <td>1.0</td>\n",
       "      <td>NaN</td>\n",
       "    </tr>\n",
       "    <tr>\n",
       "      <th>4</th>\n",
       "      <td>Super built-up  Area</td>\n",
       "      <td>Ready To Move</td>\n",
       "      <td>Konanakunte</td>\n",
       "      <td>2 BHK</td>\n",
       "      <td>AmageSa</td>\n",
       "      <td>1161</td>\n",
       "      <td>2.0</td>\n",
       "      <td>1.0</td>\n",
       "      <td>NaN</td>\n",
       "    </tr>\n",
       "  </tbody>\n",
       "</table>\n",
       "</div>"
      ],
      "text/plain": [
       "              area_type   availability           location       size  society  \\\n",
       "0  Super built-up  Area  Ready To Move        Brookefield      2 BHK  Roeekbl   \n",
       "1            Plot  Area  Ready To Move      Akshaya Nagar  9 Bedroom      NaN   \n",
       "2            Plot  Area         18-Apr        Hennur Road  4 Bedroom  Saandtt   \n",
       "3  Super built-up  Area  Ready To Move  Kodichikkanahalli      3 BHK  Winerri   \n",
       "4  Super built-up  Area  Ready To Move        Konanakunte      2 BHK  AmageSa   \n",
       "\n",
       "  total_sqft  bath  balcony  price  \n",
       "0       1225   2.0      2.0    NaN  \n",
       "1       2400   9.0      2.0    NaN  \n",
       "2       1650   5.0      2.0    NaN  \n",
       "3       1322   3.0      1.0    NaN  \n",
       "4       1161   2.0      1.0    NaN  "
      ]
     },
     "execution_count": 4,
     "metadata": {},
     "output_type": "execute_result"
    }
   ],
   "source": [
    "# Test Data\n",
    "\n",
    "test_data=pd.read_csv('Test.csv')\n",
    "test_data.head()"
   ]
  },
  {
   "cell_type": "markdown",
   "id": "4b402ad1",
   "metadata": {},
   "source": [
    "### EDA "
   ]
  },
  {
   "cell_type": "code",
   "execution_count": 5,
   "id": "4d01a5ac",
   "metadata": {},
   "outputs": [
    {
     "name": "stdout",
     "output_type": "stream",
     "text": [
      "<class 'pandas.core.frame.DataFrame'>\n",
      "RangeIndex: 13320 entries, 0 to 13319\n",
      "Data columns (total 9 columns):\n",
      " #   Column        Non-Null Count  Dtype  \n",
      "---  ------        --------------  -----  \n",
      " 0   area_type     13320 non-null  object \n",
      " 1   availability  13320 non-null  object \n",
      " 2   location      13319 non-null  object \n",
      " 3   size          13304 non-null  object \n",
      " 4   society       7818 non-null   object \n",
      " 5   total_sqft    13320 non-null  object \n",
      " 6   bath          13247 non-null  float64\n",
      " 7   balcony       12711 non-null  float64\n",
      " 8   price         13320 non-null  float64\n",
      "dtypes: float64(3), object(6)\n",
      "memory usage: 936.7+ KB\n"
     ]
    }
   ],
   "source": [
    "# Lets check the information about data\n",
    "\n",
    "train_data.info()"
   ]
  },
  {
   "cell_type": "markdown",
   "id": "f534d240",
   "metadata": {},
   "source": [
    "There are some null values in location,size, bath, balcony."
   ]
  },
  {
   "cell_type": "code",
   "execution_count": 6,
   "id": "64a15793",
   "metadata": {},
   "outputs": [
    {
     "data": {
      "text/html": [
       "<div>\n",
       "<style scoped>\n",
       "    .dataframe tbody tr th:only-of-type {\n",
       "        vertical-align: middle;\n",
       "    }\n",
       "\n",
       "    .dataframe tbody tr th {\n",
       "        vertical-align: top;\n",
       "    }\n",
       "\n",
       "    .dataframe thead th {\n",
       "        text-align: right;\n",
       "    }\n",
       "</style>\n",
       "<table border=\"1\" class=\"dataframe\">\n",
       "  <thead>\n",
       "    <tr style=\"text-align: right;\">\n",
       "      <th></th>\n",
       "      <th>count</th>\n",
       "      <th>mean</th>\n",
       "      <th>std</th>\n",
       "      <th>min</th>\n",
       "      <th>25%</th>\n",
       "      <th>50%</th>\n",
       "      <th>75%</th>\n",
       "      <th>max</th>\n",
       "    </tr>\n",
       "  </thead>\n",
       "  <tbody>\n",
       "    <tr>\n",
       "      <th>bath</th>\n",
       "      <td>13247.0</td>\n",
       "      <td>2.692610</td>\n",
       "      <td>1.341458</td>\n",
       "      <td>1.0</td>\n",
       "      <td>2.0</td>\n",
       "      <td>2.0</td>\n",
       "      <td>3.0</td>\n",
       "      <td>40.0</td>\n",
       "    </tr>\n",
       "    <tr>\n",
       "      <th>balcony</th>\n",
       "      <td>12711.0</td>\n",
       "      <td>1.584376</td>\n",
       "      <td>0.817263</td>\n",
       "      <td>0.0</td>\n",
       "      <td>1.0</td>\n",
       "      <td>2.0</td>\n",
       "      <td>2.0</td>\n",
       "      <td>3.0</td>\n",
       "    </tr>\n",
       "    <tr>\n",
       "      <th>price</th>\n",
       "      <td>13320.0</td>\n",
       "      <td>112.565627</td>\n",
       "      <td>148.971674</td>\n",
       "      <td>8.0</td>\n",
       "      <td>50.0</td>\n",
       "      <td>72.0</td>\n",
       "      <td>120.0</td>\n",
       "      <td>3600.0</td>\n",
       "    </tr>\n",
       "  </tbody>\n",
       "</table>\n",
       "</div>"
      ],
      "text/plain": [
       "           count        mean         std  min   25%   50%    75%     max\n",
       "bath     13247.0    2.692610    1.341458  1.0   2.0   2.0    3.0    40.0\n",
       "balcony  12711.0    1.584376    0.817263  0.0   1.0   2.0    2.0     3.0\n",
       "price    13320.0  112.565627  148.971674  8.0  50.0  72.0  120.0  3600.0"
      ]
     },
     "execution_count": 6,
     "metadata": {},
     "output_type": "execute_result"
    }
   ],
   "source": [
    "# Lets make 5 points summary for the numeric columns\n",
    "\n",
    "train_data.describe().T"
   ]
  },
  {
   "cell_type": "code",
   "execution_count": 7,
   "id": "5830cac6",
   "metadata": {},
   "outputs": [
    {
     "data": {
      "text/html": [
       "<div>\n",
       "<style scoped>\n",
       "    .dataframe tbody tr th:only-of-type {\n",
       "        vertical-align: middle;\n",
       "    }\n",
       "\n",
       "    .dataframe tbody tr th {\n",
       "        vertical-align: top;\n",
       "    }\n",
       "\n",
       "    .dataframe thead th {\n",
       "        text-align: right;\n",
       "    }\n",
       "</style>\n",
       "<table border=\"1\" class=\"dataframe\">\n",
       "  <thead>\n",
       "    <tr style=\"text-align: right;\">\n",
       "      <th></th>\n",
       "      <th>count</th>\n",
       "      <th>unique</th>\n",
       "      <th>top</th>\n",
       "      <th>freq</th>\n",
       "    </tr>\n",
       "  </thead>\n",
       "  <tbody>\n",
       "    <tr>\n",
       "      <th>area_type</th>\n",
       "      <td>13320</td>\n",
       "      <td>4</td>\n",
       "      <td>Super built-up  Area</td>\n",
       "      <td>8790</td>\n",
       "    </tr>\n",
       "    <tr>\n",
       "      <th>availability</th>\n",
       "      <td>13320</td>\n",
       "      <td>81</td>\n",
       "      <td>Ready To Move</td>\n",
       "      <td>10581</td>\n",
       "    </tr>\n",
       "    <tr>\n",
       "      <th>location</th>\n",
       "      <td>13319</td>\n",
       "      <td>1305</td>\n",
       "      <td>Whitefield</td>\n",
       "      <td>540</td>\n",
       "    </tr>\n",
       "    <tr>\n",
       "      <th>size</th>\n",
       "      <td>13304</td>\n",
       "      <td>31</td>\n",
       "      <td>2 BHK</td>\n",
       "      <td>5199</td>\n",
       "    </tr>\n",
       "    <tr>\n",
       "      <th>society</th>\n",
       "      <td>7818</td>\n",
       "      <td>2688</td>\n",
       "      <td>GrrvaGr</td>\n",
       "      <td>80</td>\n",
       "    </tr>\n",
       "    <tr>\n",
       "      <th>total_sqft</th>\n",
       "      <td>13320</td>\n",
       "      <td>2117</td>\n",
       "      <td>1200</td>\n",
       "      <td>843</td>\n",
       "    </tr>\n",
       "  </tbody>\n",
       "</table>\n",
       "</div>"
      ],
      "text/plain": [
       "              count unique                   top   freq\n",
       "area_type     13320      4  Super built-up  Area   8790\n",
       "availability  13320     81         Ready To Move  10581\n",
       "location      13319   1305            Whitefield    540\n",
       "size          13304     31                 2 BHK   5199\n",
       "society        7818   2688               GrrvaGr     80\n",
       "total_sqft    13320   2117                  1200    843"
      ]
     },
     "execution_count": 7,
     "metadata": {},
     "output_type": "execute_result"
    }
   ],
   "source": [
    "# Lets make 5 points summary for the object columns\n",
    "\n",
    "train_data.describe(include=object).T"
   ]
  },
  {
   "cell_type": "code",
   "execution_count": 8,
   "id": "4157ec80",
   "metadata": {},
   "outputs": [
    {
     "data": {
      "text/plain": [
       "area_type        object\n",
       "availability     object\n",
       "location         object\n",
       "size             object\n",
       "society          object\n",
       "total_sqft       object\n",
       "bath            float64\n",
       "balcony         float64\n",
       "price           float64\n",
       "dtype: object"
      ]
     },
     "execution_count": 8,
     "metadata": {},
     "output_type": "execute_result"
    }
   ],
   "source": [
    "# Check the datatypes\n",
    "\n",
    "train_data.dtypes"
   ]
  },
  {
   "cell_type": "code",
   "execution_count": 9,
   "id": "83fb9dd9",
   "metadata": {},
   "outputs": [
    {
     "data": {
      "text/html": [
       "<div>\n",
       "<style scoped>\n",
       "    .dataframe tbody tr th:only-of-type {\n",
       "        vertical-align: middle;\n",
       "    }\n",
       "\n",
       "    .dataframe tbody tr th {\n",
       "        vertical-align: top;\n",
       "    }\n",
       "\n",
       "    .dataframe thead th {\n",
       "        text-align: right;\n",
       "    }\n",
       "</style>\n",
       "<table border=\"1\" class=\"dataframe\">\n",
       "  <thead>\n",
       "    <tr style=\"text-align: right;\">\n",
       "      <th></th>\n",
       "      <th>area_type</th>\n",
       "      <th>availability</th>\n",
       "      <th>location</th>\n",
       "      <th>size</th>\n",
       "      <th>society</th>\n",
       "      <th>total_sqft</th>\n",
       "      <th>bath</th>\n",
       "      <th>balcony</th>\n",
       "      <th>price</th>\n",
       "    </tr>\n",
       "  </thead>\n",
       "  <tbody>\n",
       "    <tr>\n",
       "      <th>971</th>\n",
       "      <td>Super built-up  Area</td>\n",
       "      <td>Ready To Move</td>\n",
       "      <td>Haralur Road</td>\n",
       "      <td>3 BHK</td>\n",
       "      <td>NRowse</td>\n",
       "      <td>1464</td>\n",
       "      <td>3.0</td>\n",
       "      <td>2.0</td>\n",
       "      <td>56.0</td>\n",
       "    </tr>\n",
       "    <tr>\n",
       "      <th>1115</th>\n",
       "      <td>Super built-up  Area</td>\n",
       "      <td>Ready To Move</td>\n",
       "      <td>Haralur Road</td>\n",
       "      <td>2 BHK</td>\n",
       "      <td>NaN</td>\n",
       "      <td>1027</td>\n",
       "      <td>2.0</td>\n",
       "      <td>2.0</td>\n",
       "      <td>44.0</td>\n",
       "    </tr>\n",
       "    <tr>\n",
       "      <th>1143</th>\n",
       "      <td>Super built-up  Area</td>\n",
       "      <td>Ready To Move</td>\n",
       "      <td>Vittasandra</td>\n",
       "      <td>2 BHK</td>\n",
       "      <td>Prlla C</td>\n",
       "      <td>1246</td>\n",
       "      <td>2.0</td>\n",
       "      <td>1.0</td>\n",
       "      <td>64.5</td>\n",
       "    </tr>\n",
       "    <tr>\n",
       "      <th>1290</th>\n",
       "      <td>Super built-up  Area</td>\n",
       "      <td>Ready To Move</td>\n",
       "      <td>Haralur Road</td>\n",
       "      <td>2 BHK</td>\n",
       "      <td>NaN</td>\n",
       "      <td>1194</td>\n",
       "      <td>2.0</td>\n",
       "      <td>2.0</td>\n",
       "      <td>47.0</td>\n",
       "    </tr>\n",
       "    <tr>\n",
       "      <th>1394</th>\n",
       "      <td>Super built-up  Area</td>\n",
       "      <td>Ready To Move</td>\n",
       "      <td>Haralur Road</td>\n",
       "      <td>2 BHK</td>\n",
       "      <td>NaN</td>\n",
       "      <td>1027</td>\n",
       "      <td>2.0</td>\n",
       "      <td>2.0</td>\n",
       "      <td>44.0</td>\n",
       "    </tr>\n",
       "    <tr>\n",
       "      <th>...</th>\n",
       "      <td>...</td>\n",
       "      <td>...</td>\n",
       "      <td>...</td>\n",
       "      <td>...</td>\n",
       "      <td>...</td>\n",
       "      <td>...</td>\n",
       "      <td>...</td>\n",
       "      <td>...</td>\n",
       "      <td>...</td>\n",
       "    </tr>\n",
       "    <tr>\n",
       "      <th>13285</th>\n",
       "      <td>Super built-up  Area</td>\n",
       "      <td>Ready To Move</td>\n",
       "      <td>VHBCS Layout</td>\n",
       "      <td>2 BHK</td>\n",
       "      <td>OlarkLa</td>\n",
       "      <td>1353</td>\n",
       "      <td>2.0</td>\n",
       "      <td>2.0</td>\n",
       "      <td>110.0</td>\n",
       "    </tr>\n",
       "    <tr>\n",
       "      <th>13299</th>\n",
       "      <td>Super built-up  Area</td>\n",
       "      <td>18-Dec</td>\n",
       "      <td>Whitefield</td>\n",
       "      <td>4 BHK</td>\n",
       "      <td>Prtates</td>\n",
       "      <td>2830 - 2882</td>\n",
       "      <td>5.0</td>\n",
       "      <td>0.0</td>\n",
       "      <td>154.5</td>\n",
       "    </tr>\n",
       "    <tr>\n",
       "      <th>13311</th>\n",
       "      <td>Plot  Area</td>\n",
       "      <td>Ready To Move</td>\n",
       "      <td>Ramamurthy Nagar</td>\n",
       "      <td>7 Bedroom</td>\n",
       "      <td>NaN</td>\n",
       "      <td>1500</td>\n",
       "      <td>9.0</td>\n",
       "      <td>2.0</td>\n",
       "      <td>250.0</td>\n",
       "    </tr>\n",
       "    <tr>\n",
       "      <th>13313</th>\n",
       "      <td>Super built-up  Area</td>\n",
       "      <td>Ready To Move</td>\n",
       "      <td>Uttarahalli</td>\n",
       "      <td>3 BHK</td>\n",
       "      <td>Aklia R</td>\n",
       "      <td>1345</td>\n",
       "      <td>2.0</td>\n",
       "      <td>1.0</td>\n",
       "      <td>57.0</td>\n",
       "    </tr>\n",
       "    <tr>\n",
       "      <th>13319</th>\n",
       "      <td>Super built-up  Area</td>\n",
       "      <td>Ready To Move</td>\n",
       "      <td>Doddathoguru</td>\n",
       "      <td>1 BHK</td>\n",
       "      <td>NaN</td>\n",
       "      <td>550</td>\n",
       "      <td>1.0</td>\n",
       "      <td>1.0</td>\n",
       "      <td>17.0</td>\n",
       "    </tr>\n",
       "  </tbody>\n",
       "</table>\n",
       "<p>529 rows × 9 columns</p>\n",
       "</div>"
      ],
      "text/plain": [
       "                  area_type   availability          location       size  \\\n",
       "971    Super built-up  Area  Ready To Move      Haralur Road      3 BHK   \n",
       "1115   Super built-up  Area  Ready To Move      Haralur Road      2 BHK   \n",
       "1143   Super built-up  Area  Ready To Move       Vittasandra      2 BHK   \n",
       "1290   Super built-up  Area  Ready To Move      Haralur Road      2 BHK   \n",
       "1394   Super built-up  Area  Ready To Move      Haralur Road      2 BHK   \n",
       "...                     ...            ...               ...        ...   \n",
       "13285  Super built-up  Area  Ready To Move      VHBCS Layout      2 BHK   \n",
       "13299  Super built-up  Area         18-Dec        Whitefield      4 BHK   \n",
       "13311            Plot  Area  Ready To Move  Ramamurthy Nagar  7 Bedroom   \n",
       "13313  Super built-up  Area  Ready To Move       Uttarahalli      3 BHK   \n",
       "13319  Super built-up  Area  Ready To Move      Doddathoguru      1 BHK   \n",
       "\n",
       "       society   total_sqft  bath  balcony  price  \n",
       "971    NRowse          1464   3.0      2.0   56.0  \n",
       "1115       NaN         1027   2.0      2.0   44.0  \n",
       "1143   Prlla C         1246   2.0      1.0   64.5  \n",
       "1290       NaN         1194   2.0      2.0   47.0  \n",
       "1394       NaN         1027   2.0      2.0   44.0  \n",
       "...        ...          ...   ...      ...    ...  \n",
       "13285  OlarkLa         1353   2.0      2.0  110.0  \n",
       "13299  Prtates  2830 - 2882   5.0      0.0  154.5  \n",
       "13311      NaN         1500   9.0      2.0  250.0  \n",
       "13313  Aklia R         1345   2.0      1.0   57.0  \n",
       "13319      NaN          550   1.0      1.0   17.0  \n",
       "\n",
       "[529 rows x 9 columns]"
      ]
     },
     "execution_count": 9,
     "metadata": {},
     "output_type": "execute_result"
    }
   ],
   "source": [
    "# Check for duplicates\n",
    "\n",
    "train_data[train_data.duplicated()]"
   ]
  },
  {
   "cell_type": "markdown",
   "id": "41b0b01a",
   "metadata": {},
   "source": [
    " There are showing 529 duplicates rows but after reviewing the each and every columns the values are differents so we cannot treat these rows as duplicate"
   ]
  },
  {
   "cell_type": "markdown",
   "id": "85f914e6",
   "metadata": {},
   "source": [
    "### Visualization"
   ]
  },
  {
   "cell_type": "code",
   "execution_count": 10,
   "id": "1d8fbffa",
   "metadata": {},
   "outputs": [
    {
     "data": {
      "text/plain": [
       "Index(['area_type', 'availability', 'location', 'size', 'society',\n",
       "       'total_sqft', 'bath', 'balcony', 'price'],\n",
       "      dtype='object')"
      ]
     },
     "execution_count": 10,
     "metadata": {},
     "output_type": "execute_result"
    }
   ],
   "source": [
    "# Lets define the numerical columns and categorical columns\n",
    "\n",
    "train_data.columns"
   ]
  },
  {
   "cell_type": "code",
   "execution_count": 11,
   "id": "9c6ac319",
   "metadata": {},
   "outputs": [],
   "source": [
    "num_cols=['bath', 'balcony', 'price','total_sqft']\n",
    "cat_cols=['area_type', 'availability', 'location', 'size', 'society']"
   ]
  },
  {
   "cell_type": "code",
   "execution_count": 12,
   "id": "c5171052",
   "metadata": {},
   "outputs": [
    {
     "data": {
      "image/png": "[encoded data removed]",
      "text/plain": [
       "<Figure size 1000x2500 with 5 Axes>"
      ]
     },
     "metadata": {},
     "output_type": "display_data"
    }
   ],
   "source": [
    "t=1\n",
    "plt.figure(figsize=(10,25))\n",
    "for i in cat_cols:\n",
    "    plt.subplot(3,2,t)\n",
    "    sns.countplot(x=train_data[i])\n",
    "    t+=1\n",
    "\n",
    "plt.tight_layout()\n",
    "plt.show()"
   ]
  },
  {
   "cell_type": "code",
   "execution_count": null,
   "id": "bbd78345",
   "metadata": {},
   "outputs": [],
   "source": []
  },
  {
   "cell_type": "code",
   "execution_count": 13,
   "id": "3115059b",
   "metadata": {},
   "outputs": [
    {
     "data": {
      "text/plain": [
       "Index(['area_type', 'availability', 'location', 'size', 'society',\n",
       "       'total_sqft', 'bath', 'balcony', 'price'],\n",
       "      dtype='object')"
      ]
     },
     "execution_count": 13,
     "metadata": {},
     "output_type": "execute_result"
    }
   ],
   "source": [
    "# Explore the columns\n",
    "\n",
    "train_data.columns"
   ]
  },
  {
   "cell_type": "code",
   "execution_count": 14,
   "id": "d2bd2746",
   "metadata": {},
   "outputs": [
    {
     "data": {
      "text/plain": [
       "<Axes: xlabel='area_type'>"
      ]
     },
     "execution_count": 14,
     "metadata": {},
     "output_type": "execute_result"
    },
    {
     "data": {
      "image/png": "[encoded data removed]",
      "text/plain": [
       "<Figure size 640x480 with 1 Axes>"
      ]
     },
     "metadata": {},
     "output_type": "display_data"
    }
   ],
   "source": [
    "# Area Type\n",
    "\n",
    "train_data['area_type'].value_counts().plot(kind='bar')"
   ]
  },
  {
   "cell_type": "code",
   "execution_count": 15,
   "id": "d1c297a0",
   "metadata": {},
   "outputs": [
    {
     "data": {
      "text/plain": [
       "area_type\n",
       "Super built-up  Area    0.659910\n",
       "Built-up  Area          0.181532\n",
       "Plot  Area              0.152027\n",
       "Carpet  Area            0.006532\n",
       "Name: proportion, dtype: float64"
      ]
     },
     "execution_count": 15,
     "metadata": {},
     "output_type": "execute_result"
    }
   ],
   "source": [
    "train_data['area_type'].value_counts(normalize=True)"
   ]
  },
  {
   "cell_type": "markdown",
   "id": "5e4ca194",
   "metadata": {},
   "source": [
    "Top Area type is Superbuilt-up Area and it covers 65% of data\n",
    "Carpet Area is having less proportion in data\n",
    "\n"
   ]
  },
  {
   "cell_type": "code",
   "execution_count": 16,
   "id": "e2058fb9",
   "metadata": {},
   "outputs": [
    {
     "data": {
      "text/plain": [
       "array(['19-Dec', 'Ready To Move', '18-May', '18-Feb', '18-Nov', '20-Dec',\n",
       "       '17-Oct', '21-Dec', '19-Sep', '20-Sep', '18-Mar', '20-Feb',\n",
       "       '18-Apr', '20-Aug', '18-Oct', '19-Mar', '17-Sep', '18-Dec',\n",
       "       '17-Aug', '19-Apr', '18-Jun', '22-Dec', '22-Jan', '18-Aug',\n",
       "       '19-Jan', '17-Jul', '18-Jul', '21-Jun', '20-May', '19-Aug',\n",
       "       '18-Sep', '17-May', '17-Jun', '21-May', '18-Jan', '20-Mar',\n",
       "       '17-Dec', '16-Mar', '19-Jun', '22-Jun', '19-Jul', '21-Feb',\n",
       "       'Immediate Possession', '19-May', '17-Nov', '20-Oct', '20-Jun',\n",
       "       '19-Feb', '21-Oct', '21-Jan', '17-Mar', '17-Apr', '22-May',\n",
       "       '19-Oct', '21-Jul', '21-Nov', '21-Mar', '16-Dec', '22-Mar',\n",
       "       '20-Jan', '21-Sep', '21-Aug', '14-Nov', '19-Nov', '15-Nov',\n",
       "       '16-Jul', '15-Jun', '17-Feb', '20-Nov', '20-Jul', '16-Sep',\n",
       "       '15-Oct', '15-Dec', '16-Oct', '22-Nov', '15-Aug', '17-Jan',\n",
       "       '16-Nov', '20-Apr', '16-Jan', '14-Jul'], dtype=object)"
      ]
     },
     "execution_count": 16,
     "metadata": {},
     "output_type": "execute_result"
    }
   ],
   "source": [
    "# Availability\n",
    "\n",
    "train_data['availability'].unique()\n"
   ]
  },
  {
   "cell_type": "code",
   "execution_count": 17,
   "id": "c9a4f06c",
   "metadata": {},
   "outputs": [],
   "source": [
    "# We can remap this column by putting 1 for ready to move and 0 for others\n",
    "\n",
    "train_data['availability']=[1 if x=='Ready To Move' else 0 for x in train_data['availability']]"
   ]
  },
  {
   "cell_type": "code",
   "execution_count": 18,
   "id": "6cd7da74",
   "metadata": {},
   "outputs": [
    {
     "data": {
      "text/plain": [
       "<Axes: xlabel='availability'>"
      ]
     },
     "execution_count": 18,
     "metadata": {},
     "output_type": "execute_result"
    },
    {
     "data": {
      "image/png": "[encoded data removed]",
      "text/plain": [
       "<Figure size 640x480 with 1 Axes>"
      ]
     },
     "metadata": {},
     "output_type": "display_data"
    }
   ],
   "source": [
    "train_data['availability'].value_counts().plot(kind='bar')"
   ]
  },
  {
   "cell_type": "code",
   "execution_count": 19,
   "id": "19b7c872",
   "metadata": {},
   "outputs": [
    {
     "data": {
      "text/plain": [
       "location\n",
       "Whitefield                        540\n",
       "Sarjapur  Road                    399\n",
       "Electronic City                   302\n",
       "Kanakpura Road                    273\n",
       "Thanisandra                       234\n",
       "                                 ... \n",
       "Bapuji Layout                       1\n",
       "1st Stage Radha Krishna Layout      1\n",
       "BEML Layout 5th stage               1\n",
       "singapura paradise                  1\n",
       "Abshot Layout                       1\n",
       "Name: count, Length: 1305, dtype: int64"
      ]
     },
     "execution_count": 19,
     "metadata": {},
     "output_type": "execute_result"
    }
   ],
   "source": [
    "# Location\n",
    "\n",
    "train_data['location'].value_counts()\n"
   ]
  },
  {
   "cell_type": "code",
   "execution_count": 20,
   "id": "c973aca4",
   "metadata": {},
   "outputs": [
    {
     "data": {
      "text/plain": [
       "size\n",
       "2 BHK         5199\n",
       "3 BHK         4310\n",
       "4 Bedroom      826\n",
       "4 BHK          591\n",
       "3 Bedroom      547\n",
       "1 BHK          538\n",
       "2 Bedroom      329\n",
       "5 Bedroom      297\n",
       "6 Bedroom      191\n",
       "1 Bedroom      105\n",
       "8 Bedroom       84\n",
       "7 Bedroom       83\n",
       "5 BHK           59\n",
       "9 Bedroom       46\n",
       "6 BHK           30\n",
       "7 BHK           17\n",
       "1 RK            13\n",
       "10 Bedroom      12\n",
       "9 BHK            8\n",
       "8 BHK            5\n",
       "11 BHK           2\n",
       "11 Bedroom       2\n",
       "10 BHK           2\n",
       "14 BHK           1\n",
       "13 BHK           1\n",
       "12 Bedroom       1\n",
       "27 BHK           1\n",
       "43 Bedroom       1\n",
       "16 BHK           1\n",
       "19 BHK           1\n",
       "18 Bedroom       1\n",
       "Name: count, dtype: int64"
      ]
     },
     "execution_count": 20,
     "metadata": {},
     "output_type": "execute_result"
    }
   ],
   "source": [
    "# size\n",
    "\n",
    "train_data['size'].value_counts()"
   ]
  },
  {
   "cell_type": "code",
   "execution_count": 21,
   "id": "75ae1c18",
   "metadata": {},
   "outputs": [
    {
     "data": {
      "text/plain": [
       "array(['2 BHK', '4 Bedroom', '3 BHK', '4 BHK', '6 Bedroom', '3 Bedroom',\n",
       "       '1 BHK', '1 RK', '1 Bedroom', '8 Bedroom', '2 Bedroom',\n",
       "       '7 Bedroom', '5 BHK', '7 BHK', '6 BHK', '5 Bedroom', '11 BHK',\n",
       "       '9 BHK', nan, '9 Bedroom', '27 BHK', '10 Bedroom', '11 Bedroom',\n",
       "       '10 BHK', '19 BHK', '16 BHK', '43 Bedroom', '14 BHK', '8 BHK',\n",
       "       '12 Bedroom', '13 BHK', '18 Bedroom'], dtype=object)"
      ]
     },
     "execution_count": 21,
     "metadata": {},
     "output_type": "execute_result"
    }
   ],
   "source": [
    "train_data['size'].unique()"
   ]
  },
  {
   "cell_type": "code",
   "execution_count": 22,
   "id": "84401571",
   "metadata": {},
   "outputs": [],
   "source": [
    "def extract_bhk(x):\n",
    "    try:\n",
    "        bhk = int(x.split(' ')[0])\n",
    "        return bhk\n",
    "    except:\n",
    "        return np.nan"
   ]
  },
  {
   "cell_type": "code",
   "execution_count": 23,
   "id": "51a63d17",
   "metadata": {},
   "outputs": [],
   "source": [
    "train_data['size']=train_data['size'].apply(extract_bhk)"
   ]
  },
  {
   "cell_type": "code",
   "execution_count": 24,
   "id": "677054a7",
   "metadata": {},
   "outputs": [
    {
     "data": {
      "text/html": [
       "<div>\n",
       "<style scoped>\n",
       "    .dataframe tbody tr th:only-of-type {\n",
       "        vertical-align: middle;\n",
       "    }\n",
       "\n",
       "    .dataframe tbody tr th {\n",
       "        vertical-align: top;\n",
       "    }\n",
       "\n",
       "    .dataframe thead th {\n",
       "        text-align: right;\n",
       "    }\n",
       "</style>\n",
       "<table border=\"1\" class=\"dataframe\">\n",
       "  <thead>\n",
       "    <tr style=\"text-align: right;\">\n",
       "      <th></th>\n",
       "      <th>area_type</th>\n",
       "      <th>availability</th>\n",
       "      <th>location</th>\n",
       "      <th>size</th>\n",
       "      <th>society</th>\n",
       "      <th>total_sqft</th>\n",
       "      <th>bath</th>\n",
       "      <th>balcony</th>\n",
       "      <th>price</th>\n",
       "    </tr>\n",
       "  </thead>\n",
       "  <tbody>\n",
       "    <tr>\n",
       "      <th>0</th>\n",
       "      <td>Super built-up  Area</td>\n",
       "      <td>0</td>\n",
       "      <td>Electronic City Phase II</td>\n",
       "      <td>2.0</td>\n",
       "      <td>Coomee</td>\n",
       "      <td>1056</td>\n",
       "      <td>2.0</td>\n",
       "      <td>1.0</td>\n",
       "      <td>39.07</td>\n",
       "    </tr>\n",
       "    <tr>\n",
       "      <th>1</th>\n",
       "      <td>Plot  Area</td>\n",
       "      <td>1</td>\n",
       "      <td>Chikka Tirupathi</td>\n",
       "      <td>4.0</td>\n",
       "      <td>Theanmp</td>\n",
       "      <td>2600</td>\n",
       "      <td>5.0</td>\n",
       "      <td>3.0</td>\n",
       "      <td>120.00</td>\n",
       "    </tr>\n",
       "    <tr>\n",
       "      <th>2</th>\n",
       "      <td>Built-up  Area</td>\n",
       "      <td>1</td>\n",
       "      <td>Uttarahalli</td>\n",
       "      <td>3.0</td>\n",
       "      <td>NaN</td>\n",
       "      <td>1440</td>\n",
       "      <td>2.0</td>\n",
       "      <td>3.0</td>\n",
       "      <td>62.00</td>\n",
       "    </tr>\n",
       "    <tr>\n",
       "      <th>3</th>\n",
       "      <td>Super built-up  Area</td>\n",
       "      <td>1</td>\n",
       "      <td>Lingadheeranahalli</td>\n",
       "      <td>3.0</td>\n",
       "      <td>Soiewre</td>\n",
       "      <td>1521</td>\n",
       "      <td>3.0</td>\n",
       "      <td>1.0</td>\n",
       "      <td>95.00</td>\n",
       "    </tr>\n",
       "    <tr>\n",
       "      <th>4</th>\n",
       "      <td>Super built-up  Area</td>\n",
       "      <td>1</td>\n",
       "      <td>Kothanur</td>\n",
       "      <td>2.0</td>\n",
       "      <td>NaN</td>\n",
       "      <td>1200</td>\n",
       "      <td>2.0</td>\n",
       "      <td>1.0</td>\n",
       "      <td>51.00</td>\n",
       "    </tr>\n",
       "  </tbody>\n",
       "</table>\n",
       "</div>"
      ],
      "text/plain": [
       "              area_type  availability                  location  size  \\\n",
       "0  Super built-up  Area             0  Electronic City Phase II   2.0   \n",
       "1            Plot  Area             1          Chikka Tirupathi   4.0   \n",
       "2        Built-up  Area             1               Uttarahalli   3.0   \n",
       "3  Super built-up  Area             1        Lingadheeranahalli   3.0   \n",
       "4  Super built-up  Area             1                  Kothanur   2.0   \n",
       "\n",
       "   society total_sqft  bath  balcony   price  \n",
       "0  Coomee        1056   2.0      1.0   39.07  \n",
       "1  Theanmp       2600   5.0      3.0  120.00  \n",
       "2      NaN       1440   2.0      3.0   62.00  \n",
       "3  Soiewre       1521   3.0      1.0   95.00  \n",
       "4      NaN       1200   2.0      1.0   51.00  "
      ]
     },
     "execution_count": 24,
     "metadata": {},
     "output_type": "execute_result"
    }
   ],
   "source": [
    "train_data.head(5)"
   ]
  },
  {
   "cell_type": "code",
   "execution_count": 25,
   "id": "3340d3c7",
   "metadata": {},
   "outputs": [
    {
     "data": {
      "text/plain": [
       "array(['1056', '2600', '1440', ..., '1133 - 1384', '774', '4689'],\n",
       "      dtype=object)"
      ]
     },
     "execution_count": 25,
     "metadata": {},
     "output_type": "execute_result"
    }
   ],
   "source": [
    "train_data['total_sqft'].unique()"
   ]
  },
  {
   "cell_type": "code",
   "execution_count": 26,
   "id": "945aab3e",
   "metadata": {},
   "outputs": [],
   "source": [
    "def convert_sqft_to_num(x):\n",
    "    tokens = x.split('-')\n",
    "    if len(tokens) == 2:\n",
    "        return (float(tokens[0])+float(tokens[1]))/2\n",
    "    try:\n",
    "        return float(x.strip())\n",
    "    except:\n",
    "        return None"
   ]
  },
  {
   "cell_type": "code",
   "execution_count": 27,
   "id": "c22db019",
   "metadata": {},
   "outputs": [],
   "source": [
    "train_data['total_sqft'] = pd.to_numeric(train_data['total_sqft'], errors='coerce')"
   ]
  },
  {
   "cell_type": "code",
   "execution_count": 28,
   "id": "8a1c9bcf",
   "metadata": {},
   "outputs": [
    {
     "data": {
      "text/plain": [
       "area_type        object\n",
       "availability      int64\n",
       "location         object\n",
       "size            float64\n",
       "society          object\n",
       "total_sqft      float64\n",
       "bath            float64\n",
       "balcony         float64\n",
       "price           float64\n",
       "dtype: object"
      ]
     },
     "execution_count": 28,
     "metadata": {},
     "output_type": "execute_result"
    }
   ],
   "source": [
    "train_data.dtypes"
   ]
  },
  {
   "cell_type": "markdown",
   "id": "ee45e012",
   "metadata": {},
   "source": [
    "Numeric Columns"
   ]
  },
  {
   "cell_type": "code",
   "execution_count": 29,
   "id": "a3ec5530",
   "metadata": {
    "scrolled": false
   },
   "outputs": [
    {
     "data": {
      "image/png": "[encoded data removed]",
      "text/plain": [
       "<Figure size 1000x800 with 4 Axes>"
      ]
     },
     "metadata": {},
     "output_type": "display_data"
    }
   ],
   "source": [
    "t=1\n",
    "plt.figure(figsize=(10,8))\n",
    "\n",
    "for i in num_cols:\n",
    "    plt.subplot(2,2,t)\n",
    "    sns.distplot(x=train_data[i])\n",
    "    plt.title(i)\n",
    "    t+=1\n",
    "plt.tight_layout()\n",
    "plt.show()"
   ]
  },
  {
   "cell_type": "markdown",
   "id": "acb6787c",
   "metadata": {},
   "source": [
    "Bath,price has right skewed data. Most property has less bathroom and less price"
   ]
  },
  {
   "cell_type": "code",
   "execution_count": 30,
   "id": "81e7924e",
   "metadata": {
    "scrolled": false
   },
   "outputs": [
    {
     "data": {
      "image/png": "[encoded data removed]",
      "text/plain": [
       "<Figure size 1000x800 with 4 Axes>"
      ]
     },
     "metadata": {},
     "output_type": "display_data"
    }
   ],
   "source": [
    "# Check for outliers\n",
    "\n",
    "t=1\n",
    "plt.figure(figsize=(10,8))\n",
    "\n",
    "for i in num_cols:\n",
    "    plt.subplot(2,2,t)\n",
    "    sns.boxplot(x=train_data[i])\n",
    "    plt.title(i)\n",
    "    t+=1\n",
    "plt.tight_layout()\n",
    "plt.show()"
   ]
  },
  {
   "cell_type": "markdown",
   "id": "7ec8d16c",
   "metadata": {},
   "source": [
    "Balcony has no outliers while bath, price, total sqft has extreme outliers"
   ]
  },
  {
   "cell_type": "markdown",
   "id": "c5b89c0d",
   "metadata": {},
   "source": [
    "### Bivariate Analysis "
   ]
  },
  {
   "cell_type": "code",
   "execution_count": 31,
   "id": "ded99a68",
   "metadata": {},
   "outputs": [
    {
     "data": {
      "text/plain": [
       "<Axes: >"
      ]
     },
     "execution_count": 31,
     "metadata": {},
     "output_type": "execute_result"
    },
    {
     "data": {
      "image/png": "[encoded data removed]",
      "text/plain": [
       "<Figure size 640x480 with 2 Axes>"
      ]
     },
     "metadata": {},
     "output_type": "display_data"
    }
   ],
   "source": [
    "# Lets check correlation\n",
    "\n",
    "sns.heatmap(train_data.corr(numeric_only=True),annot=True,cmap='rainbow')"
   ]
  },
  {
   "cell_type": "markdown",
   "id": "d797970a",
   "metadata": {},
   "source": [
    "There is weak correlation in balcony and availabilty.\n",
    "Size and Total Sqft has high correlation with price"
   ]
  },
  {
   "cell_type": "code",
   "execution_count": 32,
   "id": "30bc9957",
   "metadata": {},
   "outputs": [
    {
     "data": {
      "text/plain": [
       "['area_type', 'availability', 'location', 'size', 'society']"
      ]
     },
     "execution_count": 32,
     "metadata": {},
     "output_type": "execute_result"
    }
   ],
   "source": [
    "cat_cols"
   ]
  },
  {
   "cell_type": "code",
   "execution_count": 33,
   "id": "605d7ce0",
   "metadata": {},
   "outputs": [
    {
     "data": {
      "image/png": "[encoded data removed]",
      "text/plain": [
       "<Figure size 640x480 with 1 Axes>"
      ]
     },
     "metadata": {},
     "output_type": "display_data"
    }
   ],
   "source": [
    "# Lets explore effect of areatype in price\n",
    "\n",
    "sns.boxplot(x=train_data['area_type'],y=train_data['price'])\n",
    "plt.show()"
   ]
  },
  {
   "cell_type": "code",
   "execution_count": 34,
   "id": "2b346d69",
   "metadata": {},
   "outputs": [],
   "source": [
    "from scipy.stats import shapiro,jarque_bera,kruskal\n",
    "from scipy import stats"
   ]
  },
  {
   "cell_type": "code",
   "execution_count": 35,
   "id": "21f14938",
   "metadata": {},
   "outputs": [
    {
     "data": {
      "text/plain": [
       "SignificanceResult(statistic=6632915.949139312, pvalue=0.0)"
      ]
     },
     "execution_count": 35,
     "metadata": {},
     "output_type": "execute_result"
    }
   ],
   "source": [
    "# H0: Data is normal\n",
    "# Ha: Data is not normal\n",
    "jarque_bera(train_data['price'])"
   ]
  },
  {
   "cell_type": "code",
   "execution_count": 36,
   "id": "f5d0734d",
   "metadata": {},
   "outputs": [],
   "source": [
    "# The data is not normal we should go with non parametric kruaskal test\n",
    "\n",
    "# H0: Airline has no effect on Price\n",
    "# Ha: Atleast one airline has different price\n",
    "\n",
    "sam=[]\n",
    "for i in ['Super built-up  Area', 'Plot  Area','Built-up  Area','Carpet  Area']:\n",
    "    s=train_data[train_data['area_type']==i]['price']\n",
    "    sam.append(s)"
   ]
  },
  {
   "cell_type": "code",
   "execution_count": 37,
   "id": "3d290f0b",
   "metadata": {},
   "outputs": [
    {
     "data": {
      "text/plain": [
       "KruskalResult(statistic=1491.5655775623948, pvalue=0.0)"
      ]
     },
     "execution_count": 37,
     "metadata": {},
     "output_type": "execute_result"
    }
   ],
   "source": [
    "kruskal(sam[0],sam[1],sam[2],sam[3])"
   ]
  },
  {
   "cell_type": "code",
   "execution_count": 38,
   "id": "e34d296d",
   "metadata": {},
   "outputs": [
    {
     "data": {
      "text/plain": [
       "Index(['area_type', 'availability', 'location', 'size', 'society',\n",
       "       'total_sqft', 'bath', 'balcony', 'price'],\n",
       "      dtype='object')"
      ]
     },
     "execution_count": 38,
     "metadata": {},
     "output_type": "execute_result"
    }
   ],
   "source": [
    "train_data.columns"
   ]
  },
  {
   "cell_type": "code",
   "execution_count": 39,
   "id": "1b15011c",
   "metadata": {},
   "outputs": [
    {
     "data": {
      "text/plain": [
       "<Axes: xlabel='availability', ylabel='price'>"
      ]
     },
     "execution_count": 39,
     "metadata": {},
     "output_type": "execute_result"
    },
    {
     "data": {
      "image/png": "[encoded data removed]",
      "text/plain": [
       "<Figure size 640x480 with 1 Axes>"
      ]
     },
     "metadata": {},
     "output_type": "display_data"
    }
   ],
   "source": [
    "# Lets explore availability with price\n",
    "\n",
    "sns.boxplot(x=train_data['availability'],y=train_data['price'])"
   ]
  },
  {
   "cell_type": "code",
   "execution_count": 40,
   "id": "72e7e9bd",
   "metadata": {},
   "outputs": [
    {
     "data": {
      "text/plain": [
       "array([0, 1], dtype=int64)"
      ]
     },
     "execution_count": 40,
     "metadata": {},
     "output_type": "execute_result"
    }
   ],
   "source": [
    "train_data['availability'].unique()"
   ]
  },
  {
   "cell_type": "code",
   "execution_count": 41,
   "id": "ee545afe",
   "metadata": {},
   "outputs": [],
   "source": [
    "sam=[]\n",
    "for i in [0,1]:\n",
    "    s=train_data[train_data['availability']==i]['price']\n",
    "    sam.append(s)"
   ]
  },
  {
   "cell_type": "code",
   "execution_count": 42,
   "id": "45f50131",
   "metadata": {},
   "outputs": [
    {
     "data": {
      "text/plain": [
       "F_onewayResult(statistic=15.854923871722244, pvalue=6.87516155584131e-05)"
      ]
     },
     "execution_count": 42,
     "metadata": {},
     "output_type": "execute_result"
    }
   ],
   "source": [
    "# H0: All group mean are same\n",
    "# Ha: At least one group mean is different from the others\n",
    "\n",
    "stats.f_oneway(sam[0],sam[1])"
   ]
  },
  {
   "cell_type": "raw",
   "id": "ff384a8b",
   "metadata": {},
   "source": [
    "we reject the null hypthosis "
   ]
  },
  {
   "cell_type": "code",
   "execution_count": 43,
   "id": "b251c9e3",
   "metadata": {},
   "outputs": [
    {
     "data": {
      "image/png": "[encoded data removed]",
      "text/plain": [
       "<Figure size 640x480 with 1 Axes>"
      ]
     },
     "metadata": {},
     "output_type": "display_data"
    },
    {
     "data": {
      "image/png": "[encoded data removed]",
      "text/plain": [
       "<Figure size 640x480 with 1 Axes>"
      ]
     },
     "metadata": {},
     "output_type": "display_data"
    },
    {
     "data": {
      "image/png": "[encoded data removed]",
      "text/plain": [
       "<Figure size 640x480 with 1 Axes>"
      ]
     },
     "metadata": {},
     "output_type": "display_data"
    }
   ],
   "source": [
    "# all cat cols\n",
    "\n",
    "for i in ['location','size','society']:\n",
    "    sns.boxplot(x=train_data[i],y=train_data['price'])\n",
    "    plt.show()"
   ]
  },
  {
   "cell_type": "code",
   "execution_count": null,
   "id": "c75f2587",
   "metadata": {},
   "outputs": [],
   "source": []
  },
  {
   "cell_type": "markdown",
   "id": "2be5c521",
   "metadata": {},
   "source": [
    "### Data Preprocessing "
   ]
  },
  {
   "cell_type": "code",
   "execution_count": 44,
   "id": "c9e91390",
   "metadata": {},
   "outputs": [],
   "source": [
    "data=pd.concat([train_data,test_data],axis=0)"
   ]
  },
  {
   "cell_type": "code",
   "execution_count": 45,
   "id": "b92b087d",
   "metadata": {},
   "outputs": [
    {
     "data": {
      "text/plain": [
       "(14800, 9)"
      ]
     },
     "execution_count": 45,
     "metadata": {},
     "output_type": "execute_result"
    }
   ],
   "source": [
    "data.shape"
   ]
  },
  {
   "cell_type": "code",
   "execution_count": 46,
   "id": "9831a9e0",
   "metadata": {},
   "outputs": [
    {
     "data": {
      "text/plain": [
       "area_type          0\n",
       "availability       0\n",
       "location           1\n",
       "size              18\n",
       "society         6128\n",
       "total_sqft       247\n",
       "bath              80\n",
       "balcony          678\n",
       "price           1480\n",
       "dtype: int64"
      ]
     },
     "execution_count": 46,
     "metadata": {},
     "output_type": "execute_result"
    }
   ],
   "source": [
    "# Check the missing for values\n",
    "\n",
    "data.isnull().sum()"
   ]
  },
  {
   "cell_type": "code",
   "execution_count": 47,
   "id": "b817f477",
   "metadata": {},
   "outputs": [
    {
     "data": {
      "text/html": [
       "<div>\n",
       "<style scoped>\n",
       "    .dataframe tbody tr th:only-of-type {\n",
       "        vertical-align: middle;\n",
       "    }\n",
       "\n",
       "    .dataframe tbody tr th {\n",
       "        vertical-align: top;\n",
       "    }\n",
       "\n",
       "    .dataframe thead th {\n",
       "        text-align: right;\n",
       "    }\n",
       "</style>\n",
       "<table border=\"1\" class=\"dataframe\">\n",
       "  <thead>\n",
       "    <tr style=\"text-align: right;\">\n",
       "      <th></th>\n",
       "      <th>area_type</th>\n",
       "      <th>availability</th>\n",
       "      <th>location</th>\n",
       "      <th>size</th>\n",
       "      <th>society</th>\n",
       "      <th>total_sqft</th>\n",
       "      <th>bath</th>\n",
       "      <th>balcony</th>\n",
       "      <th>price</th>\n",
       "    </tr>\n",
       "  </thead>\n",
       "  <tbody>\n",
       "    <tr>\n",
       "      <th>56</th>\n",
       "      <td>Built-up  Area</td>\n",
       "      <td>0</td>\n",
       "      <td>Devanahalli</td>\n",
       "      <td>4.0</td>\n",
       "      <td>BrereAt</td>\n",
       "      <td>NaN</td>\n",
       "      <td>NaN</td>\n",
       "      <td>NaN</td>\n",
       "      <td>192.000</td>\n",
       "    </tr>\n",
       "    <tr>\n",
       "      <th>81</th>\n",
       "      <td>Built-up  Area</td>\n",
       "      <td>0</td>\n",
       "      <td>Hennur Road</td>\n",
       "      <td>4.0</td>\n",
       "      <td>Gollela</td>\n",
       "      <td>NaN</td>\n",
       "      <td>NaN</td>\n",
       "      <td>NaN</td>\n",
       "      <td>224.500</td>\n",
       "    </tr>\n",
       "    <tr>\n",
       "      <th>224</th>\n",
       "      <td>Super built-up  Area</td>\n",
       "      <td>0</td>\n",
       "      <td>Devanahalli</td>\n",
       "      <td>3.0</td>\n",
       "      <td>Jurdsig</td>\n",
       "      <td>NaN</td>\n",
       "      <td>NaN</td>\n",
       "      <td>NaN</td>\n",
       "      <td>74.820</td>\n",
       "    </tr>\n",
       "    <tr>\n",
       "      <th>344</th>\n",
       "      <td>Super built-up  Area</td>\n",
       "      <td>0</td>\n",
       "      <td>Kanakpura Road</td>\n",
       "      <td>1.0</td>\n",
       "      <td>PrarePa</td>\n",
       "      <td>525.0</td>\n",
       "      <td>NaN</td>\n",
       "      <td>NaN</td>\n",
       "      <td>21.530</td>\n",
       "    </tr>\n",
       "    <tr>\n",
       "      <th>579</th>\n",
       "      <td>Plot  Area</td>\n",
       "      <td>0</td>\n",
       "      <td>Sarjapur  Road</td>\n",
       "      <td>NaN</td>\n",
       "      <td>Asiss B</td>\n",
       "      <td>NaN</td>\n",
       "      <td>NaN</td>\n",
       "      <td>NaN</td>\n",
       "      <td>34.185</td>\n",
       "    </tr>\n",
       "    <tr>\n",
       "      <th>...</th>\n",
       "      <td>...</td>\n",
       "      <td>...</td>\n",
       "      <td>...</td>\n",
       "      <td>...</td>\n",
       "      <td>...</td>\n",
       "      <td>...</td>\n",
       "      <td>...</td>\n",
       "      <td>...</td>\n",
       "      <td>...</td>\n",
       "    </tr>\n",
       "    <tr>\n",
       "      <th>817</th>\n",
       "      <td>Super built-up  Area</td>\n",
       "      <td>19-Dec</td>\n",
       "      <td>Binny Pete</td>\n",
       "      <td>4 BHK</td>\n",
       "      <td>Shestlo</td>\n",
       "      <td>2695 - 2940</td>\n",
       "      <td>NaN</td>\n",
       "      <td>NaN</td>\n",
       "      <td>NaN</td>\n",
       "    </tr>\n",
       "    <tr>\n",
       "      <th>1155</th>\n",
       "      <td>Super built-up  Area</td>\n",
       "      <td>18-Nov</td>\n",
       "      <td>Thanisandra</td>\n",
       "      <td>4 BHK</td>\n",
       "      <td>Bhe 2ko</td>\n",
       "      <td>2259</td>\n",
       "      <td>NaN</td>\n",
       "      <td>NaN</td>\n",
       "      <td>NaN</td>\n",
       "    </tr>\n",
       "    <tr>\n",
       "      <th>1160</th>\n",
       "      <td>Plot  Area</td>\n",
       "      <td>Immediate Possession</td>\n",
       "      <td>Hosa Road</td>\n",
       "      <td>NaN</td>\n",
       "      <td>MSodsGr</td>\n",
       "      <td>600 - 4000</td>\n",
       "      <td>NaN</td>\n",
       "      <td>NaN</td>\n",
       "      <td>NaN</td>\n",
       "    </tr>\n",
       "    <tr>\n",
       "      <th>1231</th>\n",
       "      <td>Super built-up  Area</td>\n",
       "      <td>19-Dec</td>\n",
       "      <td>Binny Pete</td>\n",
       "      <td>4 BHK</td>\n",
       "      <td>Shestlo</td>\n",
       "      <td>2695 - 2940</td>\n",
       "      <td>NaN</td>\n",
       "      <td>NaN</td>\n",
       "      <td>NaN</td>\n",
       "    </tr>\n",
       "    <tr>\n",
       "      <th>1292</th>\n",
       "      <td>Built-up  Area</td>\n",
       "      <td>19-Dec</td>\n",
       "      <td>Gottigere</td>\n",
       "      <td>4 Bedroom</td>\n",
       "      <td>Rarkkod</td>\n",
       "      <td>2563 - 3914</td>\n",
       "      <td>NaN</td>\n",
       "      <td>NaN</td>\n",
       "      <td>NaN</td>\n",
       "    </tr>\n",
       "  </tbody>\n",
       "</table>\n",
       "<p>80 rows × 9 columns</p>\n",
       "</div>"
      ],
      "text/plain": [
       "                 area_type          availability        location       size  \\\n",
       "56          Built-up  Area                     0     Devanahalli        4.0   \n",
       "81          Built-up  Area                     0     Hennur Road        4.0   \n",
       "224   Super built-up  Area                     0     Devanahalli        3.0   \n",
       "344   Super built-up  Area                     0  Kanakpura Road        1.0   \n",
       "579             Plot  Area                     0  Sarjapur  Road        NaN   \n",
       "...                    ...                   ...             ...        ...   \n",
       "817   Super built-up  Area                19-Dec      Binny Pete      4 BHK   \n",
       "1155  Super built-up  Area                18-Nov     Thanisandra      4 BHK   \n",
       "1160            Plot  Area  Immediate Possession       Hosa Road        NaN   \n",
       "1231  Super built-up  Area                19-Dec      Binny Pete      4 BHK   \n",
       "1292        Built-up  Area                19-Dec       Gottigere  4 Bedroom   \n",
       "\n",
       "      society   total_sqft  bath  balcony    price  \n",
       "56    BrereAt          NaN   NaN      NaN  192.000  \n",
       "81    Gollela          NaN   NaN      NaN  224.500  \n",
       "224   Jurdsig          NaN   NaN      NaN   74.820  \n",
       "344   PrarePa        525.0   NaN      NaN   21.530  \n",
       "579   Asiss B          NaN   NaN      NaN   34.185  \n",
       "...       ...          ...   ...      ...      ...  \n",
       "817   Shestlo  2695 - 2940   NaN      NaN      NaN  \n",
       "1155  Bhe 2ko         2259   NaN      NaN      NaN  \n",
       "1160  MSodsGr   600 - 4000   NaN      NaN      NaN  \n",
       "1231  Shestlo  2695 - 2940   NaN      NaN      NaN  \n",
       "1292  Rarkkod  2563 - 3914   NaN      NaN      NaN  \n",
       "\n",
       "[80 rows x 9 columns]"
      ]
     },
     "execution_count": 47,
     "metadata": {},
     "output_type": "execute_result"
    }
   ],
   "source": [
    "data[data['bath'].isnull()]"
   ]
  },
  {
   "cell_type": "code",
   "execution_count": 48,
   "id": "f5cb66eb",
   "metadata": {},
   "outputs": [
    {
     "data": {
      "text/plain": [
       "area_type        object\n",
       "availability     object\n",
       "location         object\n",
       "size             object\n",
       "society          object\n",
       "total_sqft       object\n",
       "bath            float64\n",
       "balcony         float64\n",
       "price           float64\n",
       "dtype: object"
      ]
     },
     "execution_count": 48,
     "metadata": {},
     "output_type": "execute_result"
    }
   ],
   "source": [
    "data.dtypes"
   ]
  },
  {
   "cell_type": "code",
   "execution_count": 49,
   "id": "69232b5d",
   "metadata": {},
   "outputs": [],
   "source": [
    "# There is only 1 null value in location so we can drop the rows\n",
    "\n",
    "data.drop(index=568,inplace=True)"
   ]
  },
  {
   "cell_type": "code",
   "execution_count": 50,
   "id": "72d19430",
   "metadata": {},
   "outputs": [],
   "source": [
    "def convert_to_float(s):\n",
    "    if isinstance(s, str):\n",
    "        parts = s.split('-')\n",
    "        if len(parts) == 2:\n",
    "            try:\n",
    "                return (float(parts[0].strip()) + float(parts[1].strip())) / 2\n",
    "            except ValueError:\n",
    "                return np.nan\n",
    "        else:\n",
    "            try:\n",
    "                return float(s.strip())\n",
    "            except ValueError:\n",
    "                return np.nan\n",
    "    else:\n",
    "        return np.nan\n",
    "\n",
    "\n",
    "data['total_sqft'] = data['total_sqft'].apply(convert_to_float)"
   ]
  },
  {
   "cell_type": "code",
   "execution_count": 51,
   "id": "ba2924f5",
   "metadata": {},
   "outputs": [],
   "source": [
    "\n",
    "\n",
    "\n",
    "data['size']=data['size'].fillna(data['size'].mode()[0])\n",
    "data['society']=data['society'].fillna(data['society'].mode()[0])\n",
    "data['total_sqft']=data['total_sqft'].fillna(data['total_sqft'].median())\n",
    "data['bath']=data['bath'].fillna(data['bath'].median())\n",
    "data['balcony']=data['balcony'].fillna(data['balcony'].median())\n",
    "\n"
   ]
  },
  {
   "cell_type": "code",
   "execution_count": 52,
   "id": "a7d9f7d5",
   "metadata": {},
   "outputs": [
    {
     "data": {
      "text/plain": [
       "area_type          0\n",
       "availability       0\n",
       "location           0\n",
       "size               0\n",
       "society            0\n",
       "total_sqft         0\n",
       "bath               0\n",
       "balcony            0\n",
       "price           1479\n",
       "dtype: int64"
      ]
     },
     "execution_count": 52,
     "metadata": {},
     "output_type": "execute_result"
    }
   ],
   "source": [
    "# Since we have treated the missing values, lets check\n",
    "# 1479 missing values for price we are not treating it because we have to predict this column\n",
    "data.isnull().sum()"
   ]
  },
  {
   "cell_type": "code",
   "execution_count": 53,
   "id": "d812ff9d",
   "metadata": {},
   "outputs": [],
   "source": [
    "# So we are not treating outliers will try if not get good score"
   ]
  },
  {
   "cell_type": "markdown",
   "id": "7de918b8",
   "metadata": {},
   "source": [
    "### Feature enginnering"
   ]
  },
  {
   "cell_type": "code",
   "execution_count": 54,
   "id": "cf62a9e3",
   "metadata": {},
   "outputs": [
    {
     "data": {
      "text/plain": [
       "area_type\n",
       "Super built-up  Area    9735\n",
       "Built-up  Area          2687\n",
       "Plot  Area              2279\n",
       "Carpet  Area              97\n",
       "Name: count, dtype: int64"
      ]
     },
     "execution_count": 54,
     "metadata": {},
     "output_type": "execute_result"
    }
   ],
   "source": [
    "data['area_type'].value_counts()"
   ]
  },
  {
   "cell_type": "code",
   "execution_count": 55,
   "id": "ec89fbb8",
   "metadata": {},
   "outputs": [],
   "source": [
    "are_d=pd.get_dummies(data['area_type'],drop_first=True,dtype=int)"
   ]
  },
  {
   "cell_type": "code",
   "execution_count": 56,
   "id": "0eefd75d",
   "metadata": {},
   "outputs": [],
   "source": [
    "data = pd.concat([data, are_d], axis=1)"
   ]
  },
  {
   "cell_type": "code",
   "execution_count": 57,
   "id": "506c28ac",
   "metadata": {},
   "outputs": [],
   "source": [
    "data.drop(columns='area_type',inplace=True)"
   ]
  },
  {
   "cell_type": "code",
   "execution_count": 58,
   "id": "01ca56fd",
   "metadata": {},
   "outputs": [
    {
     "data": {
      "text/html": [
       "<div>\n",
       "<style scoped>\n",
       "    .dataframe tbody tr th:only-of-type {\n",
       "        vertical-align: middle;\n",
       "    }\n",
       "\n",
       "    .dataframe tbody tr th {\n",
       "        vertical-align: top;\n",
       "    }\n",
       "\n",
       "    .dataframe thead th {\n",
       "        text-align: right;\n",
       "    }\n",
       "</style>\n",
       "<table border=\"1\" class=\"dataframe\">\n",
       "  <thead>\n",
       "    <tr style=\"text-align: right;\">\n",
       "      <th></th>\n",
       "      <th>availability</th>\n",
       "      <th>location</th>\n",
       "      <th>size</th>\n",
       "      <th>society</th>\n",
       "      <th>total_sqft</th>\n",
       "      <th>bath</th>\n",
       "      <th>balcony</th>\n",
       "      <th>price</th>\n",
       "      <th>Carpet  Area</th>\n",
       "      <th>Plot  Area</th>\n",
       "      <th>Super built-up  Area</th>\n",
       "    </tr>\n",
       "  </thead>\n",
       "  <tbody>\n",
       "    <tr>\n",
       "      <th>0</th>\n",
       "      <td>0</td>\n",
       "      <td>Electronic City Phase II</td>\n",
       "      <td>2.0</td>\n",
       "      <td>Coomee</td>\n",
       "      <td>1301.0</td>\n",
       "      <td>2.0</td>\n",
       "      <td>1.0</td>\n",
       "      <td>39.07</td>\n",
       "      <td>0</td>\n",
       "      <td>0</td>\n",
       "      <td>1</td>\n",
       "    </tr>\n",
       "    <tr>\n",
       "      <th>1</th>\n",
       "      <td>1</td>\n",
       "      <td>Chikka Tirupathi</td>\n",
       "      <td>4.0</td>\n",
       "      <td>Theanmp</td>\n",
       "      <td>1301.0</td>\n",
       "      <td>5.0</td>\n",
       "      <td>3.0</td>\n",
       "      <td>120.00</td>\n",
       "      <td>0</td>\n",
       "      <td>1</td>\n",
       "      <td>0</td>\n",
       "    </tr>\n",
       "    <tr>\n",
       "      <th>2</th>\n",
       "      <td>1</td>\n",
       "      <td>Uttarahalli</td>\n",
       "      <td>3.0</td>\n",
       "      <td>GrrvaGr</td>\n",
       "      <td>1301.0</td>\n",
       "      <td>2.0</td>\n",
       "      <td>3.0</td>\n",
       "      <td>62.00</td>\n",
       "      <td>0</td>\n",
       "      <td>0</td>\n",
       "      <td>0</td>\n",
       "    </tr>\n",
       "    <tr>\n",
       "      <th>3</th>\n",
       "      <td>1</td>\n",
       "      <td>Lingadheeranahalli</td>\n",
       "      <td>3.0</td>\n",
       "      <td>Soiewre</td>\n",
       "      <td>1301.0</td>\n",
       "      <td>3.0</td>\n",
       "      <td>1.0</td>\n",
       "      <td>95.00</td>\n",
       "      <td>0</td>\n",
       "      <td>0</td>\n",
       "      <td>1</td>\n",
       "    </tr>\n",
       "    <tr>\n",
       "      <th>4</th>\n",
       "      <td>1</td>\n",
       "      <td>Kothanur</td>\n",
       "      <td>2.0</td>\n",
       "      <td>GrrvaGr</td>\n",
       "      <td>1301.0</td>\n",
       "      <td>2.0</td>\n",
       "      <td>1.0</td>\n",
       "      <td>51.00</td>\n",
       "      <td>0</td>\n",
       "      <td>0</td>\n",
       "      <td>1</td>\n",
       "    </tr>\n",
       "  </tbody>\n",
       "</table>\n",
       "</div>"
      ],
      "text/plain": [
       "  availability                  location size  society  total_sqft  bath  \\\n",
       "0            0  Electronic City Phase II  2.0  Coomee       1301.0   2.0   \n",
       "1            1          Chikka Tirupathi  4.0  Theanmp      1301.0   5.0   \n",
       "2            1               Uttarahalli  3.0  GrrvaGr      1301.0   2.0   \n",
       "3            1        Lingadheeranahalli  3.0  Soiewre      1301.0   3.0   \n",
       "4            1                  Kothanur  2.0  GrrvaGr      1301.0   2.0   \n",
       "\n",
       "   balcony   price  Carpet  Area  Plot  Area  Super built-up  Area  \n",
       "0      1.0   39.07             0           0                     1  \n",
       "1      3.0  120.00             0           1                     0  \n",
       "2      3.0   62.00             0           0                     0  \n",
       "3      1.0   95.00             0           0                     1  \n",
       "4      1.0   51.00             0           0                     1  "
      ]
     },
     "execution_count": 58,
     "metadata": {},
     "output_type": "execute_result"
    }
   ],
   "source": [
    "data.head(5)"
   ]
  },
  {
   "cell_type": "code",
   "execution_count": 59,
   "id": "1299edac",
   "metadata": {},
   "outputs": [
    {
     "data": {
      "text/plain": [
       "location\n",
       "Whitefield                                  591\n",
       "Sarjapur  Road                              437\n",
       "Electronic City                             337\n",
       "Kanakpura Road                              298\n",
       "Thanisandra                                 277\n",
       "                                           ... \n",
       "Mullur                                        1\n",
       "Viswapriyanagar.begur Road.bommanahalli.      1\n",
       "Venkateshpuram                                1\n",
       "T K Reddy Layout                              1\n",
       "Vishweswaraiah Layout 4th Block               1\n",
       "Name: count, Length: 1357, dtype: int64"
      ]
     },
     "execution_count": 59,
     "metadata": {},
     "output_type": "execute_result"
    }
   ],
   "source": [
    "data['location'].value_counts()"
   ]
  },
  {
   "cell_type": "code",
   "execution_count": 60,
   "id": "d9e8954b",
   "metadata": {},
   "outputs": [],
   "source": [
    "from sklearn.preprocessing import LabelEncoder"
   ]
  },
  {
   "cell_type": "code",
   "execution_count": 61,
   "id": "238e7883",
   "metadata": {},
   "outputs": [],
   "source": [
    "le=LabelEncoder()\n",
    "data['location']=le.fit_transform(pd.DataFrame(data['location']))"
   ]
  },
  {
   "cell_type": "code",
   "execution_count": 62,
   "id": "f7fed521",
   "metadata": {},
   "outputs": [
    {
     "data": {
      "text/html": [
       "<div>\n",
       "<style scoped>\n",
       "    .dataframe tbody tr th:only-of-type {\n",
       "        vertical-align: middle;\n",
       "    }\n",
       "\n",
       "    .dataframe tbody tr th {\n",
       "        vertical-align: top;\n",
       "    }\n",
       "\n",
       "    .dataframe thead th {\n",
       "        text-align: right;\n",
       "    }\n",
       "</style>\n",
       "<table border=\"1\" class=\"dataframe\">\n",
       "  <thead>\n",
       "    <tr style=\"text-align: right;\">\n",
       "      <th></th>\n",
       "      <th>availability</th>\n",
       "      <th>location</th>\n",
       "      <th>size</th>\n",
       "      <th>society</th>\n",
       "      <th>total_sqft</th>\n",
       "      <th>bath</th>\n",
       "      <th>balcony</th>\n",
       "      <th>price</th>\n",
       "      <th>Carpet  Area</th>\n",
       "      <th>Plot  Area</th>\n",
       "      <th>Super built-up  Area</th>\n",
       "    </tr>\n",
       "  </thead>\n",
       "  <tbody>\n",
       "    <tr>\n",
       "      <th>0</th>\n",
       "      <td>0</td>\n",
       "      <td>430</td>\n",
       "      <td>2.0</td>\n",
       "      <td>Coomee</td>\n",
       "      <td>1301.0</td>\n",
       "      <td>2.0</td>\n",
       "      <td>1.0</td>\n",
       "      <td>39.07</td>\n",
       "      <td>0</td>\n",
       "      <td>0</td>\n",
       "      <td>1</td>\n",
       "    </tr>\n",
       "    <tr>\n",
       "      <th>1</th>\n",
       "      <td>1</td>\n",
       "      <td>325</td>\n",
       "      <td>4.0</td>\n",
       "      <td>Theanmp</td>\n",
       "      <td>1301.0</td>\n",
       "      <td>5.0</td>\n",
       "      <td>3.0</td>\n",
       "      <td>120.00</td>\n",
       "      <td>0</td>\n",
       "      <td>1</td>\n",
       "      <td>0</td>\n",
       "    </tr>\n",
       "    <tr>\n",
       "      <th>2</th>\n",
       "      <td>1</td>\n",
       "      <td>1218</td>\n",
       "      <td>3.0</td>\n",
       "      <td>GrrvaGr</td>\n",
       "      <td>1301.0</td>\n",
       "      <td>2.0</td>\n",
       "      <td>3.0</td>\n",
       "      <td>62.00</td>\n",
       "      <td>0</td>\n",
       "      <td>0</td>\n",
       "      <td>0</td>\n",
       "    </tr>\n",
       "    <tr>\n",
       "      <th>3</th>\n",
       "      <td>1</td>\n",
       "      <td>778</td>\n",
       "      <td>3.0</td>\n",
       "      <td>Soiewre</td>\n",
       "      <td>1301.0</td>\n",
       "      <td>3.0</td>\n",
       "      <td>1.0</td>\n",
       "      <td>95.00</td>\n",
       "      <td>0</td>\n",
       "      <td>0</td>\n",
       "      <td>1</td>\n",
       "    </tr>\n",
       "    <tr>\n",
       "      <th>4</th>\n",
       "      <td>1</td>\n",
       "      <td>736</td>\n",
       "      <td>2.0</td>\n",
       "      <td>GrrvaGr</td>\n",
       "      <td>1301.0</td>\n",
       "      <td>2.0</td>\n",
       "      <td>1.0</td>\n",
       "      <td>51.00</td>\n",
       "      <td>0</td>\n",
       "      <td>0</td>\n",
       "      <td>1</td>\n",
       "    </tr>\n",
       "  </tbody>\n",
       "</table>\n",
       "</div>"
      ],
      "text/plain": [
       "  availability  location size  society  total_sqft  bath  balcony   price  \\\n",
       "0            0       430  2.0  Coomee       1301.0   2.0      1.0   39.07   \n",
       "1            1       325  4.0  Theanmp      1301.0   5.0      3.0  120.00   \n",
       "2            1      1218  3.0  GrrvaGr      1301.0   2.0      3.0   62.00   \n",
       "3            1       778  3.0  Soiewre      1301.0   3.0      1.0   95.00   \n",
       "4            1       736  2.0  GrrvaGr      1301.0   2.0      1.0   51.00   \n",
       "\n",
       "   Carpet  Area  Plot  Area  Super built-up  Area  \n",
       "0             0           0                     1  \n",
       "1             0           1                     0  \n",
       "2             0           0                     0  \n",
       "3             0           0                     1  \n",
       "4             0           0                     1  "
      ]
     },
     "execution_count": 62,
     "metadata": {},
     "output_type": "execute_result"
    }
   ],
   "source": [
    "data.head(5)"
   ]
  },
  {
   "cell_type": "code",
   "execution_count": 63,
   "id": "f59c8e40",
   "metadata": {},
   "outputs": [
    {
     "data": {
      "text/plain": [
       "society\n",
       "GrrvaGr    6220\n",
       "PrarePa      78\n",
       "Prtates      64\n",
       "Bhmesy       63\n",
       "Sryalan      63\n",
       "           ... \n",
       "DSapete       1\n",
       "Matrai        1\n",
       "SrentAp       1\n",
       "Saowsou       1\n",
       "MaicaRS       1\n",
       "Name: count, Length: 2831, dtype: int64"
      ]
     },
     "execution_count": 63,
     "metadata": {},
     "output_type": "execute_result"
    }
   ],
   "source": [
    "data['society'].value_counts()"
   ]
  },
  {
   "cell_type": "code",
   "execution_count": 64,
   "id": "1379e928",
   "metadata": {},
   "outputs": [],
   "source": [
    "fre=data['society'].value_counts(normalize=True)"
   ]
  },
  {
   "cell_type": "code",
   "execution_count": 65,
   "id": "47f6b1e8",
   "metadata": {},
   "outputs": [],
   "source": [
    "data['society']=data['society'].map(fre)"
   ]
  },
  {
   "cell_type": "code",
   "execution_count": 66,
   "id": "b2427de3",
   "metadata": {},
   "outputs": [
    {
     "data": {
      "text/html": [
       "<div>\n",
       "<style scoped>\n",
       "    .dataframe tbody tr th:only-of-type {\n",
       "        vertical-align: middle;\n",
       "    }\n",
       "\n",
       "    .dataframe tbody tr th {\n",
       "        vertical-align: top;\n",
       "    }\n",
       "\n",
       "    .dataframe thead th {\n",
       "        text-align: right;\n",
       "    }\n",
       "</style>\n",
       "<table border=\"1\" class=\"dataframe\">\n",
       "  <thead>\n",
       "    <tr style=\"text-align: right;\">\n",
       "      <th></th>\n",
       "      <th>availability</th>\n",
       "      <th>location</th>\n",
       "      <th>size</th>\n",
       "      <th>society</th>\n",
       "      <th>total_sqft</th>\n",
       "      <th>bath</th>\n",
       "      <th>balcony</th>\n",
       "      <th>price</th>\n",
       "      <th>Carpet  Area</th>\n",
       "      <th>Plot  Area</th>\n",
       "      <th>Super built-up  Area</th>\n",
       "    </tr>\n",
       "  </thead>\n",
       "  <tbody>\n",
       "    <tr>\n",
       "      <th>0</th>\n",
       "      <td>0</td>\n",
       "      <td>430</td>\n",
       "      <td>2.0</td>\n",
       "      <td>0.000338</td>\n",
       "      <td>1301.0</td>\n",
       "      <td>2.0</td>\n",
       "      <td>1.0</td>\n",
       "      <td>39.07</td>\n",
       "      <td>0</td>\n",
       "      <td>0</td>\n",
       "      <td>1</td>\n",
       "    </tr>\n",
       "    <tr>\n",
       "      <th>1</th>\n",
       "      <td>1</td>\n",
       "      <td>325</td>\n",
       "      <td>4.0</td>\n",
       "      <td>0.000878</td>\n",
       "      <td>1301.0</td>\n",
       "      <td>5.0</td>\n",
       "      <td>3.0</td>\n",
       "      <td>120.00</td>\n",
       "      <td>0</td>\n",
       "      <td>1</td>\n",
       "      <td>0</td>\n",
       "    </tr>\n",
       "    <tr>\n",
       "      <th>2</th>\n",
       "      <td>1</td>\n",
       "      <td>1218</td>\n",
       "      <td>3.0</td>\n",
       "      <td>0.420327</td>\n",
       "      <td>1301.0</td>\n",
       "      <td>2.0</td>\n",
       "      <td>3.0</td>\n",
       "      <td>62.00</td>\n",
       "      <td>0</td>\n",
       "      <td>0</td>\n",
       "      <td>0</td>\n",
       "    </tr>\n",
       "    <tr>\n",
       "      <th>3</th>\n",
       "      <td>1</td>\n",
       "      <td>778</td>\n",
       "      <td>3.0</td>\n",
       "      <td>0.001689</td>\n",
       "      <td>1301.0</td>\n",
       "      <td>3.0</td>\n",
       "      <td>1.0</td>\n",
       "      <td>95.00</td>\n",
       "      <td>0</td>\n",
       "      <td>0</td>\n",
       "      <td>1</td>\n",
       "    </tr>\n",
       "    <tr>\n",
       "      <th>4</th>\n",
       "      <td>1</td>\n",
       "      <td>736</td>\n",
       "      <td>2.0</td>\n",
       "      <td>0.420327</td>\n",
       "      <td>1301.0</td>\n",
       "      <td>2.0</td>\n",
       "      <td>1.0</td>\n",
       "      <td>51.00</td>\n",
       "      <td>0</td>\n",
       "      <td>0</td>\n",
       "      <td>1</td>\n",
       "    </tr>\n",
       "  </tbody>\n",
       "</table>\n",
       "</div>"
      ],
      "text/plain": [
       "  availability  location size   society  total_sqft  bath  balcony   price  \\\n",
       "0            0       430  2.0  0.000338      1301.0   2.0      1.0   39.07   \n",
       "1            1       325  4.0  0.000878      1301.0   5.0      3.0  120.00   \n",
       "2            1      1218  3.0  0.420327      1301.0   2.0      3.0   62.00   \n",
       "3            1       778  3.0  0.001689      1301.0   3.0      1.0   95.00   \n",
       "4            1       736  2.0  0.420327      1301.0   2.0      1.0   51.00   \n",
       "\n",
       "   Carpet  Area  Plot  Area  Super built-up  Area  \n",
       "0             0           0                     1  \n",
       "1             0           1                     0  \n",
       "2             0           0                     0  \n",
       "3             0           0                     1  \n",
       "4             0           0                     1  "
      ]
     },
     "execution_count": 66,
     "metadata": {},
     "output_type": "execute_result"
    }
   ],
   "source": [
    "data.head()"
   ]
  },
  {
   "cell_type": "code",
   "execution_count": 67,
   "id": "9b14566b",
   "metadata": {},
   "outputs": [
    {
     "data": {
      "text/plain": [
       "availability             object\n",
       "location                  int32\n",
       "size                     object\n",
       "society                 float64\n",
       "total_sqft              float64\n",
       "bath                    float64\n",
       "balcony                 float64\n",
       "price                   float64\n",
       "Carpet  Area              int32\n",
       "Plot  Area                int32\n",
       "Super built-up  Area      int32\n",
       "dtype: object"
      ]
     },
     "execution_count": 67,
     "metadata": {},
     "output_type": "execute_result"
    }
   ],
   "source": [
    "data.dtypes"
   ]
  },
  {
   "cell_type": "code",
   "execution_count": 68,
   "id": "be9692aa",
   "metadata": {},
   "outputs": [],
   "source": [
    "data['availability']=[1 if x=='Ready To Move' else 0 for x in data['availability']]\n",
    "data['availability']=data['availability'].astype(int)"
   ]
  },
  {
   "cell_type": "code",
   "execution_count": 69,
   "id": "cc5959a8",
   "metadata": {},
   "outputs": [
    {
     "data": {
      "text/plain": [
       "availability              int32\n",
       "location                  int32\n",
       "size                     object\n",
       "society                 float64\n",
       "total_sqft              float64\n",
       "bath                    float64\n",
       "balcony                 float64\n",
       "price                   float64\n",
       "Carpet  Area              int32\n",
       "Plot  Area                int32\n",
       "Super built-up  Area      int32\n",
       "dtype: object"
      ]
     },
     "execution_count": 69,
     "metadata": {},
     "output_type": "execute_result"
    }
   ],
   "source": [
    "data.dtypes"
   ]
  },
  {
   "cell_type": "code",
   "execution_count": 70,
   "id": "82545101",
   "metadata": {},
   "outputs": [
    {
     "data": {
      "text/html": [
       "<div>\n",
       "<style scoped>\n",
       "    .dataframe tbody tr th:only-of-type {\n",
       "        vertical-align: middle;\n",
       "    }\n",
       "\n",
       "    .dataframe tbody tr th {\n",
       "        vertical-align: top;\n",
       "    }\n",
       "\n",
       "    .dataframe thead th {\n",
       "        text-align: right;\n",
       "    }\n",
       "</style>\n",
       "<table border=\"1\" class=\"dataframe\">\n",
       "  <thead>\n",
       "    <tr style=\"text-align: right;\">\n",
       "      <th></th>\n",
       "      <th>availability</th>\n",
       "      <th>location</th>\n",
       "      <th>size</th>\n",
       "      <th>society</th>\n",
       "      <th>total_sqft</th>\n",
       "      <th>bath</th>\n",
       "      <th>balcony</th>\n",
       "      <th>price</th>\n",
       "      <th>Carpet  Area</th>\n",
       "      <th>Plot  Area</th>\n",
       "      <th>Super built-up  Area</th>\n",
       "    </tr>\n",
       "  </thead>\n",
       "  <tbody>\n",
       "    <tr>\n",
       "      <th>0</th>\n",
       "      <td>0</td>\n",
       "      <td>430</td>\n",
       "      <td>2.0</td>\n",
       "      <td>0.000338</td>\n",
       "      <td>1301.0</td>\n",
       "      <td>2.0</td>\n",
       "      <td>1.0</td>\n",
       "      <td>39.07</td>\n",
       "      <td>0</td>\n",
       "      <td>0</td>\n",
       "      <td>1</td>\n",
       "    </tr>\n",
       "    <tr>\n",
       "      <th>1</th>\n",
       "      <td>0</td>\n",
       "      <td>325</td>\n",
       "      <td>4.0</td>\n",
       "      <td>0.000878</td>\n",
       "      <td>1301.0</td>\n",
       "      <td>5.0</td>\n",
       "      <td>3.0</td>\n",
       "      <td>120.00</td>\n",
       "      <td>0</td>\n",
       "      <td>1</td>\n",
       "      <td>0</td>\n",
       "    </tr>\n",
       "  </tbody>\n",
       "</table>\n",
       "</div>"
      ],
      "text/plain": [
       "   availability  location size   society  total_sqft  bath  balcony   price  \\\n",
       "0             0       430  2.0  0.000338      1301.0   2.0      1.0   39.07   \n",
       "1             0       325  4.0  0.000878      1301.0   5.0      3.0  120.00   \n",
       "\n",
       "   Carpet  Area  Plot  Area  Super built-up  Area  \n",
       "0             0           0                     1  \n",
       "1             0           1                     0  "
      ]
     },
     "execution_count": 70,
     "metadata": {},
     "output_type": "execute_result"
    }
   ],
   "source": [
    "data.head(2)"
   ]
  },
  {
   "cell_type": "code",
   "execution_count": 71,
   "id": "828d418b",
   "metadata": {},
   "outputs": [],
   "source": [
    "data['size']=data['size'].apply(extract_bhk)"
   ]
  },
  {
   "cell_type": "code",
   "execution_count": 72,
   "id": "a5cebfa2",
   "metadata": {},
   "outputs": [],
   "source": [
    "le=LabelEncoder()\n",
    "data['size']=le.fit_transform(pd.DataFrame(data['size']))"
   ]
  },
  {
   "cell_type": "markdown",
   "id": "a02de43a",
   "metadata": {},
   "source": [
    "### Outlier treatment "
   ]
  },
  {
   "cell_type": "code",
   "execution_count": 73,
   "id": "d26cb31b",
   "metadata": {},
   "outputs": [
    {
     "data": {
      "text/plain": [
       "Index(['availability', 'location', 'size', 'society', 'total_sqft', 'bath',\n",
       "       'balcony', 'price', 'Carpet  Area', 'Plot  Area',\n",
       "       'Super built-up  Area'],\n",
       "      dtype='object')"
      ]
     },
     "execution_count": 73,
     "metadata": {},
     "output_type": "execute_result"
    }
   ],
   "source": [
    "data.columns"
   ]
  },
  {
   "cell_type": "code",
   "execution_count": 74,
   "id": "0fd174ba",
   "metadata": {},
   "outputs": [
    {
     "data": {
      "text/plain": [
       "availability              int32\n",
       "location                  int32\n",
       "size                      int64\n",
       "society                 float64\n",
       "total_sqft              float64\n",
       "bath                    float64\n",
       "balcony                 float64\n",
       "price                   float64\n",
       "Carpet  Area              int32\n",
       "Plot  Area                int32\n",
       "Super built-up  Area      int32\n",
       "dtype: object"
      ]
     },
     "execution_count": 74,
     "metadata": {},
     "output_type": "execute_result"
    }
   ],
   "source": [
    "data.dtypes"
   ]
  },
  {
   "cell_type": "code",
   "execution_count": 75,
   "id": "d4abbaab",
   "metadata": {},
   "outputs": [],
   "source": [
    "for i in ['bath',\n",
    "       'balcony', 'price']:\n",
    "    q3,q1=np.quantile(data[i],[0.75,0.25])\n",
    "    iqr=q3-q1\n",
    "    ul=q3+3.5*iqr\n",
    "    ll=q1-3.5*iqr\n",
    "    data[i]=np.where(data[i]>ul,ul,data[i])\n",
    "    data[i]=np.where(data[i]<ll,ll,data[i])"
   ]
  },
  {
   "cell_type": "code",
   "execution_count": null,
   "id": "e95aee2b",
   "metadata": {},
   "outputs": [],
   "source": []
  },
  {
   "cell_type": "code",
   "execution_count": 76,
   "id": "8ddae825",
   "metadata": {},
   "outputs": [
    {
     "data": {
      "image/png": "[encoded data removed]",
      "text/plain": [
       "<Figure size 640x480 with 1 Axes>"
      ]
     },
     "metadata": {},
     "output_type": "display_data"
    },
    {
     "data": {
      "image/png": "[encoded data removed]",
      "text/plain": [
       "<Figure size 640x480 with 1 Axes>"
      ]
     },
     "metadata": {},
     "output_type": "display_data"
    },
    {
     "data": {
      "image/png": "[encoded data removed]",
      "text/plain": [
       "<Figure size 640x480 with 1 Axes>"
      ]
     },
     "metadata": {},
     "output_type": "display_data"
    },
    {
     "data": {
      "image/png": "[encoded data removed]",
      "text/plain": [
       "<Figure size 640x480 with 1 Axes>"
      ]
     },
     "metadata": {},
     "output_type": "display_data"
    }
   ],
   "source": [
    "for i in  num_cols:\n",
    "    sns.boxplot(x=data[i])\n",
    "    plt.show()"
   ]
  },
  {
   "cell_type": "code",
   "execution_count": 77,
   "id": "eba1e603",
   "metadata": {},
   "outputs": [
    {
     "data": {
      "text/plain": [
       "total_sqft\n",
       "1301.0    13322\n",
       "1200.0       97\n",
       "1500.0       33\n",
       "2400.0       28\n",
       "1000.0       27\n",
       "          ...  \n",
       "695.0         1\n",
       "2150.0        1\n",
       "785.0         1\n",
       "661.0         1\n",
       "996.0         1\n",
       "Name: count, Length: 658, dtype: int64"
      ]
     },
     "execution_count": 77,
     "metadata": {},
     "output_type": "execute_result"
    }
   ],
   "source": [
    "data['total_sqft'].value_counts()"
   ]
  },
  {
   "cell_type": "markdown",
   "id": "27b00661",
   "metadata": {},
   "source": [
    "### Train test "
   ]
  },
  {
   "cell_type": "code",
   "execution_count": 78,
   "id": "d0dac6a7",
   "metadata": {},
   "outputs": [],
   "source": [
    "train_set=data[data['price'].notnull()]\n",
    "test_set=data[data['price'].isnull()]"
   ]
  },
  {
   "cell_type": "code",
   "execution_count": 79,
   "id": "3f474d9b",
   "metadata": {},
   "outputs": [
    {
     "data": {
      "text/html": [
       "<div>\n",
       "<style scoped>\n",
       "    .dataframe tbody tr th:only-of-type {\n",
       "        vertical-align: middle;\n",
       "    }\n",
       "\n",
       "    .dataframe tbody tr th {\n",
       "        vertical-align: top;\n",
       "    }\n",
       "\n",
       "    .dataframe thead th {\n",
       "        text-align: right;\n",
       "    }\n",
       "</style>\n",
       "<table border=\"1\" class=\"dataframe\">\n",
       "  <thead>\n",
       "    <tr style=\"text-align: right;\">\n",
       "      <th></th>\n",
       "      <th>availability</th>\n",
       "      <th>location</th>\n",
       "      <th>size</th>\n",
       "      <th>society</th>\n",
       "      <th>total_sqft</th>\n",
       "      <th>bath</th>\n",
       "      <th>balcony</th>\n",
       "      <th>Carpet  Area</th>\n",
       "      <th>Plot  Area</th>\n",
       "      <th>Super built-up  Area</th>\n",
       "    </tr>\n",
       "  </thead>\n",
       "  <tbody>\n",
       "    <tr>\n",
       "      <th>0</th>\n",
       "      <td>1</td>\n",
       "      <td>284</td>\n",
       "      <td>1</td>\n",
       "      <td>0.000338</td>\n",
       "      <td>1225.0</td>\n",
       "      <td>2.0</td>\n",
       "      <td>2.0</td>\n",
       "      <td>0</td>\n",
       "      <td>0</td>\n",
       "      <td>1</td>\n",
       "    </tr>\n",
       "    <tr>\n",
       "      <th>1</th>\n",
       "      <td>1</td>\n",
       "      <td>103</td>\n",
       "      <td>8</td>\n",
       "      <td>0.420327</td>\n",
       "      <td>2400.0</td>\n",
       "      <td>6.5</td>\n",
       "      <td>2.0</td>\n",
       "      <td>0</td>\n",
       "      <td>1</td>\n",
       "      <td>0</td>\n",
       "    </tr>\n",
       "    <tr>\n",
       "      <th>2</th>\n",
       "      <td>0</td>\n",
       "      <td>534</td>\n",
       "      <td>3</td>\n",
       "      <td>0.000135</td>\n",
       "      <td>1650.0</td>\n",
       "      <td>5.0</td>\n",
       "      <td>2.0</td>\n",
       "      <td>0</td>\n",
       "      <td>1</td>\n",
       "      <td>0</td>\n",
       "    </tr>\n",
       "    <tr>\n",
       "      <th>3</th>\n",
       "      <td>1</td>\n",
       "      <td>721</td>\n",
       "      <td>2</td>\n",
       "      <td>0.000068</td>\n",
       "      <td>1322.0</td>\n",
       "      <td>3.0</td>\n",
       "      <td>1.0</td>\n",
       "      <td>0</td>\n",
       "      <td>0</td>\n",
       "      <td>1</td>\n",
       "    </tr>\n",
       "    <tr>\n",
       "      <th>4</th>\n",
       "      <td>1</td>\n",
       "      <td>727</td>\n",
       "      <td>1</td>\n",
       "      <td>0.000068</td>\n",
       "      <td>1161.0</td>\n",
       "      <td>2.0</td>\n",
       "      <td>1.0</td>\n",
       "      <td>0</td>\n",
       "      <td>0</td>\n",
       "      <td>1</td>\n",
       "    </tr>\n",
       "    <tr>\n",
       "      <th>...</th>\n",
       "      <td>...</td>\n",
       "      <td>...</td>\n",
       "      <td>...</td>\n",
       "      <td>...</td>\n",
       "      <td>...</td>\n",
       "      <td>...</td>\n",
       "      <td>...</td>\n",
       "      <td>...</td>\n",
       "      <td>...</td>\n",
       "      <td>...</td>\n",
       "    </tr>\n",
       "    <tr>\n",
       "      <th>1475</th>\n",
       "      <td>1</td>\n",
       "      <td>1283</td>\n",
       "      <td>1</td>\n",
       "      <td>0.002298</td>\n",
       "      <td>1246.0</td>\n",
       "      <td>2.0</td>\n",
       "      <td>1.0</td>\n",
       "      <td>0</td>\n",
       "      <td>0</td>\n",
       "      <td>1</td>\n",
       "    </tr>\n",
       "    <tr>\n",
       "      <th>1476</th>\n",
       "      <td>1</td>\n",
       "      <td>477</td>\n",
       "      <td>2</td>\n",
       "      <td>0.420327</td>\n",
       "      <td>1660.0</td>\n",
       "      <td>3.0</td>\n",
       "      <td>2.0</td>\n",
       "      <td>0</td>\n",
       "      <td>0</td>\n",
       "      <td>1</td>\n",
       "    </tr>\n",
       "    <tr>\n",
       "      <th>1477</th>\n",
       "      <td>1</td>\n",
       "      <td>314</td>\n",
       "      <td>1</td>\n",
       "      <td>0.001081</td>\n",
       "      <td>1216.0</td>\n",
       "      <td>2.0</td>\n",
       "      <td>2.0</td>\n",
       "      <td>0</td>\n",
       "      <td>0</td>\n",
       "      <td>1</td>\n",
       "    </tr>\n",
       "    <tr>\n",
       "      <th>1478</th>\n",
       "      <td>0</td>\n",
       "      <td>1207</td>\n",
       "      <td>1</td>\n",
       "      <td>0.000946</td>\n",
       "      <td>996.0</td>\n",
       "      <td>2.0</td>\n",
       "      <td>1.0</td>\n",
       "      <td>0</td>\n",
       "      <td>0</td>\n",
       "      <td>0</td>\n",
       "    </tr>\n",
       "    <tr>\n",
       "      <th>1479</th>\n",
       "      <td>1</td>\n",
       "      <td>76</td>\n",
       "      <td>1</td>\n",
       "      <td>0.000068</td>\n",
       "      <td>1150.0</td>\n",
       "      <td>2.0</td>\n",
       "      <td>2.0</td>\n",
       "      <td>0</td>\n",
       "      <td>0</td>\n",
       "      <td>0</td>\n",
       "    </tr>\n",
       "  </tbody>\n",
       "</table>\n",
       "<p>1479 rows × 10 columns</p>\n",
       "</div>"
      ],
      "text/plain": [
       "      availability  location  size   society  total_sqft  bath  balcony  \\\n",
       "0                1       284     1  0.000338      1225.0   2.0      2.0   \n",
       "1                1       103     8  0.420327      2400.0   6.5      2.0   \n",
       "2                0       534     3  0.000135      1650.0   5.0      2.0   \n",
       "3                1       721     2  0.000068      1322.0   3.0      1.0   \n",
       "4                1       727     1  0.000068      1161.0   2.0      1.0   \n",
       "...            ...       ...   ...       ...         ...   ...      ...   \n",
       "1475             1      1283     1  0.002298      1246.0   2.0      1.0   \n",
       "1476             1       477     2  0.420327      1660.0   3.0      2.0   \n",
       "1477             1       314     1  0.001081      1216.0   2.0      2.0   \n",
       "1478             0      1207     1  0.000946       996.0   2.0      1.0   \n",
       "1479             1        76     1  0.000068      1150.0   2.0      2.0   \n",
       "\n",
       "      Carpet  Area  Plot  Area  Super built-up  Area  \n",
       "0                0           0                     1  \n",
       "1                0           1                     0  \n",
       "2                0           1                     0  \n",
       "3                0           0                     1  \n",
       "4                0           0                     1  \n",
       "...            ...         ...                   ...  \n",
       "1475             0           0                     1  \n",
       "1476             0           0                     1  \n",
       "1477             0           0                     1  \n",
       "1478             0           0                     0  \n",
       "1479             0           0                     0  \n",
       "\n",
       "[1479 rows x 10 columns]"
      ]
     },
     "execution_count": 79,
     "metadata": {},
     "output_type": "execute_result"
    }
   ],
   "source": [
    "test_set.drop(columns=['price'],inplace=True)\n",
    "test_set"
   ]
  },
  {
   "cell_type": "code",
   "execution_count": 80,
   "id": "0bc6064c",
   "metadata": {},
   "outputs": [],
   "source": [
    "# Train test split on train_set\n",
    "\n",
    "from sklearn.model_selection import train_test_split"
   ]
  },
  {
   "cell_type": "code",
   "execution_count": 81,
   "id": "e403d340",
   "metadata": {},
   "outputs": [],
   "source": [
    "y=train_set['price']\n",
    "x=train_set.drop(columns='price')"
   ]
  },
  {
   "cell_type": "code",
   "execution_count": 82,
   "id": "017d9f49",
   "metadata": {},
   "outputs": [],
   "source": [
    "xtrain,xtest,ytrain,ytest=train_test_split(x,y,train_size=0.8,random_state=2)"
   ]
  },
  {
   "cell_type": "code",
   "execution_count": 83,
   "id": "a3d83c96",
   "metadata": {},
   "outputs": [
    {
     "name": "stdout",
     "output_type": "stream",
     "text": [
      "(10655, 10) (2664, 10) (10655,) (2664,)\n"
     ]
    }
   ],
   "source": [
    "print(xtrain.shape,xtest.shape,ytrain.shape,ytest.shape)"
   ]
  },
  {
   "cell_type": "markdown",
   "id": "88939219",
   "metadata": {},
   "source": [
    "### Predective Modelling"
   ]
  },
  {
   "cell_type": "code",
   "execution_count": 84,
   "id": "e326baa0",
   "metadata": {},
   "outputs": [],
   "source": [
    "from sklearn.linear_model import LinearRegression,Ridge,Lasso\n",
    "from sklearn.tree import DecisionTreeRegressor\n",
    "from sklearn.ensemble import RandomForestRegressor,AdaBoostRegressor,GradientBoostingRegressor\n",
    "from xgboost import XGBRegressor\n",
    "from sklearn.ensemble import VotingRegressor,StackingRegressor\n",
    "from sklearn.model_selection import GridSearchCV\n",
    "\n",
    "from sklearn.metrics import r2_score, mean_squared_error,mean_absolute_error,mean_absolute_percentage_error"
   ]
  },
  {
   "cell_type": "raw",
   "id": "049ce494",
   "metadata": {},
   "source": [
    "# Scoring parameter on Hackathon\n",
    "\n",
    "1 - np.sqrt(np.square(np.log10(y_pred +1) - np.log10(y_true +1)).mean())"
   ]
  },
  {
   "cell_type": "code",
   "execution_count": 85,
   "id": "e2698101",
   "metadata": {},
   "outputs": [],
   "source": [
    "def hack_eval(y_true,y_pred):\n",
    "    scor=1 - np.sqrt(np.square(np.log10(y_pred +1) - np.log10(y_true +1)).mean())\n",
    "    return scor"
   ]
  },
  {
   "cell_type": "code",
   "execution_count": 86,
   "id": "d18f8333",
   "metadata": {},
   "outputs": [],
   "source": [
    "r2=[]\n",
    "ms_error=[]\n",
    "rmse_errr=[]\n",
    "map_error=[]\n",
    "fit_model=[]\n",
    "hack_score=[]\n",
    "\n",
    "def model_evaluation(model,xtrain,ytrain,xtest,ytest):\n",
    "    model=model\n",
    "    model.fit(xtrain,ytrain)\n",
    "    pred=model.predict(xtest)\n",
    "    \n",
    "    print('R2: ', r2_score(ytest,pred))\n",
    "    print('MSE: ',mean_squared_error(ytest,pred))\n",
    "    print('RMSE: ',np.sqrt(r2_score(ytest,pred)))\n",
    "    print('MAPE: ',mean_absolute_percentage_error(ytest,pred))\n",
    "    print('MAE: ',mean_absolute_error(ytest,pred))\n",
    "    print('Hack Score: ', hack_eval(ytest,pred))\n",
    "    \n",
    "    inp=input('Do you want to save this model?  Y/N')\n",
    "    if inp.lower()=='y':\n",
    "        fit_model.append(str(model))\n",
    "        r2.append(r2_score(ytest,pred))\n",
    "        ms_error.append(mean_squared_error(ytest,pred))\n",
    "        rmse_errr.append(np.sqrt(r2_score(ytest,pred)))\n",
    "        map_error.append(mean_absolute_percentage_error(ytest,pred))\n",
    "        hack_score.append(hack_eval(ytest,pred))\n",
    "\n",
    "        global score_card\n",
    "\n",
    "        score_card=pd.DataFrame({'model':fit_model,\n",
    "                                'R2':r2,\n",
    "                                'RMSE':rmse_errr,\n",
    "                                'MAPE':map_error,\n",
    "                                'Hack Score':hack_score})\n",
    "    else:\n",
    "        return \n",
    "          "
   ]
  },
  {
   "cell_type": "code",
   "execution_count": 87,
   "id": "28349e0d",
   "metadata": {},
   "outputs": [
    {
     "name": "stdout",
     "output_type": "stream",
     "text": [
      "R2:  0.23077313579696446\n",
      "MSE:  18730.56159243479\n",
      "RMSE:  0.4803885258797971\n",
      "MAPE:  0.5155113973583058\n",
      "MAE:  56.162512232070796\n",
      "Hack Score:  0.7349326001059637\n",
      "Do you want to save this model?  Y/Ny\n"
     ]
    }
   ],
   "source": [
    "model_evaluation(LinearRegression(),xtrain,ytrain,xtest,ytest)"
   ]
  },
  {
   "cell_type": "code",
   "execution_count": 88,
   "id": "4a41cf83",
   "metadata": {},
   "outputs": [
    {
     "name": "stdout",
     "output_type": "stream",
     "text": [
      "R2:  0.23077242255505626\n",
      "MSE:  18730.578959770897\n",
      "RMSE:  0.4803877835197896\n",
      "MAPE:  0.5155325990129459\n",
      "MAE:  56.163097698708576\n",
      "Hack Score:  0.7354064366723114\n",
      "Do you want to save this model?  Y/Ny\n"
     ]
    }
   ],
   "source": [
    "model_evaluation(Ridge(alpha=1.0),xtrain,ytrain,xtest,ytest)"
   ]
  },
  {
   "cell_type": "code",
   "execution_count": 89,
   "id": "658ffb59",
   "metadata": {},
   "outputs": [
    {
     "name": "stdout",
     "output_type": "stream",
     "text": [
      "R2:  0.22937163487855106\n",
      "MSE:  18764.687934734855\n",
      "RMSE:  0.4789275883456194\n",
      "MAPE:  0.5242629440169043\n",
      "MAE:  56.55550846954803\n",
      "Hack Score:  0.7496874609226649\n",
      "Do you want to save this model?  Y/Ny\n"
     ]
    }
   ],
   "source": [
    "model_evaluation(Lasso(alpha=1),xtrain,ytrain,xtest,ytest)"
   ]
  },
  {
   "cell_type": "code",
   "execution_count": 90,
   "id": "90506ac4",
   "metadata": {},
   "outputs": [
    {
     "name": "stdout",
     "output_type": "stream",
     "text": [
      "R2:  0.08059406916755107\n",
      "MSE:  22387.399891121837\n",
      "RMSE:  0.2838909459062601\n",
      "MAPE:  0.4737369325306059\n",
      "MAE:  53.560782804735474\n",
      "Hack Score:  0.7749138023361936\n",
      "Do you want to save this model?  Y/Ny\n"
     ]
    }
   ],
   "source": [
    "model_evaluation(DecisionTreeRegressor(max_depth=9,max_features=7),xtrain,ytrain,xtest,ytest)"
   ]
  },
  {
   "cell_type": "code",
   "execution_count": 91,
   "id": "b8688847",
   "metadata": {},
   "outputs": [
    {
     "name": "stdout",
     "output_type": "stream",
     "text": [
      "R2:  0.3202675194799778\n",
      "MSE:  16551.386444296415\n",
      "RMSE:  0.5659218315986562\n",
      "MAPE:  0.4325765723704666\n",
      "MAE:  49.51467037764255\n",
      "Hack Score:  0.7915166052868946\n",
      "Do you want to save this model?  Y/Ny\n"
     ]
    }
   ],
   "source": [
    "model_evaluation(RandomForestRegressor(n_estimators=90,max_depth=9,max_features=7),xtrain,ytrain,xtest,ytest)"
   ]
  },
  {
   "cell_type": "code",
   "execution_count": 92,
   "id": "4d812319",
   "metadata": {},
   "outputs": [
    {
     "name": "stdout",
     "output_type": "stream",
     "text": [
      "R2:  0.31291668446464915\n",
      "MSE:  16730.37820136809\n",
      "RMSE:  0.5593895641363442\n",
      "MAPE:  0.43222675208029837\n",
      "MAE:  49.458996835204985\n",
      "Hack Score:  0.7913819229965715\n",
      "Do you want to save this model?  Y/Ny\n"
     ]
    }
   ],
   "source": [
    "model_evaluation(RandomForestRegressor(n_estimators=90,max_depth=9,max_features=7),xtrain,ytrain,xtest,ytest)"
   ]
  },
  {
   "cell_type": "code",
   "execution_count": 93,
   "id": "f17f7274",
   "metadata": {},
   "outputs": [
    {
     "name": "stdout",
     "output_type": "stream",
     "text": [
      "R2:  0.35675701827544937\n",
      "MSE:  15662.872487657924\n",
      "RMSE:  0.5972914014745645\n",
      "MAPE:  0.4614421141383051\n",
      "MAE:  49.58694710536073\n",
      "Hack Score:  0.7896838546068741\n",
      "Do you want to save this model?  Y/Ny\n"
     ]
    }
   ],
   "source": [
    "model_evaluation(AdaBoostRegressor(estimator=RandomForestRegressor(max_depth=10)),xtrain,ytrain,xtest,ytest)"
   ]
  },
  {
   "cell_type": "code",
   "execution_count": 94,
   "id": "5abd6a0c",
   "metadata": {},
   "outputs": [
    {
     "name": "stdout",
     "output_type": "stream",
     "text": [
      "R2:  0.3828481683784736\n",
      "MSE:  15027.55680022613\n",
      "RMSE:  0.6187472572694553\n",
      "MAPE:  0.38631877401474024\n",
      "MAE:  44.868752178430036\n",
      "Hack Score:  0.8088352271416398\n",
      "Do you want to save this model?  Y/Ny\n"
     ]
    }
   ],
   "source": [
    "model_evaluation(GradientBoostingRegressor(max_depth=7,n_estimators=100),xtrain,ytrain,xtest,ytest)"
   ]
  },
  {
   "cell_type": "code",
   "execution_count": 95,
   "id": "463246ef",
   "metadata": {},
   "outputs": [
    {
     "name": "stdout",
     "output_type": "stream",
     "text": [
      "R2:  0.21527114787563173\n",
      "MSE:  19108.032730116047\n",
      "RMSE:  0.4639732189206956\n",
      "MAPE:  0.3953192845938547\n",
      "MAE:  49.3701619591047\n",
      "Hack Score:  0.7881153285365406\n",
      "Do you want to save this model?  Y/Ny\n"
     ]
    }
   ],
   "source": [
    "model_evaluation(XGBRegressor(n_estimator=170,max_depth=10),xtrain,ytrain,xtest,ytest)"
   ]
  },
  {
   "cell_type": "code",
   "execution_count": 96,
   "id": "2f54e33e",
   "metadata": {},
   "outputs": [],
   "source": [
    "base_models=[('DT',DecisionTreeRegressor(max_depth=10,max_features=9)),\n",
    "            ('RF',RandomForestRegressor(n_estimators=100,max_depth=9)),\n",
    "            ('GBR',GradientBoostingRegressor(max_depth=7,n_estimators=130)),\n",
    "            ('XGB',XGBRegressor(max_depth=8,n_estimators=130))]"
   ]
  },
  {
   "cell_type": "code",
   "execution_count": 97,
   "id": "11b5507e",
   "metadata": {},
   "outputs": [
    {
     "name": "stdout",
     "output_type": "stream",
     "text": [
      "R2:  0.3290170665479685\n",
      "MSE:  16338.33625339766\n",
      "RMSE:  0.573600092876534\n",
      "MAPE:  0.3827104367848047\n",
      "MAE:  45.6756065182956\n",
      "Hack Score:  0.8079474221857849\n",
      "Do you want to save this model?  Y/Ny\n"
     ]
    }
   ],
   "source": [
    "model_evaluation(VotingRegressor(base_models),xtrain,ytrain,xtest,ytest)"
   ]
  },
  {
   "cell_type": "code",
   "execution_count": 98,
   "id": "4378bc19",
   "metadata": {},
   "outputs": [
    {
     "name": "stdout",
     "output_type": "stream",
     "text": [
      "R2:  0.37753095676358916\n",
      "MSE:  15157.030125050513\n",
      "RMSE:  0.6144354781127056\n",
      "MAPE:  0.4162333225536839\n",
      "MAE:  45.72144603629701\n",
      "Hack Score:  0.8025885575184879\n",
      "Do you want to save this model?  Y/Ny\n"
     ]
    }
   ],
   "source": [
    "model_evaluation(StackingRegressor(estimators=base_models),xtrain,ytrain,xtest,ytest)"
   ]
  },
  {
   "cell_type": "code",
   "execution_count": 99,
   "id": "dca47ec3",
   "metadata": {},
   "outputs": [
    {
     "name": "stdout",
     "output_type": "stream",
     "text": [
      "R2:  0.39260046827113393\n",
      "MSE:  14790.089724766378\n",
      "RMSE:  0.626578381586162\n",
      "MAPE:  0.38943489615792565\n",
      "MAE:  45.21526171222845\n",
      "Hack Score:  0.8068427228514456\n",
      "Do you want to save this model?  Y/Ny\n"
     ]
    }
   ],
   "source": [
    "model_evaluation(StackingRegressor(estimators=base_models,final_estimator=DecisionTreeRegressor(max_depth=5)),xtrain,ytrain,xtest,ytest)"
   ]
  },
  {
   "cell_type": "code",
   "execution_count": 100,
   "id": "18ed65c7",
   "metadata": {},
   "outputs": [
    {
     "data": {
      "text/html": [
       "<div>\n",
       "<style scoped>\n",
       "    .dataframe tbody tr th:only-of-type {\n",
       "        vertical-align: middle;\n",
       "    }\n",
       "\n",
       "    .dataframe tbody tr th {\n",
       "        vertical-align: top;\n",
       "    }\n",
       "\n",
       "    .dataframe thead th {\n",
       "        text-align: right;\n",
       "    }\n",
       "</style>\n",
       "<table border=\"1\" class=\"dataframe\">\n",
       "  <thead>\n",
       "    <tr style=\"text-align: right;\">\n",
       "      <th></th>\n",
       "      <th>model</th>\n",
       "      <th>R2</th>\n",
       "      <th>RMSE</th>\n",
       "      <th>MAPE</th>\n",
       "      <th>Hack Score</th>\n",
       "    </tr>\n",
       "  </thead>\n",
       "  <tbody>\n",
       "    <tr>\n",
       "      <th>0</th>\n",
       "      <td>LinearRegression()</td>\n",
       "      <td>0.230773</td>\n",
       "      <td>0.480389</td>\n",
       "      <td>0.515511</td>\n",
       "      <td>0.734933</td>\n",
       "    </tr>\n",
       "    <tr>\n",
       "      <th>1</th>\n",
       "      <td>Ridge()</td>\n",
       "      <td>0.230772</td>\n",
       "      <td>0.480388</td>\n",
       "      <td>0.515533</td>\n",
       "      <td>0.735406</td>\n",
       "    </tr>\n",
       "    <tr>\n",
       "      <th>2</th>\n",
       "      <td>Lasso(alpha=1)</td>\n",
       "      <td>0.229372</td>\n",
       "      <td>0.478928</td>\n",
       "      <td>0.524263</td>\n",
       "      <td>0.749687</td>\n",
       "    </tr>\n",
       "    <tr>\n",
       "      <th>3</th>\n",
       "      <td>DecisionTreeRegressor(max_depth=9, max_feature...</td>\n",
       "      <td>0.080594</td>\n",
       "      <td>0.283891</td>\n",
       "      <td>0.473737</td>\n",
       "      <td>0.774914</td>\n",
       "    </tr>\n",
       "    <tr>\n",
       "      <th>4</th>\n",
       "      <td>RandomForestRegressor(max_depth=9, max_feature...</td>\n",
       "      <td>0.320268</td>\n",
       "      <td>0.565922</td>\n",
       "      <td>0.432577</td>\n",
       "      <td>0.791517</td>\n",
       "    </tr>\n",
       "    <tr>\n",
       "      <th>5</th>\n",
       "      <td>RandomForestRegressor(max_depth=9, max_feature...</td>\n",
       "      <td>0.312917</td>\n",
       "      <td>0.559390</td>\n",
       "      <td>0.432227</td>\n",
       "      <td>0.791382</td>\n",
       "    </tr>\n",
       "    <tr>\n",
       "      <th>6</th>\n",
       "      <td>AdaBoostRegressor(estimator=RandomForestRegres...</td>\n",
       "      <td>0.356757</td>\n",
       "      <td>0.597291</td>\n",
       "      <td>0.461442</td>\n",
       "      <td>0.789684</td>\n",
       "    </tr>\n",
       "    <tr>\n",
       "      <th>7</th>\n",
       "      <td>GradientBoostingRegressor(max_depth=7)</td>\n",
       "      <td>0.382848</td>\n",
       "      <td>0.618747</td>\n",
       "      <td>0.386319</td>\n",
       "      <td>0.808835</td>\n",
       "    </tr>\n",
       "    <tr>\n",
       "      <th>8</th>\n",
       "      <td>XGBRegressor(base_score=None, booster=None, ca...</td>\n",
       "      <td>0.215271</td>\n",
       "      <td>0.463973</td>\n",
       "      <td>0.395319</td>\n",
       "      <td>0.788115</td>\n",
       "    </tr>\n",
       "    <tr>\n",
       "      <th>9</th>\n",
       "      <td>VotingRegressor(estimators=[('DT',\\n          ...</td>\n",
       "      <td>0.329017</td>\n",
       "      <td>0.573600</td>\n",
       "      <td>0.382710</td>\n",
       "      <td>0.807947</td>\n",
       "    </tr>\n",
       "    <tr>\n",
       "      <th>10</th>\n",
       "      <td>StackingRegressor(estimators=[('DT',\\n        ...</td>\n",
       "      <td>0.377531</td>\n",
       "      <td>0.614435</td>\n",
       "      <td>0.416233</td>\n",
       "      <td>0.802589</td>\n",
       "    </tr>\n",
       "    <tr>\n",
       "      <th>11</th>\n",
       "      <td>StackingRegressor(estimators=[('DT',\\n        ...</td>\n",
       "      <td>0.392600</td>\n",
       "      <td>0.626578</td>\n",
       "      <td>0.389435</td>\n",
       "      <td>0.806843</td>\n",
       "    </tr>\n",
       "  </tbody>\n",
       "</table>\n",
       "</div>"
      ],
      "text/plain": [
       "                                                model        R2      RMSE  \\\n",
       "0                                  LinearRegression()  0.230773  0.480389   \n",
       "1                                             Ridge()  0.230772  0.480388   \n",
       "2                                      Lasso(alpha=1)  0.229372  0.478928   \n",
       "3   DecisionTreeRegressor(max_depth=9, max_feature...  0.080594  0.283891   \n",
       "4   RandomForestRegressor(max_depth=9, max_feature...  0.320268  0.565922   \n",
       "5   RandomForestRegressor(max_depth=9, max_feature...  0.312917  0.559390   \n",
       "6   AdaBoostRegressor(estimator=RandomForestRegres...  0.356757  0.597291   \n",
       "7              GradientBoostingRegressor(max_depth=7)  0.382848  0.618747   \n",
       "8   XGBRegressor(base_score=None, booster=None, ca...  0.215271  0.463973   \n",
       "9   VotingRegressor(estimators=[('DT',\\n          ...  0.329017  0.573600   \n",
       "10  StackingRegressor(estimators=[('DT',\\n        ...  0.377531  0.614435   \n",
       "11  StackingRegressor(estimators=[('DT',\\n        ...  0.392600  0.626578   \n",
       "\n",
       "        MAPE  Hack Score  \n",
       "0   0.515511    0.734933  \n",
       "1   0.515533    0.735406  \n",
       "2   0.524263    0.749687  \n",
       "3   0.473737    0.774914  \n",
       "4   0.432577    0.791517  \n",
       "5   0.432227    0.791382  \n",
       "6   0.461442    0.789684  \n",
       "7   0.386319    0.808835  \n",
       "8   0.395319    0.788115  \n",
       "9   0.382710    0.807947  \n",
       "10  0.416233    0.802589  \n",
       "11  0.389435    0.806843  "
      ]
     },
     "execution_count": 100,
     "metadata": {},
     "output_type": "execute_result"
    }
   ],
   "source": [
    "score_card"
   ]
  },
  {
   "cell_type": "markdown",
   "id": "c949c057",
   "metadata": {},
   "source": [
    "### Gradient Boosting is giving best score"
   ]
  },
  {
   "cell_type": "code",
   "execution_count": 101,
   "id": "4e25f66e",
   "metadata": {},
   "outputs": [],
   "source": [
    "param_grid = {'n_estimators': [80,100,150],\n",
    "    'learning_rate': [0.05,1,1.0,1.5],\n",
    "    'max_depth': [7,8,9,10],\n",
    "    'max_features': [10,11,12]}"
   ]
  },
  {
   "cell_type": "code",
   "execution_count": 102,
   "id": "7c174e5b",
   "metadata": {},
   "outputs": [],
   "source": [
    "gscv=GridSearchCV(estimator=GradientBoostingRegressor(),param_grid=param_grid,scoring='r2',cv=5,verbose=3)"
   ]
  },
  {
   "cell_type": "code",
   "execution_count": 103,
   "id": "eed2e043",
   "metadata": {
    "scrolled": true
   },
   "outputs": [
    {
     "name": "stdout",
     "output_type": "stream",
     "text": [
      "Fitting 5 folds for each of 144 candidates, totalling 720 fits\n",
      "[CV 1/5] END learning_rate=0.05, max_depth=7, max_features=10, n_estimators=80;, score=0.436 total time=   0.5s\n",
      "[CV 2/5] END learning_rate=0.05, max_depth=7, max_features=10, n_estimators=80;, score=0.313 total time=   0.5s\n",
      "[CV 3/5] END learning_rate=0.05, max_depth=7, max_features=10, n_estimators=80;, score=0.409 total time=   0.5s\n",
      "[CV 4/5] END learning_rate=0.05, max_depth=7, max_features=10, n_estimators=80;, score=0.349 total time=   0.5s\n",
      "[CV 5/5] END learning_rate=0.05, max_depth=7, max_features=10, n_estimators=80;, score=0.317 total time=   0.5s\n",
      "[CV 1/5] END learning_rate=0.05, max_depth=7, max_features=10, n_estimators=100;, score=0.433 total time=   0.6s\n",
      "[CV 2/5] END learning_rate=0.05, max_depth=7, max_features=10, n_estimators=100;, score=0.301 total time=   0.6s\n",
      "[CV 3/5] END learning_rate=0.05, max_depth=7, max_features=10, n_estimators=100;, score=0.442 total time=   0.6s\n",
      "[CV 4/5] END learning_rate=0.05, max_depth=7, max_features=10, n_estimators=100;, score=0.336 total time=   0.6s\n",
      "[CV 5/5] END learning_rate=0.05, max_depth=7, max_features=10, n_estimators=100;, score=0.350 total time=   0.6s\n",
      "[CV 1/5] END learning_rate=0.05, max_depth=7, max_features=10, n_estimators=150;, score=0.434 total time=   1.0s\n",
      "[CV 2/5] END learning_rate=0.05, max_depth=7, max_features=10, n_estimators=150;, score=0.300 total time=   1.0s\n",
      "[CV 3/5] END learning_rate=0.05, max_depth=7, max_features=10, n_estimators=150;, score=0.452 total time=   1.0s\n",
      "[CV 4/5] END learning_rate=0.05, max_depth=7, max_features=10, n_estimators=150;, score=0.349 total time=   1.0s\n",
      "[CV 5/5] END learning_rate=0.05, max_depth=7, max_features=10, n_estimators=150;, score=0.369 total time=   1.0s\n",
      "[CV 1/5] END learning_rate=0.05, max_depth=7, max_features=11, n_estimators=80;, score=0.443 total time=   0.5s\n",
      "[CV 2/5] END learning_rate=0.05, max_depth=7, max_features=11, n_estimators=80;, score=0.314 total time=   0.5s\n",
      "[CV 3/5] END learning_rate=0.05, max_depth=7, max_features=11, n_estimators=80;, score=0.412 total time=   0.5s\n",
      "[CV 4/5] END learning_rate=0.05, max_depth=7, max_features=11, n_estimators=80;, score=0.348 total time=   0.5s\n",
      "[CV 5/5] END learning_rate=0.05, max_depth=7, max_features=11, n_estimators=80;, score=0.330 total time=   0.5s\n",
      "[CV 1/5] END learning_rate=0.05, max_depth=7, max_features=11, n_estimators=100;, score=0.437 total time=   0.7s\n",
      "[CV 2/5] END learning_rate=0.05, max_depth=7, max_features=11, n_estimators=100;, score=0.301 total time=   0.6s\n",
      "[CV 3/5] END learning_rate=0.05, max_depth=7, max_features=11, n_estimators=100;, score=0.443 total time=   0.6s\n",
      "[CV 4/5] END learning_rate=0.05, max_depth=7, max_features=11, n_estimators=100;, score=0.351 total time=   0.6s\n",
      "[CV 5/5] END learning_rate=0.05, max_depth=7, max_features=11, n_estimators=100;, score=0.364 total time=   0.6s\n",
      "[CV 1/5] END learning_rate=0.05, max_depth=7, max_features=11, n_estimators=150;, score=0.448 total time=   1.0s\n",
      "[CV 2/5] END learning_rate=0.05, max_depth=7, max_features=11, n_estimators=150;, score=0.300 total time=   1.0s\n",
      "[CV 3/5] END learning_rate=0.05, max_depth=7, max_features=11, n_estimators=150;, score=0.451 total time=   1.0s\n",
      "[CV 4/5] END learning_rate=0.05, max_depth=7, max_features=11, n_estimators=150;, score=0.338 total time=   1.0s\n",
      "[CV 5/5] END learning_rate=0.05, max_depth=7, max_features=11, n_estimators=150;, score=0.341 total time=   1.0s\n",
      "[CV 1/5] END learning_rate=0.05, max_depth=7, max_features=12, n_estimators=80;, score=0.443 total time=   0.5s\n",
      "[CV 2/5] END learning_rate=0.05, max_depth=7, max_features=12, n_estimators=80;, score=0.314 total time=   0.5s\n",
      "[CV 3/5] END learning_rate=0.05, max_depth=7, max_features=12, n_estimators=80;, score=0.414 total time=   0.5s\n",
      "[CV 4/5] END learning_rate=0.05, max_depth=7, max_features=12, n_estimators=80;, score=0.335 total time=   0.5s\n",
      "[CV 5/5] END learning_rate=0.05, max_depth=7, max_features=12, n_estimators=80;, score=0.339 total time=   0.5s\n",
      "[CV 1/5] END learning_rate=0.05, max_depth=7, max_features=12, n_estimators=100;, score=0.441 total time=   0.6s\n",
      "[CV 2/5] END learning_rate=0.05, max_depth=7, max_features=12, n_estimators=100;, score=0.301 total time=   0.6s\n",
      "[CV 3/5] END learning_rate=0.05, max_depth=7, max_features=12, n_estimators=100;, score=0.429 total time=   0.6s\n",
      "[CV 4/5] END learning_rate=0.05, max_depth=7, max_features=12, n_estimators=100;, score=0.341 total time=   0.6s\n",
      "[CV 5/5] END learning_rate=0.05, max_depth=7, max_features=12, n_estimators=100;, score=0.331 total time=   0.6s\n",
      "[CV 1/5] END learning_rate=0.05, max_depth=7, max_features=12, n_estimators=150;, score=0.422 total time=   1.0s\n",
      "[CV 2/5] END learning_rate=0.05, max_depth=7, max_features=12, n_estimators=150;, score=0.300 total time=   1.0s\n",
      "[CV 3/5] END learning_rate=0.05, max_depth=7, max_features=12, n_estimators=150;, score=0.443 total time=   1.0s\n",
      "[CV 4/5] END learning_rate=0.05, max_depth=7, max_features=12, n_estimators=150;, score=0.348 total time=   1.0s\n",
      "[CV 5/5] END learning_rate=0.05, max_depth=7, max_features=12, n_estimators=150;, score=0.355 total time=   1.0s\n",
      "[CV 1/5] END learning_rate=0.05, max_depth=8, max_features=10, n_estimators=80;, score=0.418 total time=   0.6s\n",
      "[CV 2/5] END learning_rate=0.05, max_depth=8, max_features=10, n_estimators=80;, score=0.347 total time=   0.6s\n",
      "[CV 3/5] END learning_rate=0.05, max_depth=8, max_features=10, n_estimators=80;, score=0.439 total time=   0.6s\n",
      "[CV 4/5] END learning_rate=0.05, max_depth=8, max_features=10, n_estimators=80;, score=0.361 total time=   0.6s\n",
      "[CV 5/5] END learning_rate=0.05, max_depth=8, max_features=10, n_estimators=80;, score=0.350 total time=   0.6s\n",
      "[CV 1/5] END learning_rate=0.05, max_depth=8, max_features=10, n_estimators=100;, score=0.412 total time=   0.7s\n",
      "[CV 2/5] END learning_rate=0.05, max_depth=8, max_features=10, n_estimators=100;, score=0.349 total time=   0.7s\n",
      "[CV 3/5] END learning_rate=0.05, max_depth=8, max_features=10, n_estimators=100;, score=0.461 total time=   0.7s\n",
      "[CV 4/5] END learning_rate=0.05, max_depth=8, max_features=10, n_estimators=100;, score=0.359 total time=   0.7s\n",
      "[CV 5/5] END learning_rate=0.05, max_depth=8, max_features=10, n_estimators=100;, score=0.336 total time=   0.7s\n",
      "[CV 1/5] END learning_rate=0.05, max_depth=8, max_features=10, n_estimators=150;, score=0.422 total time=   1.1s\n",
      "[CV 2/5] END learning_rate=0.05, max_depth=8, max_features=10, n_estimators=150;, score=0.345 total time=   1.1s\n",
      "[CV 3/5] END learning_rate=0.05, max_depth=8, max_features=10, n_estimators=150;, score=0.485 total time=   1.1s\n",
      "[CV 4/5] END learning_rate=0.05, max_depth=8, max_features=10, n_estimators=150;, score=0.364 total time=   1.1s\n",
      "[CV 5/5] END learning_rate=0.05, max_depth=8, max_features=10, n_estimators=150;, score=0.287 total time=   1.1s\n",
      "[CV 1/5] END learning_rate=0.05, max_depth=8, max_features=11, n_estimators=80;, score=0.420 total time=   0.6s\n",
      "[CV 2/5] END learning_rate=0.05, max_depth=8, max_features=11, n_estimators=80;, score=0.347 total time=   0.6s\n",
      "[CV 3/5] END learning_rate=0.05, max_depth=8, max_features=11, n_estimators=80;, score=0.438 total time=   0.6s\n",
      "[CV 4/5] END learning_rate=0.05, max_depth=8, max_features=11, n_estimators=80;, score=0.360 total time=   0.6s\n",
      "[CV 5/5] END learning_rate=0.05, max_depth=8, max_features=11, n_estimators=80;, score=0.293 total time=   0.6s\n",
      "[CV 1/5] END learning_rate=0.05, max_depth=8, max_features=11, n_estimators=100;, score=0.416 total time=   0.7s\n",
      "[CV 2/5] END learning_rate=0.05, max_depth=8, max_features=11, n_estimators=100;, score=0.349 total time=   0.7s\n",
      "[CV 3/5] END learning_rate=0.05, max_depth=8, max_features=11, n_estimators=100;, score=0.468 total time=   0.7s\n",
      "[CV 4/5] END learning_rate=0.05, max_depth=8, max_features=11, n_estimators=100;, score=0.362 total time=   0.7s\n",
      "[CV 5/5] END learning_rate=0.05, max_depth=8, max_features=11, n_estimators=100;, score=0.300 total time=   0.7s\n",
      "[CV 1/5] END learning_rate=0.05, max_depth=8, max_features=11, n_estimators=150;, score=0.421 total time=   1.1s\n",
      "[CV 2/5] END learning_rate=0.05, max_depth=8, max_features=11, n_estimators=150;, score=0.344 total time=   1.1s\n",
      "[CV 3/5] END learning_rate=0.05, max_depth=8, max_features=11, n_estimators=150;, score=0.489 total time=   1.1s\n"
     ]
    },
    {
     "name": "stdout",
     "output_type": "stream",
     "text": [
      "[CV 4/5] END learning_rate=0.05, max_depth=8, max_features=11, n_estimators=150;, score=0.365 total time=   1.1s\n",
      "[CV 5/5] END learning_rate=0.05, max_depth=8, max_features=11, n_estimators=150;, score=0.317 total time=   1.1s\n",
      "[CV 1/5] END learning_rate=0.05, max_depth=8, max_features=12, n_estimators=80;, score=0.418 total time=   0.6s\n",
      "[CV 2/5] END learning_rate=0.05, max_depth=8, max_features=12, n_estimators=80;, score=0.347 total time=   0.6s\n",
      "[CV 3/5] END learning_rate=0.05, max_depth=8, max_features=12, n_estimators=80;, score=0.442 total time=   0.6s\n",
      "[CV 4/5] END learning_rate=0.05, max_depth=8, max_features=12, n_estimators=80;, score=0.359 total time=   0.6s\n",
      "[CV 5/5] END learning_rate=0.05, max_depth=8, max_features=12, n_estimators=80;, score=0.321 total time=   0.6s\n",
      "[CV 1/5] END learning_rate=0.05, max_depth=8, max_features=12, n_estimators=100;, score=0.412 total time=   0.7s\n",
      "[CV 2/5] END learning_rate=0.05, max_depth=8, max_features=12, n_estimators=100;, score=0.348 total time=   0.7s\n",
      "[CV 3/5] END learning_rate=0.05, max_depth=8, max_features=12, n_estimators=100;, score=0.470 total time=   0.7s\n",
      "[CV 4/5] END learning_rate=0.05, max_depth=8, max_features=12, n_estimators=100;, score=0.363 total time=   0.7s\n",
      "[CV 5/5] END learning_rate=0.05, max_depth=8, max_features=12, n_estimators=100;, score=0.258 total time=   0.7s\n",
      "[CV 1/5] END learning_rate=0.05, max_depth=8, max_features=12, n_estimators=150;, score=0.431 total time=   1.1s\n",
      "[CV 2/5] END learning_rate=0.05, max_depth=8, max_features=12, n_estimators=150;, score=0.346 total time=   1.1s\n",
      "[CV 3/5] END learning_rate=0.05, max_depth=8, max_features=12, n_estimators=150;, score=0.488 total time=   1.2s\n",
      "[CV 4/5] END learning_rate=0.05, max_depth=8, max_features=12, n_estimators=150;, score=0.365 total time=   1.2s\n",
      "[CV 5/5] END learning_rate=0.05, max_depth=8, max_features=12, n_estimators=150;, score=0.368 total time=   1.2s\n",
      "[CV 1/5] END learning_rate=0.05, max_depth=9, max_features=10, n_estimators=80;, score=0.429 total time=   0.6s\n",
      "[CV 2/5] END learning_rate=0.05, max_depth=9, max_features=10, n_estimators=80;, score=0.177 total time=   0.6s\n",
      "[CV 3/5] END learning_rate=0.05, max_depth=9, max_features=10, n_estimators=80;, score=0.448 total time=   0.6s\n",
      "[CV 4/5] END learning_rate=0.05, max_depth=9, max_features=10, n_estimators=80;, score=0.318 total time=   0.6s\n",
      "[CV 5/5] END learning_rate=0.05, max_depth=9, max_features=10, n_estimators=80;, score=0.291 total time=   0.6s\n",
      "[CV 1/5] END learning_rate=0.05, max_depth=9, max_features=10, n_estimators=100;, score=0.424 total time=   0.8s\n",
      "[CV 2/5] END learning_rate=0.05, max_depth=9, max_features=10, n_estimators=100;, score=0.176 total time=   0.8s\n",
      "[CV 3/5] END learning_rate=0.05, max_depth=9, max_features=10, n_estimators=100;, score=0.470 total time=   0.8s\n",
      "[CV 4/5] END learning_rate=0.05, max_depth=9, max_features=10, n_estimators=100;, score=0.328 total time=   0.8s\n",
      "[CV 5/5] END learning_rate=0.05, max_depth=9, max_features=10, n_estimators=100;, score=0.279 total time=   0.8s\n",
      "[CV 1/5] END learning_rate=0.05, max_depth=9, max_features=10, n_estimators=150;, score=0.419 total time=   1.3s\n",
      "[CV 2/5] END learning_rate=0.05, max_depth=9, max_features=10, n_estimators=150;, score=0.163 total time=   1.3s\n",
      "[CV 3/5] END learning_rate=0.05, max_depth=9, max_features=10, n_estimators=150;, score=0.490 total time=   1.3s\n",
      "[CV 4/5] END learning_rate=0.05, max_depth=9, max_features=10, n_estimators=150;, score=0.321 total time=   1.3s\n",
      "[CV 5/5] END learning_rate=0.05, max_depth=9, max_features=10, n_estimators=150;, score=0.342 total time=   1.3s\n",
      "[CV 1/5] END learning_rate=0.05, max_depth=9, max_features=11, n_estimators=80;, score=0.427 total time=   0.6s\n",
      "[CV 2/5] END learning_rate=0.05, max_depth=9, max_features=11, n_estimators=80;, score=0.177 total time=   0.6s\n",
      "[CV 3/5] END learning_rate=0.05, max_depth=9, max_features=11, n_estimators=80;, score=0.452 total time=   0.6s\n",
      "[CV 4/5] END learning_rate=0.05, max_depth=9, max_features=11, n_estimators=80;, score=0.310 total time=   0.6s\n",
      "[CV 5/5] END learning_rate=0.05, max_depth=9, max_features=11, n_estimators=80;, score=0.337 total time=   0.6s\n",
      "[CV 1/5] END learning_rate=0.05, max_depth=9, max_features=11, n_estimators=100;, score=0.435 total time=   0.8s\n",
      "[CV 2/5] END learning_rate=0.05, max_depth=9, max_features=11, n_estimators=100;, score=0.172 total time=   0.8s\n",
      "[CV 3/5] END learning_rate=0.05, max_depth=9, max_features=11, n_estimators=100;, score=0.471 total time=   0.8s\n",
      "[CV 4/5] END learning_rate=0.05, max_depth=9, max_features=11, n_estimators=100;, score=0.321 total time=   0.8s\n",
      "[CV 5/5] END learning_rate=0.05, max_depth=9, max_features=11, n_estimators=100;, score=0.327 total time=   0.8s\n",
      "[CV 1/5] END learning_rate=0.05, max_depth=9, max_features=11, n_estimators=150;, score=0.419 total time=   1.3s\n",
      "[CV 2/5] END learning_rate=0.05, max_depth=9, max_features=11, n_estimators=150;, score=0.163 total time=   1.3s\n",
      "[CV 3/5] END learning_rate=0.05, max_depth=9, max_features=11, n_estimators=150;, score=0.495 total time=   1.3s\n",
      "[CV 4/5] END learning_rate=0.05, max_depth=9, max_features=11, n_estimators=150;, score=0.329 total time=   1.3s\n",
      "[CV 5/5] END learning_rate=0.05, max_depth=9, max_features=11, n_estimators=150;, score=0.333 total time=   1.3s\n",
      "[CV 1/5] END learning_rate=0.05, max_depth=9, max_features=12, n_estimators=80;, score=0.432 total time=   0.6s\n",
      "[CV 2/5] END learning_rate=0.05, max_depth=9, max_features=12, n_estimators=80;, score=0.173 total time=   0.6s\n",
      "[CV 3/5] END learning_rate=0.05, max_depth=9, max_features=12, n_estimators=80;, score=0.451 total time=   0.6s\n",
      "[CV 4/5] END learning_rate=0.05, max_depth=9, max_features=12, n_estimators=80;, score=0.316 total time=   0.6s\n",
      "[CV 5/5] END learning_rate=0.05, max_depth=9, max_features=12, n_estimators=80;, score=0.324 total time=   0.6s\n",
      "[CV 1/5] END learning_rate=0.05, max_depth=9, max_features=12, n_estimators=100;, score=0.420 total time=   0.8s\n",
      "[CV 2/5] END learning_rate=0.05, max_depth=9, max_features=12, n_estimators=100;, score=0.174 total time=   0.8s\n",
      "[CV 3/5] END learning_rate=0.05, max_depth=9, max_features=12, n_estimators=100;, score=0.469 total time=   0.9s\n",
      "[CV 4/5] END learning_rate=0.05, max_depth=9, max_features=12, n_estimators=100;, score=0.307 total time=   0.8s\n",
      "[CV 5/5] END learning_rate=0.05, max_depth=9, max_features=12, n_estimators=100;, score=0.310 total time=   0.8s\n",
      "[CV 1/5] END learning_rate=0.05, max_depth=9, max_features=12, n_estimators=150;, score=0.422 total time=   1.3s\n",
      "[CV 2/5] END learning_rate=0.05, max_depth=9, max_features=12, n_estimators=150;, score=0.163 total time=   1.3s\n",
      "[CV 3/5] END learning_rate=0.05, max_depth=9, max_features=12, n_estimators=150;, score=0.492 total time=   1.3s\n",
      "[CV 4/5] END learning_rate=0.05, max_depth=9, max_features=12, n_estimators=150;, score=0.316 total time=   1.3s\n",
      "[CV 5/5] END learning_rate=0.05, max_depth=9, max_features=12, n_estimators=150;, score=0.313 total time=   1.3s\n",
      "[CV 1/5] END learning_rate=0.05, max_depth=10, max_features=10, n_estimators=80;, score=0.447 total time=   0.7s\n",
      "[CV 2/5] END learning_rate=0.05, max_depth=10, max_features=10, n_estimators=80;, score=0.109 total time=   0.7s\n",
      "[CV 3/5] END learning_rate=0.05, max_depth=10, max_features=10, n_estimators=80;, score=0.443 total time=   0.7s\n",
      "[CV 4/5] END learning_rate=0.05, max_depth=10, max_features=10, n_estimators=80;, score=0.301 total time=   0.7s\n",
      "[CV 5/5] END learning_rate=0.05, max_depth=10, max_features=10, n_estimators=80;, score=0.301 total time=   0.7s\n",
      "[CV 1/5] END learning_rate=0.05, max_depth=10, max_features=10, n_estimators=100;, score=0.441 total time=   0.9s\n",
      "[CV 2/5] END learning_rate=0.05, max_depth=10, max_features=10, n_estimators=100;, score=0.107 total time=   0.9s\n",
      "[CV 3/5] END learning_rate=0.05, max_depth=10, max_features=10, n_estimators=100;, score=0.462 total time=   0.9s\n",
      "[CV 4/5] END learning_rate=0.05, max_depth=10, max_features=10, n_estimators=100;, score=0.301 total time=   0.9s\n",
      "[CV 5/5] END learning_rate=0.05, max_depth=10, max_features=10, n_estimators=100;, score=0.290 total time=   0.9s\n",
      "[CV 1/5] END learning_rate=0.05, max_depth=10, max_features=10, n_estimators=150;, score=0.436 total time=   1.4s\n"
     ]
    },
    {
     "name": "stdout",
     "output_type": "stream",
     "text": [
      "[CV 2/5] END learning_rate=0.05, max_depth=10, max_features=10, n_estimators=150;, score=0.105 total time=   1.4s\n",
      "[CV 3/5] END learning_rate=0.05, max_depth=10, max_features=10, n_estimators=150;, score=0.467 total time=   1.4s\n",
      "[CV 4/5] END learning_rate=0.05, max_depth=10, max_features=10, n_estimators=150;, score=0.292 total time=   1.4s\n",
      "[CV 5/5] END learning_rate=0.05, max_depth=10, max_features=10, n_estimators=150;, score=0.251 total time=   1.4s\n",
      "[CV 1/5] END learning_rate=0.05, max_depth=10, max_features=11, n_estimators=80;, score=0.447 total time=   0.7s\n",
      "[CV 2/5] END learning_rate=0.05, max_depth=10, max_features=11, n_estimators=80;, score=0.107 total time=   0.7s\n",
      "[CV 3/5] END learning_rate=0.05, max_depth=10, max_features=11, n_estimators=80;, score=0.445 total time=   0.7s\n",
      "[CV 4/5] END learning_rate=0.05, max_depth=10, max_features=11, n_estimators=80;, score=0.291 total time=   0.7s\n",
      "[CV 5/5] END learning_rate=0.05, max_depth=10, max_features=11, n_estimators=80;, score=0.269 total time=   0.7s\n",
      "[CV 1/5] END learning_rate=0.05, max_depth=10, max_features=11, n_estimators=100;, score=0.437 total time=   0.9s\n",
      "[CV 2/5] END learning_rate=0.05, max_depth=10, max_features=11, n_estimators=100;, score=0.105 total time=   0.9s\n",
      "[CV 3/5] END learning_rate=0.05, max_depth=10, max_features=11, n_estimators=100;, score=0.462 total time=   0.9s\n",
      "[CV 4/5] END learning_rate=0.05, max_depth=10, max_features=11, n_estimators=100;, score=0.303 total time=   0.9s\n",
      "[CV 5/5] END learning_rate=0.05, max_depth=10, max_features=11, n_estimators=100;, score=0.284 total time=   0.9s\n",
      "[CV 1/5] END learning_rate=0.05, max_depth=10, max_features=11, n_estimators=150;, score=0.433 total time=   1.4s\n",
      "[CV 2/5] END learning_rate=0.05, max_depth=10, max_features=11, n_estimators=150;, score=0.107 total time=   1.4s\n",
      "[CV 3/5] END learning_rate=0.05, max_depth=10, max_features=11, n_estimators=150;, score=0.469 total time=   1.4s\n",
      "[CV 4/5] END learning_rate=0.05, max_depth=10, max_features=11, n_estimators=150;, score=0.297 total time=   1.4s\n",
      "[CV 5/5] END learning_rate=0.05, max_depth=10, max_features=11, n_estimators=150;, score=0.234 total time=   1.4s\n",
      "[CV 1/5] END learning_rate=0.05, max_depth=10, max_features=12, n_estimators=80;, score=0.449 total time=   0.7s\n",
      "[CV 2/5] END learning_rate=0.05, max_depth=10, max_features=12, n_estimators=80;, score=0.103 total time=   0.7s\n",
      "[CV 3/5] END learning_rate=0.05, max_depth=10, max_features=12, n_estimators=80;, score=0.443 total time=   0.7s\n",
      "[CV 4/5] END learning_rate=0.05, max_depth=10, max_features=12, n_estimators=80;, score=0.288 total time=   0.7s\n",
      "[CV 5/5] END learning_rate=0.05, max_depth=10, max_features=12, n_estimators=80;, score=0.275 total time=   0.7s\n",
      "[CV 1/5] END learning_rate=0.05, max_depth=10, max_features=12, n_estimators=100;, score=0.441 total time=   0.9s\n",
      "[CV 2/5] END learning_rate=0.05, max_depth=10, max_features=12, n_estimators=100;, score=0.111 total time=   0.9s\n",
      "[CV 3/5] END learning_rate=0.05, max_depth=10, max_features=12, n_estimators=100;, score=0.462 total time=   0.9s\n",
      "[CV 4/5] END learning_rate=0.05, max_depth=10, max_features=12, n_estimators=100;, score=0.302 total time=   0.9s\n",
      "[CV 5/5] END learning_rate=0.05, max_depth=10, max_features=12, n_estimators=100;, score=0.269 total time=   0.9s\n",
      "[CV 1/5] END learning_rate=0.05, max_depth=10, max_features=12, n_estimators=150;, score=0.435 total time=   1.4s\n",
      "[CV 2/5] END learning_rate=0.05, max_depth=10, max_features=12, n_estimators=150;, score=0.108 total time=   1.4s\n",
      "[CV 3/5] END learning_rate=0.05, max_depth=10, max_features=12, n_estimators=150;, score=0.470 total time=   1.4s\n",
      "[CV 4/5] END learning_rate=0.05, max_depth=10, max_features=12, n_estimators=150;, score=0.303 total time=   1.4s\n",
      "[CV 5/5] END learning_rate=0.05, max_depth=10, max_features=12, n_estimators=150;, score=0.281 total time=   1.4s\n",
      "[CV 1/5] END learning_rate=1, max_depth=7, max_features=10, n_estimators=80;, score=-0.081 total time=   0.5s\n",
      "[CV 2/5] END learning_rate=1, max_depth=7, max_features=10, n_estimators=80;, score=-0.441 total time=   0.5s\n",
      "[CV 3/5] END learning_rate=1, max_depth=7, max_features=10, n_estimators=80;, score=0.174 total time=   0.5s\n",
      "[CV 4/5] END learning_rate=1, max_depth=7, max_features=10, n_estimators=80;, score=-0.031 total time=   0.5s\n",
      "[CV 5/5] END learning_rate=1, max_depth=7, max_features=10, n_estimators=80;, score=-0.266 total time=   0.5s\n",
      "[CV 1/5] END learning_rate=1, max_depth=7, max_features=10, n_estimators=100;, score=-0.007 total time=   0.6s\n",
      "[CV 2/5] END learning_rate=1, max_depth=7, max_features=10, n_estimators=100;, score=-0.465 total time=   0.6s\n",
      "[CV 3/5] END learning_rate=1, max_depth=7, max_features=10, n_estimators=100;, score=0.049 total time=   0.6s\n",
      "[CV 4/5] END learning_rate=1, max_depth=7, max_features=10, n_estimators=100;, score=-0.212 total time=   0.6s\n",
      "[CV 5/5] END learning_rate=1, max_depth=7, max_features=10, n_estimators=100;, score=-0.251 total time=   0.6s\n",
      "[CV 1/5] END learning_rate=1, max_depth=7, max_features=10, n_estimators=150;, score=-0.024 total time=   1.0s\n",
      "[CV 2/5] END learning_rate=1, max_depth=7, max_features=10, n_estimators=150;, score=-0.461 total time=   1.0s\n",
      "[CV 3/5] END learning_rate=1, max_depth=7, max_features=10, n_estimators=150;, score=0.073 total time=   1.0s\n",
      "[CV 4/5] END learning_rate=1, max_depth=7, max_features=10, n_estimators=150;, score=-0.277 total time=   1.0s\n",
      "[CV 5/5] END learning_rate=1, max_depth=7, max_features=10, n_estimators=150;, score=-0.240 total time=   1.0s\n",
      "[CV 1/5] END learning_rate=1, max_depth=7, max_features=11, n_estimators=80;, score=-0.002 total time=   0.5s\n",
      "[CV 2/5] END learning_rate=1, max_depth=7, max_features=11, n_estimators=80;, score=-0.476 total time=   0.5s\n",
      "[CV 3/5] END learning_rate=1, max_depth=7, max_features=11, n_estimators=80;, score=0.108 total time=   0.5s\n",
      "[CV 4/5] END learning_rate=1, max_depth=7, max_features=11, n_estimators=80;, score=-0.290 total time=   0.5s\n",
      "[CV 5/5] END learning_rate=1, max_depth=7, max_features=11, n_estimators=80;, score=-0.247 total time=   0.5s\n",
      "[CV 1/5] END learning_rate=1, max_depth=7, max_features=11, n_estimators=100;, score=-0.013 total time=   0.6s\n",
      "[CV 2/5] END learning_rate=1, max_depth=7, max_features=11, n_estimators=100;, score=-0.443 total time=   0.6s\n",
      "[CV 3/5] END learning_rate=1, max_depth=7, max_features=11, n_estimators=100;, score=-0.009 total time=   0.6s\n",
      "[CV 4/5] END learning_rate=1, max_depth=7, max_features=11, n_estimators=100;, score=-0.292 total time=   0.6s\n",
      "[CV 5/5] END learning_rate=1, max_depth=7, max_features=11, n_estimators=100;, score=-0.200 total time=   0.6s\n",
      "[CV 1/5] END learning_rate=1, max_depth=7, max_features=11, n_estimators=150;, score=-0.058 total time=   1.0s\n",
      "[CV 2/5] END learning_rate=1, max_depth=7, max_features=11, n_estimators=150;, score=-0.438 total time=   1.0s\n",
      "[CV 3/5] END learning_rate=1, max_depth=7, max_features=11, n_estimators=150;, score=-0.004 total time=   1.0s\n",
      "[CV 4/5] END learning_rate=1, max_depth=7, max_features=11, n_estimators=150;, score=-0.032 total time=   1.0s\n",
      "[CV 5/5] END learning_rate=1, max_depth=7, max_features=11, n_estimators=150;, score=-0.254 total time=   1.0s\n",
      "[CV 1/5] END learning_rate=1, max_depth=7, max_features=12, n_estimators=80;, score=-0.032 total time=   0.5s\n",
      "[CV 2/5] END learning_rate=1, max_depth=7, max_features=12, n_estimators=80;, score=-0.436 total time=   0.5s\n",
      "[CV 3/5] END learning_rate=1, max_depth=7, max_features=12, n_estimators=80;, score=0.226 total time=   0.5s\n",
      "[CV 4/5] END learning_rate=1, max_depth=7, max_features=12, n_estimators=80;, score=-0.039 total time=   0.5s\n",
      "[CV 5/5] END learning_rate=1, max_depth=7, max_features=12, n_estimators=80;, score=-0.293 total time=   0.5s\n",
      "[CV 1/5] END learning_rate=1, max_depth=7, max_features=12, n_estimators=100;, score=0.013 total time=   0.6s\n",
      "[CV 2/5] END learning_rate=1, max_depth=7, max_features=12, n_estimators=100;, score=-0.443 total time=   0.6s\n",
      "[CV 3/5] END learning_rate=1, max_depth=7, max_features=12, n_estimators=100;, score=0.168 total time=   0.6s\n",
      "[CV 4/5] END learning_rate=1, max_depth=7, max_features=12, n_estimators=100;, score=0.053 total time=   0.6s\n",
      "[CV 5/5] END learning_rate=1, max_depth=7, max_features=12, n_estimators=100;, score=-0.212 total time=   0.6s\n"
     ]
    },
    {
     "name": "stdout",
     "output_type": "stream",
     "text": [
      "[CV 1/5] END learning_rate=1, max_depth=7, max_features=12, n_estimators=150;, score=0.008 total time=   1.0s\n",
      "[CV 2/5] END learning_rate=1, max_depth=7, max_features=12, n_estimators=150;, score=-0.437 total time=   1.0s\n",
      "[CV 3/5] END learning_rate=1, max_depth=7, max_features=12, n_estimators=150;, score=0.195 total time=   1.0s\n",
      "[CV 4/5] END learning_rate=1, max_depth=7, max_features=12, n_estimators=150;, score=-0.232 total time=   1.0s\n",
      "[CV 5/5] END learning_rate=1, max_depth=7, max_features=12, n_estimators=150;, score=-0.288 total time=   1.0s\n",
      "[CV 1/5] END learning_rate=1, max_depth=8, max_features=10, n_estimators=80;, score=0.233 total time=   0.6s\n",
      "[CV 2/5] END learning_rate=1, max_depth=8, max_features=10, n_estimators=80;, score=0.004 total time=   0.6s\n",
      "[CV 3/5] END learning_rate=1, max_depth=8, max_features=10, n_estimators=80;, score=0.202 total time=   0.6s\n",
      "[CV 4/5] END learning_rate=1, max_depth=8, max_features=10, n_estimators=80;, score=0.070 total time=   0.6s\n",
      "[CV 5/5] END learning_rate=1, max_depth=8, max_features=10, n_estimators=80;, score=-0.311 total time=   0.6s\n",
      "[CV 1/5] END learning_rate=1, max_depth=8, max_features=10, n_estimators=100;, score=0.123 total time=   0.7s\n",
      "[CV 2/5] END learning_rate=1, max_depth=8, max_features=10, n_estimators=100;, score=-0.005 total time=   0.7s\n",
      "[CV 3/5] END learning_rate=1, max_depth=8, max_features=10, n_estimators=100;, score=0.148 total time=   0.7s\n",
      "[CV 4/5] END learning_rate=1, max_depth=8, max_features=10, n_estimators=100;, score=0.084 total time=   0.7s\n",
      "[CV 5/5] END learning_rate=1, max_depth=8, max_features=10, n_estimators=100;, score=-0.303 total time=   0.7s\n",
      "[CV 1/5] END learning_rate=1, max_depth=8, max_features=10, n_estimators=150;, score=0.221 total time=   1.1s\n",
      "[CV 2/5] END learning_rate=1, max_depth=8, max_features=10, n_estimators=150;, score=-0.047 total time=   1.1s\n",
      "[CV 3/5] END learning_rate=1, max_depth=8, max_features=10, n_estimators=150;, score=0.297 total time=   1.1s\n",
      "[CV 4/5] END learning_rate=1, max_depth=8, max_features=10, n_estimators=150;, score=0.161 total time=   1.1s\n",
      "[CV 5/5] END learning_rate=1, max_depth=8, max_features=10, n_estimators=150;, score=-0.424 total time=   1.1s\n",
      "[CV 1/5] END learning_rate=1, max_depth=8, max_features=11, n_estimators=80;, score=0.087 total time=   0.6s\n",
      "[CV 2/5] END learning_rate=1, max_depth=8, max_features=11, n_estimators=80;, score=0.004 total time=   0.6s\n",
      "[CV 3/5] END learning_rate=1, max_depth=8, max_features=11, n_estimators=80;, score=0.248 total time=   0.6s\n",
      "[CV 4/5] END learning_rate=1, max_depth=8, max_features=11, n_estimators=80;, score=0.172 total time=   0.6s\n",
      "[CV 5/5] END learning_rate=1, max_depth=8, max_features=11, n_estimators=80;, score=-0.331 total time=   0.6s\n",
      "[CV 1/5] END learning_rate=1, max_depth=8, max_features=11, n_estimators=100;, score=0.127 total time=   0.7s\n",
      "[CV 2/5] END learning_rate=1, max_depth=8, max_features=11, n_estimators=100;, score=-0.025 total time=   0.7s\n",
      "[CV 3/5] END learning_rate=1, max_depth=8, max_features=11, n_estimators=100;, score=0.296 total time=   0.7s\n",
      "[CV 4/5] END learning_rate=1, max_depth=8, max_features=11, n_estimators=100;, score=0.091 total time=   0.7s\n",
      "[CV 5/5] END learning_rate=1, max_depth=8, max_features=11, n_estimators=100;, score=-0.431 total time=   0.7s\n",
      "[CV 1/5] END learning_rate=1, max_depth=8, max_features=11, n_estimators=150;, score=0.121 total time=   1.1s\n",
      "[CV 2/5] END learning_rate=1, max_depth=8, max_features=11, n_estimators=150;, score=-0.007 total time=   1.1s\n",
      "[CV 3/5] END learning_rate=1, max_depth=8, max_features=11, n_estimators=150;, score=0.146 total time=   1.1s\n",
      "[CV 4/5] END learning_rate=1, max_depth=8, max_features=11, n_estimators=150;, score=0.078 total time=   1.1s\n",
      "[CV 5/5] END learning_rate=1, max_depth=8, max_features=11, n_estimators=150;, score=-0.332 total time=   1.1s\n",
      "[CV 1/5] END learning_rate=1, max_depth=8, max_features=12, n_estimators=80;, score=0.234 total time=   0.6s\n",
      "[CV 2/5] END learning_rate=1, max_depth=8, max_features=12, n_estimators=80;, score=0.002 total time=   0.6s\n",
      "[CV 3/5] END learning_rate=1, max_depth=8, max_features=12, n_estimators=80;, score=0.305 total time=   0.6s\n",
      "[CV 4/5] END learning_rate=1, max_depth=8, max_features=12, n_estimators=80;, score=-0.110 total time=   0.6s\n",
      "[CV 5/5] END learning_rate=1, max_depth=8, max_features=12, n_estimators=80;, score=-0.317 total time=   0.6s\n",
      "[CV 1/5] END learning_rate=1, max_depth=8, max_features=12, n_estimators=100;, score=0.202 total time=   0.7s\n",
      "[CV 2/5] END learning_rate=1, max_depth=8, max_features=12, n_estimators=100;, score=0.020 total time=   0.7s\n",
      "[CV 3/5] END learning_rate=1, max_depth=8, max_features=12, n_estimators=100;, score=0.252 total time=   0.7s\n",
      "[CV 4/5] END learning_rate=1, max_depth=8, max_features=12, n_estimators=100;, score=0.164 total time=   0.7s\n",
      "[CV 5/5] END learning_rate=1, max_depth=8, max_features=12, n_estimators=100;, score=-0.472 total time=   0.7s\n",
      "[CV 1/5] END learning_rate=1, max_depth=8, max_features=12, n_estimators=150;, score=0.194 total time=   1.1s\n",
      "[CV 2/5] END learning_rate=1, max_depth=8, max_features=12, n_estimators=150;, score=-0.020 total time=   1.1s\n",
      "[CV 3/5] END learning_rate=1, max_depth=8, max_features=12, n_estimators=150;, score=0.151 total time=   1.1s\n",
      "[CV 4/5] END learning_rate=1, max_depth=8, max_features=12, n_estimators=150;, score=0.169 total time=   1.1s\n",
      "[CV 5/5] END learning_rate=1, max_depth=8, max_features=12, n_estimators=150;, score=-0.476 total time=   1.1s\n",
      "[CV 1/5] END learning_rate=1, max_depth=9, max_features=10, n_estimators=80;, score=0.274 total time=   0.6s\n",
      "[CV 2/5] END learning_rate=1, max_depth=9, max_features=10, n_estimators=80;, score=-0.112 total time=   0.6s\n",
      "[CV 3/5] END learning_rate=1, max_depth=9, max_features=10, n_estimators=80;, score=0.266 total time=   0.6s\n",
      "[CV 4/5] END learning_rate=1, max_depth=9, max_features=10, n_estimators=80;, score=0.069 total time=   0.6s\n",
      "[CV 5/5] END learning_rate=1, max_depth=9, max_features=10, n_estimators=80;, score=-0.289 total time=   0.6s\n",
      "[CV 1/5] END learning_rate=1, max_depth=9, max_features=10, n_estimators=100;, score=0.208 total time=   0.8s\n",
      "[CV 2/5] END learning_rate=1, max_depth=9, max_features=10, n_estimators=100;, score=-0.105 total time=   0.8s\n",
      "[CV 3/5] END learning_rate=1, max_depth=9, max_features=10, n_estimators=100;, score=0.309 total time=   0.8s\n",
      "[CV 4/5] END learning_rate=1, max_depth=9, max_features=10, n_estimators=100;, score=-0.248 total time=   0.8s\n",
      "[CV 5/5] END learning_rate=1, max_depth=9, max_features=10, n_estimators=100;, score=-0.122 total time=   0.8s\n",
      "[CV 1/5] END learning_rate=1, max_depth=9, max_features=10, n_estimators=150;, score=0.222 total time=   1.3s\n",
      "[CV 2/5] END learning_rate=1, max_depth=9, max_features=10, n_estimators=150;, score=-0.093 total time=   1.3s\n",
      "[CV 3/5] END learning_rate=1, max_depth=9, max_features=10, n_estimators=150;, score=0.271 total time=   1.3s\n",
      "[CV 4/5] END learning_rate=1, max_depth=9, max_features=10, n_estimators=150;, score=0.048 total time=   1.3s\n",
      "[CV 5/5] END learning_rate=1, max_depth=9, max_features=10, n_estimators=150;, score=-0.144 total time=   1.3s\n",
      "[CV 1/5] END learning_rate=1, max_depth=9, max_features=11, n_estimators=80;, score=0.223 total time=   0.6s\n",
      "[CV 2/5] END learning_rate=1, max_depth=9, max_features=11, n_estimators=80;, score=-0.105 total time=   0.6s\n",
      "[CV 3/5] END learning_rate=1, max_depth=9, max_features=11, n_estimators=80;, score=0.263 total time=   0.6s\n",
      "[CV 4/5] END learning_rate=1, max_depth=9, max_features=11, n_estimators=80;, score=0.062 total time=   0.6s\n",
      "[CV 5/5] END learning_rate=1, max_depth=9, max_features=11, n_estimators=80;, score=-0.171 total time=   0.6s\n",
      "[CV 1/5] END learning_rate=1, max_depth=9, max_features=11, n_estimators=100;, score=0.250 total time=   0.8s\n",
      "[CV 2/5] END learning_rate=1, max_depth=9, max_features=11, n_estimators=100;, score=-0.109 total time=   0.8s\n",
      "[CV 3/5] END learning_rate=1, max_depth=9, max_features=11, n_estimators=100;, score=0.268 total time=   0.8s\n",
      "[CV 4/5] END learning_rate=1, max_depth=9, max_features=11, n_estimators=100;, score=0.067 total time=   0.8s\n",
      "[CV 5/5] END learning_rate=1, max_depth=9, max_features=11, n_estimators=100;, score=-0.275 total time=   0.8s\n"
     ]
    },
    {
     "name": "stdout",
     "output_type": "stream",
     "text": [
      "[CV 1/5] END learning_rate=1, max_depth=9, max_features=11, n_estimators=150;, score=0.226 total time=   1.3s\n",
      "[CV 2/5] END learning_rate=1, max_depth=9, max_features=11, n_estimators=150;, score=-0.114 total time=   1.3s\n",
      "[CV 3/5] END learning_rate=1, max_depth=9, max_features=11, n_estimators=150;, score=0.315 total time=   1.3s\n",
      "[CV 4/5] END learning_rate=1, max_depth=9, max_features=11, n_estimators=150;, score=0.054 total time=   1.3s\n",
      "[CV 5/5] END learning_rate=1, max_depth=9, max_features=11, n_estimators=150;, score=-0.269 total time=   1.3s\n",
      "[CV 1/5] END learning_rate=1, max_depth=9, max_features=12, n_estimators=80;, score=0.205 total time=   0.6s\n",
      "[CV 2/5] END learning_rate=1, max_depth=9, max_features=12, n_estimators=80;, score=-0.113 total time=   0.6s\n",
      "[CV 3/5] END learning_rate=1, max_depth=9, max_features=12, n_estimators=80;, score=0.349 total time=   0.6s\n",
      "[CV 4/5] END learning_rate=1, max_depth=9, max_features=12, n_estimators=80;, score=-0.271 total time=   0.6s\n",
      "[CV 5/5] END learning_rate=1, max_depth=9, max_features=12, n_estimators=80;, score=-0.130 total time=   0.6s\n",
      "[CV 1/5] END learning_rate=1, max_depth=9, max_features=12, n_estimators=100;, score=0.217 total time=   0.8s\n",
      "[CV 2/5] END learning_rate=1, max_depth=9, max_features=12, n_estimators=100;, score=-0.100 total time=   0.8s\n",
      "[CV 3/5] END learning_rate=1, max_depth=9, max_features=12, n_estimators=100;, score=0.257 total time=   0.8s\n",
      "[CV 4/5] END learning_rate=1, max_depth=9, max_features=12, n_estimators=100;, score=0.026 total time=   0.8s\n",
      "[CV 5/5] END learning_rate=1, max_depth=9, max_features=12, n_estimators=100;, score=-0.141 total time=   0.8s\n",
      "[CV 1/5] END learning_rate=1, max_depth=9, max_features=12, n_estimators=150;, score=0.257 total time=   1.3s\n",
      "[CV 2/5] END learning_rate=1, max_depth=9, max_features=12, n_estimators=150;, score=-0.073 total time=   1.3s\n",
      "[CV 3/5] END learning_rate=1, max_depth=9, max_features=12, n_estimators=150;, score=0.296 total time=   1.3s\n",
      "[CV 4/5] END learning_rate=1, max_depth=9, max_features=12, n_estimators=150;, score=0.047 total time=   1.3s\n",
      "[CV 5/5] END learning_rate=1, max_depth=9, max_features=12, n_estimators=150;, score=-0.312 total time=   1.3s\n",
      "[CV 1/5] END learning_rate=1, max_depth=10, max_features=10, n_estimators=80;, score=0.207 total time=   0.7s\n",
      "[CV 2/5] END learning_rate=1, max_depth=10, max_features=10, n_estimators=80;, score=-0.080 total time=   0.7s\n",
      "[CV 3/5] END learning_rate=1, max_depth=10, max_features=10, n_estimators=80;, score=0.288 total time=   0.7s\n",
      "[CV 4/5] END learning_rate=1, max_depth=10, max_features=10, n_estimators=80;, score=-0.098 total time=   0.7s\n",
      "[CV 5/5] END learning_rate=1, max_depth=10, max_features=10, n_estimators=80;, score=-0.155 total time=   0.7s\n",
      "[CV 1/5] END learning_rate=1, max_depth=10, max_features=10, n_estimators=100;, score=0.224 total time=   0.9s\n",
      "[CV 2/5] END learning_rate=1, max_depth=10, max_features=10, n_estimators=100;, score=-0.072 total time=   0.9s\n",
      "[CV 3/5] END learning_rate=1, max_depth=10, max_features=10, n_estimators=100;, score=0.293 total time=   0.9s\n",
      "[CV 4/5] END learning_rate=1, max_depth=10, max_features=10, n_estimators=100;, score=-0.198 total time=   0.9s\n",
      "[CV 5/5] END learning_rate=1, max_depth=10, max_features=10, n_estimators=100;, score=-0.109 total time=   0.9s\n",
      "[CV 1/5] END learning_rate=1, max_depth=10, max_features=10, n_estimators=150;, score=0.229 total time=   1.4s\n",
      "[CV 2/5] END learning_rate=1, max_depth=10, max_features=10, n_estimators=150;, score=-0.074 total time=   1.4s\n",
      "[CV 3/5] END learning_rate=1, max_depth=10, max_features=10, n_estimators=150;, score=0.285 total time=   1.4s\n",
      "[CV 4/5] END learning_rate=1, max_depth=10, max_features=10, n_estimators=150;, score=0.158 total time=   1.4s\n",
      "[CV 5/5] END learning_rate=1, max_depth=10, max_features=10, n_estimators=150;, score=0.019 total time=   1.4s\n",
      "[CV 1/5] END learning_rate=1, max_depth=10, max_features=11, n_estimators=80;, score=0.204 total time=   0.7s\n",
      "[CV 2/5] END learning_rate=1, max_depth=10, max_features=11, n_estimators=80;, score=-0.071 total time=   0.7s\n",
      "[CV 3/5] END learning_rate=1, max_depth=10, max_features=11, n_estimators=80;, score=0.250 total time=   0.7s\n",
      "[CV 4/5] END learning_rate=1, max_depth=10, max_features=11, n_estimators=80;, score=0.170 total time=   0.7s\n",
      "[CV 5/5] END learning_rate=1, max_depth=10, max_features=11, n_estimators=80;, score=0.018 total time=   0.7s\n",
      "[CV 1/5] END learning_rate=1, max_depth=10, max_features=11, n_estimators=100;, score=0.211 total time=   0.9s\n",
      "[CV 2/5] END learning_rate=1, max_depth=10, max_features=11, n_estimators=100;, score=-0.069 total time=   0.9s\n",
      "[CV 3/5] END learning_rate=1, max_depth=10, max_features=11, n_estimators=100;, score=0.306 total time=   0.9s\n",
      "[CV 4/5] END learning_rate=1, max_depth=10, max_features=11, n_estimators=100;, score=0.100 total time=   0.9s\n",
      "[CV 5/5] END learning_rate=1, max_depth=10, max_features=11, n_estimators=100;, score=0.028 total time=   0.9s\n",
      "[CV 1/5] END learning_rate=1, max_depth=10, max_features=11, n_estimators=150;, score=0.218 total time=   1.4s\n",
      "[CV 2/5] END learning_rate=1, max_depth=10, max_features=11, n_estimators=150;, score=-0.072 total time=   1.4s\n",
      "[CV 3/5] END learning_rate=1, max_depth=10, max_features=11, n_estimators=150;, score=0.235 total time=   1.4s\n",
      "[CV 4/5] END learning_rate=1, max_depth=10, max_features=11, n_estimators=150;, score=-0.112 total time=   1.4s\n",
      "[CV 5/5] END learning_rate=1, max_depth=10, max_features=11, n_estimators=150;, score=0.028 total time=   1.4s\n",
      "[CV 1/5] END learning_rate=1, max_depth=10, max_features=12, n_estimators=80;, score=0.210 total time=   0.7s\n",
      "[CV 2/5] END learning_rate=1, max_depth=10, max_features=12, n_estimators=80;, score=-0.059 total time=   0.7s\n",
      "[CV 3/5] END learning_rate=1, max_depth=10, max_features=12, n_estimators=80;, score=0.257 total time=   0.7s\n",
      "[CV 4/5] END learning_rate=1, max_depth=10, max_features=12, n_estimators=80;, score=-0.182 total time=   0.7s\n",
      "[CV 5/5] END learning_rate=1, max_depth=10, max_features=12, n_estimators=80;, score=0.080 total time=   0.7s\n",
      "[CV 1/5] END learning_rate=1, max_depth=10, max_features=12, n_estimators=100;, score=0.220 total time=   0.9s\n",
      "[CV 2/5] END learning_rate=1, max_depth=10, max_features=12, n_estimators=100;, score=-0.060 total time=   0.9s\n",
      "[CV 3/5] END learning_rate=1, max_depth=10, max_features=12, n_estimators=100;, score=0.223 total time=   0.9s\n",
      "[CV 4/5] END learning_rate=1, max_depth=10, max_features=12, n_estimators=100;, score=-0.190 total time=   0.9s\n",
      "[CV 5/5] END learning_rate=1, max_depth=10, max_features=12, n_estimators=100;, score=-0.155 total time=   0.9s\n",
      "[CV 1/5] END learning_rate=1, max_depth=10, max_features=12, n_estimators=150;, score=0.209 total time=   1.4s\n",
      "[CV 2/5] END learning_rate=1, max_depth=10, max_features=12, n_estimators=150;, score=-0.063 total time=   1.4s\n",
      "[CV 3/5] END learning_rate=1, max_depth=10, max_features=12, n_estimators=150;, score=0.287 total time=   1.4s\n",
      "[CV 4/5] END learning_rate=1, max_depth=10, max_features=12, n_estimators=150;, score=0.113 total time=   1.4s\n",
      "[CV 5/5] END learning_rate=1, max_depth=10, max_features=12, n_estimators=150;, score=0.022 total time=   1.4s\n",
      "[CV 1/5] END learning_rate=1.0, max_depth=7, max_features=10, n_estimators=80;, score=-0.095 total time=   0.5s\n",
      "[CV 2/5] END learning_rate=1.0, max_depth=7, max_features=10, n_estimators=80;, score=-0.453 total time=   0.5s\n",
      "[CV 3/5] END learning_rate=1.0, max_depth=7, max_features=10, n_estimators=80;, score=0.181 total time=   0.5s\n",
      "[CV 4/5] END learning_rate=1.0, max_depth=7, max_features=10, n_estimators=80;, score=-0.027 total time=   0.5s\n",
      "[CV 5/5] END learning_rate=1.0, max_depth=7, max_features=10, n_estimators=80;, score=-0.243 total time=   0.5s\n",
      "[CV 1/5] END learning_rate=1.0, max_depth=7, max_features=10, n_estimators=100;, score=0.010 total time=   0.6s\n",
      "[CV 2/5] END learning_rate=1.0, max_depth=7, max_features=10, n_estimators=100;, score=-0.458 total time=   0.6s\n",
      "[CV 3/5] END learning_rate=1.0, max_depth=7, max_features=10, n_estimators=100;, score=0.142 total time=   0.6s\n",
      "[CV 4/5] END learning_rate=1.0, max_depth=7, max_features=10, n_estimators=100;, score=-0.211 total time=   0.6s\n"
     ]
    },
    {
     "name": "stdout",
     "output_type": "stream",
     "text": [
      "[CV 5/5] END learning_rate=1.0, max_depth=7, max_features=10, n_estimators=100;, score=-0.219 total time=   0.6s\n",
      "[CV 1/5] END learning_rate=1.0, max_depth=7, max_features=10, n_estimators=150;, score=0.047 total time=   1.0s\n",
      "[CV 2/5] END learning_rate=1.0, max_depth=7, max_features=10, n_estimators=150;, score=-0.455 total time=   1.0s\n",
      "[CV 3/5] END learning_rate=1.0, max_depth=7, max_features=10, n_estimators=150;, score=0.190 total time=   1.0s\n",
      "[CV 4/5] END learning_rate=1.0, max_depth=7, max_features=10, n_estimators=150;, score=-0.270 total time=   1.0s\n",
      "[CV 5/5] END learning_rate=1.0, max_depth=7, max_features=10, n_estimators=150;, score=-0.205 total time=   1.0s\n",
      "[CV 1/5] END learning_rate=1.0, max_depth=7, max_features=11, n_estimators=80;, score=-0.076 total time=   0.5s\n",
      "[CV 2/5] END learning_rate=1.0, max_depth=7, max_features=11, n_estimators=80;, score=-0.447 total time=   0.5s\n",
      "[CV 3/5] END learning_rate=1.0, max_depth=7, max_features=11, n_estimators=80;, score=0.100 total time=   0.5s\n",
      "[CV 4/5] END learning_rate=1.0, max_depth=7, max_features=11, n_estimators=80;, score=-0.024 total time=   0.5s\n",
      "[CV 5/5] END learning_rate=1.0, max_depth=7, max_features=11, n_estimators=80;, score=-0.309 total time=   0.5s\n",
      "[CV 1/5] END learning_rate=1.0, max_depth=7, max_features=11, n_estimators=100;, score=-0.039 total time=   0.6s\n",
      "[CV 2/5] END learning_rate=1.0, max_depth=7, max_features=11, n_estimators=100;, score=-0.469 total time=   0.6s\n",
      "[CV 3/5] END learning_rate=1.0, max_depth=7, max_features=11, n_estimators=100;, score=0.058 total time=   0.6s\n",
      "[CV 4/5] END learning_rate=1.0, max_depth=7, max_features=11, n_estimators=100;, score=-0.198 total time=   0.6s\n",
      "[CV 5/5] END learning_rate=1.0, max_depth=7, max_features=11, n_estimators=100;, score=-0.265 total time=   0.6s\n",
      "[CV 1/5] END learning_rate=1.0, max_depth=7, max_features=11, n_estimators=150;, score=-0.051 total time=   1.0s\n",
      "[CV 2/5] END learning_rate=1.0, max_depth=7, max_features=11, n_estimators=150;, score=-0.470 total time=   1.0s\n",
      "[CV 3/5] END learning_rate=1.0, max_depth=7, max_features=11, n_estimators=150;, score=0.063 total time=   1.0s\n",
      "[CV 4/5] END learning_rate=1.0, max_depth=7, max_features=11, n_estimators=150;, score=-0.212 total time=   1.0s\n",
      "[CV 5/5] END learning_rate=1.0, max_depth=7, max_features=11, n_estimators=150;, score=-0.283 total time=   1.0s\n",
      "[CV 1/5] END learning_rate=1.0, max_depth=7, max_features=12, n_estimators=80;, score=-0.005 total time=   0.5s\n",
      "[CV 2/5] END learning_rate=1.0, max_depth=7, max_features=12, n_estimators=80;, score=-0.472 total time=   0.5s\n",
      "[CV 3/5] END learning_rate=1.0, max_depth=7, max_features=12, n_estimators=80;, score=0.167 total time=   0.5s\n",
      "[CV 4/5] END learning_rate=1.0, max_depth=7, max_features=12, n_estimators=80;, score=0.045 total time=   0.5s\n",
      "[CV 5/5] END learning_rate=1.0, max_depth=7, max_features=12, n_estimators=80;, score=-0.251 total time=   0.5s\n",
      "[CV 1/5] END learning_rate=1.0, max_depth=7, max_features=12, n_estimators=100;, score=-0.036 total time=   0.6s\n",
      "[CV 2/5] END learning_rate=1.0, max_depth=7, max_features=12, n_estimators=100;, score=-0.468 total time=   0.6s\n",
      "[CV 3/5] END learning_rate=1.0, max_depth=7, max_features=12, n_estimators=100;, score=0.193 total time=   0.6s\n",
      "[CV 4/5] END learning_rate=1.0, max_depth=7, max_features=12, n_estimators=100;, score=-0.274 total time=   0.6s\n",
      "[CV 5/5] END learning_rate=1.0, max_depth=7, max_features=12, n_estimators=100;, score=-0.198 total time=   0.7s\n",
      "[CV 1/5] END learning_rate=1.0, max_depth=7, max_features=12, n_estimators=150;, score=0.028 total time=   1.0s\n",
      "[CV 2/5] END learning_rate=1.0, max_depth=7, max_features=12, n_estimators=150;, score=-0.477 total time=   1.0s\n",
      "[CV 3/5] END learning_rate=1.0, max_depth=7, max_features=12, n_estimators=150;, score=0.055 total time=   1.0s\n",
      "[CV 4/5] END learning_rate=1.0, max_depth=7, max_features=12, n_estimators=150;, score=-0.035 total time=   1.0s\n",
      "[CV 5/5] END learning_rate=1.0, max_depth=7, max_features=12, n_estimators=150;, score=-0.210 total time=   1.0s\n",
      "[CV 1/5] END learning_rate=1.0, max_depth=8, max_features=10, n_estimators=80;, score=0.122 total time=   0.6s\n",
      "[CV 2/5] END learning_rate=1.0, max_depth=8, max_features=10, n_estimators=80;, score=-0.023 total time=   0.6s\n",
      "[CV 3/5] END learning_rate=1.0, max_depth=8, max_features=10, n_estimators=80;, score=0.145 total time=   0.6s\n",
      "[CV 4/5] END learning_rate=1.0, max_depth=8, max_features=10, n_estimators=80;, score=0.145 total time=   0.6s\n",
      "[CV 5/5] END learning_rate=1.0, max_depth=8, max_features=10, n_estimators=80;, score=-0.340 total time=   0.6s\n",
      "[CV 1/5] END learning_rate=1.0, max_depth=8, max_features=10, n_estimators=100;, score=0.238 total time=   0.7s\n",
      "[CV 2/5] END learning_rate=1.0, max_depth=8, max_features=10, n_estimators=100;, score=-0.009 total time=   0.7s\n",
      "[CV 3/5] END learning_rate=1.0, max_depth=8, max_features=10, n_estimators=100;, score=0.292 total time=   0.7s\n",
      "[CV 4/5] END learning_rate=1.0, max_depth=8, max_features=10, n_estimators=100;, score=0.091 total time=   0.7s\n",
      "[CV 5/5] END learning_rate=1.0, max_depth=8, max_features=10, n_estimators=100;, score=-0.337 total time=   0.7s\n",
      "[CV 1/5] END learning_rate=1.0, max_depth=8, max_features=10, n_estimators=150;, score=0.224 total time=   1.1s\n",
      "[CV 2/5] END learning_rate=1.0, max_depth=8, max_features=10, n_estimators=150;, score=-0.029 total time=   1.1s\n",
      "[CV 3/5] END learning_rate=1.0, max_depth=8, max_features=10, n_estimators=150;, score=0.201 total time=   1.1s\n",
      "[CV 4/5] END learning_rate=1.0, max_depth=8, max_features=10, n_estimators=150;, score=0.100 total time=   1.1s\n",
      "[CV 5/5] END learning_rate=1.0, max_depth=8, max_features=10, n_estimators=150;, score=-0.377 total time=   1.1s\n",
      "[CV 1/5] END learning_rate=1.0, max_depth=8, max_features=11, n_estimators=80;, score=0.088 total time=   0.6s\n",
      "[CV 2/5] END learning_rate=1.0, max_depth=8, max_features=11, n_estimators=80;, score=0.005 total time=   0.6s\n",
      "[CV 3/5] END learning_rate=1.0, max_depth=8, max_features=11, n_estimators=80;, score=0.191 total time=   0.6s\n",
      "[CV 4/5] END learning_rate=1.0, max_depth=8, max_features=11, n_estimators=80;, score=0.144 total time=   0.6s\n",
      "[CV 5/5] END learning_rate=1.0, max_depth=8, max_features=11, n_estimators=80;, score=-0.304 total time=   0.6s\n",
      "[CV 1/5] END learning_rate=1.0, max_depth=8, max_features=11, n_estimators=100;, score=0.140 total time=   0.7s\n",
      "[CV 2/5] END learning_rate=1.0, max_depth=8, max_features=11, n_estimators=100;, score=-0.025 total time=   0.7s\n",
      "[CV 3/5] END learning_rate=1.0, max_depth=8, max_features=11, n_estimators=100;, score=0.190 total time=   0.7s\n",
      "[CV 4/5] END learning_rate=1.0, max_depth=8, max_features=11, n_estimators=100;, score=0.162 total time=   0.7s\n",
      "[CV 5/5] END learning_rate=1.0, max_depth=8, max_features=11, n_estimators=100;, score=-0.505 total time=   0.7s\n",
      "[CV 1/5] END learning_rate=1.0, max_depth=8, max_features=11, n_estimators=150;, score=0.245 total time=   1.1s\n",
      "[CV 2/5] END learning_rate=1.0, max_depth=8, max_features=11, n_estimators=150;, score=0.023 total time=   1.1s\n",
      "[CV 3/5] END learning_rate=1.0, max_depth=8, max_features=11, n_estimators=150;, score=0.297 total time=   1.1s\n",
      "[CV 4/5] END learning_rate=1.0, max_depth=8, max_features=11, n_estimators=150;, score=0.088 total time=   1.1s\n",
      "[CV 5/5] END learning_rate=1.0, max_depth=8, max_features=11, n_estimators=150;, score=-0.293 total time=   1.1s\n",
      "[CV 1/5] END learning_rate=1.0, max_depth=8, max_features=12, n_estimators=80;, score=0.122 total time=   0.6s\n",
      "[CV 2/5] END learning_rate=1.0, max_depth=8, max_features=12, n_estimators=80;, score=-0.023 total time=   0.6s\n",
      "[CV 3/5] END learning_rate=1.0, max_depth=8, max_features=12, n_estimators=80;, score=0.133 total time=   0.6s\n",
      "[CV 4/5] END learning_rate=1.0, max_depth=8, max_features=12, n_estimators=80;, score=-0.115 total time=   0.6s\n",
      "[CV 5/5] END learning_rate=1.0, max_depth=8, max_features=12, n_estimators=80;, score=-0.566 total time=   0.6s\n",
      "[CV 1/5] END learning_rate=1.0, max_depth=8, max_features=12, n_estimators=100;, score=0.137 total time=   0.7s\n",
      "[CV 2/5] END learning_rate=1.0, max_depth=8, max_features=12, n_estimators=100;, score=-0.019 total time=   0.7s\n",
      "[CV 3/5] END learning_rate=1.0, max_depth=8, max_features=12, n_estimators=100;, score=0.245 total time=   0.7s\n"
     ]
    },
    {
     "name": "stdout",
     "output_type": "stream",
     "text": [
      "[CV 4/5] END learning_rate=1.0, max_depth=8, max_features=12, n_estimators=100;, score=-0.203 total time=   0.7s\n",
      "[CV 5/5] END learning_rate=1.0, max_depth=8, max_features=12, n_estimators=100;, score=-0.528 total time=   0.7s\n",
      "[CV 1/5] END learning_rate=1.0, max_depth=8, max_features=12, n_estimators=150;, score=0.234 total time=   1.1s\n",
      "[CV 2/5] END learning_rate=1.0, max_depth=8, max_features=12, n_estimators=150;, score=0.002 total time=   1.1s\n",
      "[CV 3/5] END learning_rate=1.0, max_depth=8, max_features=12, n_estimators=150;, score=0.197 total time=   1.1s\n",
      "[CV 4/5] END learning_rate=1.0, max_depth=8, max_features=12, n_estimators=150;, score=-0.111 total time=   1.1s\n",
      "[CV 5/5] END learning_rate=1.0, max_depth=8, max_features=12, n_estimators=150;, score=-0.454 total time=   1.1s\n",
      "[CV 1/5] END learning_rate=1.0, max_depth=9, max_features=10, n_estimators=80;, score=0.245 total time=   0.6s\n",
      "[CV 2/5] END learning_rate=1.0, max_depth=9, max_features=10, n_estimators=80;, score=-0.143 total time=   0.6s\n",
      "[CV 3/5] END learning_rate=1.0, max_depth=9, max_features=10, n_estimators=80;, score=0.250 total time=   0.6s\n",
      "[CV 4/5] END learning_rate=1.0, max_depth=9, max_features=10, n_estimators=80;, score=-0.273 total time=   0.6s\n",
      "[CV 5/5] END learning_rate=1.0, max_depth=9, max_features=10, n_estimators=80;, score=-0.204 total time=   0.6s\n",
      "[CV 1/5] END learning_rate=1.0, max_depth=9, max_features=10, n_estimators=100;, score=0.191 total time=   0.8s\n",
      "[CV 2/5] END learning_rate=1.0, max_depth=9, max_features=10, n_estimators=100;, score=-0.132 total time=   0.8s\n",
      "[CV 3/5] END learning_rate=1.0, max_depth=9, max_features=10, n_estimators=100;, score=0.309 total time=   0.8s\n",
      "[CV 4/5] END learning_rate=1.0, max_depth=9, max_features=10, n_estimators=100;, score=-0.265 total time=   0.8s\n",
      "[CV 5/5] END learning_rate=1.0, max_depth=9, max_features=10, n_estimators=100;, score=-0.190 total time=   0.8s\n",
      "[CV 1/5] END learning_rate=1.0, max_depth=9, max_features=10, n_estimators=150;, score=0.240 total time=   1.3s\n",
      "[CV 2/5] END learning_rate=1.0, max_depth=9, max_features=10, n_estimators=150;, score=-0.140 total time=   1.3s\n",
      "[CV 3/5] END learning_rate=1.0, max_depth=9, max_features=10, n_estimators=150;, score=0.363 total time=   1.3s\n",
      "[CV 4/5] END learning_rate=1.0, max_depth=9, max_features=10, n_estimators=150;, score=-0.208 total time=   1.3s\n",
      "[CV 5/5] END learning_rate=1.0, max_depth=9, max_features=10, n_estimators=150;, score=-0.300 total time=   1.3s\n",
      "[CV 1/5] END learning_rate=1.0, max_depth=9, max_features=11, n_estimators=80;, score=0.180 total time=   0.6s\n",
      "[CV 2/5] END learning_rate=1.0, max_depth=9, max_features=11, n_estimators=80;, score=-0.119 total time=   0.6s\n",
      "[CV 3/5] END learning_rate=1.0, max_depth=9, max_features=11, n_estimators=80;, score=0.316 total time=   0.6s\n",
      "[CV 4/5] END learning_rate=1.0, max_depth=9, max_features=11, n_estimators=80;, score=-0.265 total time=   0.6s\n",
      "[CV 5/5] END learning_rate=1.0, max_depth=9, max_features=11, n_estimators=80;, score=-0.246 total time=   0.6s\n",
      "[CV 1/5] END learning_rate=1.0, max_depth=9, max_features=11, n_estimators=100;, score=0.206 total time=   0.8s\n",
      "[CV 2/5] END learning_rate=1.0, max_depth=9, max_features=11, n_estimators=100;, score=-0.131 total time=   0.8s\n",
      "[CV 3/5] END learning_rate=1.0, max_depth=9, max_features=11, n_estimators=100;, score=0.319 total time=   0.8s\n",
      "[CV 4/5] END learning_rate=1.0, max_depth=9, max_features=11, n_estimators=100;, score=-0.248 total time=   0.8s\n",
      "[CV 5/5] END learning_rate=1.0, max_depth=9, max_features=11, n_estimators=100;, score=-0.158 total time=   0.8s\n",
      "[CV 1/5] END learning_rate=1.0, max_depth=9, max_features=11, n_estimators=150;, score=0.206 total time=   1.3s\n",
      "[CV 2/5] END learning_rate=1.0, max_depth=9, max_features=11, n_estimators=150;, score=-0.129 total time=   1.3s\n",
      "[CV 3/5] END learning_rate=1.0, max_depth=9, max_features=11, n_estimators=150;, score=0.296 total time=   1.3s\n",
      "[CV 4/5] END learning_rate=1.0, max_depth=9, max_features=11, n_estimators=150;, score=0.070 total time=   1.3s\n",
      "[CV 5/5] END learning_rate=1.0, max_depth=9, max_features=11, n_estimators=150;, score=-0.271 total time=   1.3s\n",
      "[CV 1/5] END learning_rate=1.0, max_depth=9, max_features=12, n_estimators=80;, score=0.212 total time=   0.6s\n",
      "[CV 2/5] END learning_rate=1.0, max_depth=9, max_features=12, n_estimators=80;, score=-0.101 total time=   0.6s\n",
      "[CV 3/5] END learning_rate=1.0, max_depth=9, max_features=12, n_estimators=80;, score=0.296 total time=   0.6s\n",
      "[CV 4/5] END learning_rate=1.0, max_depth=9, max_features=12, n_estimators=80;, score=-0.228 total time=   0.6s\n",
      "[CV 5/5] END learning_rate=1.0, max_depth=9, max_features=12, n_estimators=80;, score=-0.257 total time=   0.6s\n",
      "[CV 1/5] END learning_rate=1.0, max_depth=9, max_features=12, n_estimators=100;, score=0.209 total time=   0.8s\n",
      "[CV 2/5] END learning_rate=1.0, max_depth=9, max_features=12, n_estimators=100;, score=-0.129 total time=   0.8s\n",
      "[CV 3/5] END learning_rate=1.0, max_depth=9, max_features=12, n_estimators=100;, score=0.262 total time=   0.8s\n",
      "[CV 4/5] END learning_rate=1.0, max_depth=9, max_features=12, n_estimators=100;, score=0.086 total time=   0.8s\n",
      "[CV 5/5] END learning_rate=1.0, max_depth=9, max_features=12, n_estimators=100;, score=-0.162 total time=   0.8s\n",
      "[CV 1/5] END learning_rate=1.0, max_depth=9, max_features=12, n_estimators=150;, score=0.262 total time=   1.3s\n",
      "[CV 2/5] END learning_rate=1.0, max_depth=9, max_features=12, n_estimators=150;, score=-0.125 total time=   1.3s\n",
      "[CV 3/5] END learning_rate=1.0, max_depth=9, max_features=12, n_estimators=150;, score=0.258 total time=   1.3s\n",
      "[CV 4/5] END learning_rate=1.0, max_depth=9, max_features=12, n_estimators=150;, score=-0.244 total time=   1.3s\n",
      "[CV 5/5] END learning_rate=1.0, max_depth=9, max_features=12, n_estimators=150;, score=-0.077 total time=   1.3s\n",
      "[CV 1/5] END learning_rate=1.0, max_depth=10, max_features=10, n_estimators=80;, score=0.209 total time=   0.7s\n",
      "[CV 2/5] END learning_rate=1.0, max_depth=10, max_features=10, n_estimators=80;, score=-0.064 total time=   0.7s\n",
      "[CV 3/5] END learning_rate=1.0, max_depth=10, max_features=10, n_estimators=80;, score=0.252 total time=   0.7s\n",
      "[CV 4/5] END learning_rate=1.0, max_depth=10, max_features=10, n_estimators=80;, score=0.098 total time=   0.7s\n",
      "[CV 5/5] END learning_rate=1.0, max_depth=10, max_features=10, n_estimators=80;, score=-0.022 total time=   0.7s\n",
      "[CV 1/5] END learning_rate=1.0, max_depth=10, max_features=10, n_estimators=100;, score=0.212 total time=   0.9s\n",
      "[CV 2/5] END learning_rate=1.0, max_depth=10, max_features=10, n_estimators=100;, score=-0.067 total time=   0.9s\n",
      "[CV 3/5] END learning_rate=1.0, max_depth=10, max_features=10, n_estimators=100;, score=0.181 total time=   0.9s\n",
      "[CV 4/5] END learning_rate=1.0, max_depth=10, max_features=10, n_estimators=100;, score=0.147 total time=   0.9s\n",
      "[CV 5/5] END learning_rate=1.0, max_depth=10, max_features=10, n_estimators=100;, score=-0.113 total time=   0.9s\n",
      "[CV 1/5] END learning_rate=1.0, max_depth=10, max_features=10, n_estimators=150;, score=0.205 total time=   1.4s\n",
      "[CV 2/5] END learning_rate=1.0, max_depth=10, max_features=10, n_estimators=150;, score=-0.064 total time=   1.4s\n",
      "[CV 3/5] END learning_rate=1.0, max_depth=10, max_features=10, n_estimators=150;, score=0.256 total time=   1.4s\n",
      "[CV 4/5] END learning_rate=1.0, max_depth=10, max_features=10, n_estimators=150;, score=0.078 total time=   1.4s\n",
      "[CV 5/5] END learning_rate=1.0, max_depth=10, max_features=10, n_estimators=150;, score=0.039 total time=   1.4s\n",
      "[CV 1/5] END learning_rate=1.0, max_depth=10, max_features=11, n_estimators=80;, score=0.224 total time=   0.7s\n",
      "[CV 2/5] END learning_rate=1.0, max_depth=10, max_features=11, n_estimators=80;, score=-0.074 total time=   0.7s\n",
      "[CV 3/5] END learning_rate=1.0, max_depth=10, max_features=11, n_estimators=80;, score=0.292 total time=   0.7s\n",
      "[CV 4/5] END learning_rate=1.0, max_depth=10, max_features=11, n_estimators=80;, score=0.179 total time=   0.7s\n",
      "[CV 5/5] END learning_rate=1.0, max_depth=10, max_features=11, n_estimators=80;, score=-0.063 total time=   0.7s\n",
      "[CV 1/5] END learning_rate=1.0, max_depth=10, max_features=11, n_estimators=100;, score=0.211 total time=   0.9s\n"
     ]
    },
    {
     "name": "stdout",
     "output_type": "stream",
     "text": [
      "[CV 2/5] END learning_rate=1.0, max_depth=10, max_features=11, n_estimators=100;, score=-0.067 total time=   0.9s\n",
      "[CV 3/5] END learning_rate=1.0, max_depth=10, max_features=11, n_estimators=100;, score=0.292 total time=   0.9s\n",
      "[CV 4/5] END learning_rate=1.0, max_depth=10, max_features=11, n_estimators=100;, score=-0.121 total time=   0.9s\n",
      "[CV 5/5] END learning_rate=1.0, max_depth=10, max_features=11, n_estimators=100;, score=-0.010 total time=   0.9s\n",
      "[CV 1/5] END learning_rate=1.0, max_depth=10, max_features=11, n_estimators=150;, score=0.202 total time=   1.6s\n",
      "[CV 2/5] END learning_rate=1.0, max_depth=10, max_features=11, n_estimators=150;, score=-0.069 total time=   1.5s\n",
      "[CV 3/5] END learning_rate=1.0, max_depth=10, max_features=11, n_estimators=150;, score=0.239 total time=   1.4s\n",
      "[CV 4/5] END learning_rate=1.0, max_depth=10, max_features=11, n_estimators=150;, score=0.097 total time=   1.4s\n",
      "[CV 5/5] END learning_rate=1.0, max_depth=10, max_features=11, n_estimators=150;, score=0.029 total time=   1.4s\n",
      "[CV 1/5] END learning_rate=1.0, max_depth=10, max_features=12, n_estimators=80;, score=0.220 total time=   0.8s\n",
      "[CV 2/5] END learning_rate=1.0, max_depth=10, max_features=12, n_estimators=80;, score=-0.069 total time=60.0min\n",
      "[CV 3/5] END learning_rate=1.0, max_depth=10, max_features=12, n_estimators=80;, score=0.244 total time=   1.0s\n",
      "[CV 4/5] END learning_rate=1.0, max_depth=10, max_features=12, n_estimators=80;, score=-0.182 total time=   0.8s\n",
      "[CV 5/5] END learning_rate=1.0, max_depth=10, max_features=12, n_estimators=80;, score=-0.060 total time=   0.9s\n",
      "[CV 1/5] END learning_rate=1.0, max_depth=10, max_features=12, n_estimators=100;, score=0.215 total time=   0.9s\n",
      "[CV 2/5] END learning_rate=1.0, max_depth=10, max_features=12, n_estimators=100;, score=-0.067 total time=   0.9s\n",
      "[CV 3/5] END learning_rate=1.0, max_depth=10, max_features=12, n_estimators=100;, score=0.313 total time=88.0min\n",
      "[CV 4/5] END learning_rate=1.0, max_depth=10, max_features=12, n_estimators=100;, score=-0.152 total time=   1.2s\n",
      "[CV 5/5] END learning_rate=1.0, max_depth=10, max_features=12, n_estimators=100;, score=-0.128 total time=   1.7s\n",
      "[CV 1/5] END learning_rate=1.0, max_depth=10, max_features=12, n_estimators=150;, score=0.221 total time=   1.7s\n",
      "[CV 2/5] END learning_rate=1.0, max_depth=10, max_features=12, n_estimators=150;, score=-0.051 total time=   1.9s\n",
      "[CV 3/5] END learning_rate=1.0, max_depth=10, max_features=12, n_estimators=150;, score=0.258 total time=   1.5s\n",
      "[CV 4/5] END learning_rate=1.0, max_depth=10, max_features=12, n_estimators=150;, score=0.164 total time=   1.6s\n",
      "[CV 5/5] END learning_rate=1.0, max_depth=10, max_features=12, n_estimators=150;, score=-0.022 total time=   1.5s\n",
      "[CV 1/5] END learning_rate=1.5, max_depth=7, max_features=10, n_estimators=80;, score=-0.442 total time=   0.5s\n",
      "[CV 2/5] END learning_rate=1.5, max_depth=7, max_features=10, n_estimators=80;, score=-0.875 total time=   0.5s\n",
      "[CV 3/5] END learning_rate=1.5, max_depth=7, max_features=10, n_estimators=80;, score=-0.496 total time=   0.5s\n",
      "[CV 4/5] END learning_rate=1.5, max_depth=7, max_features=10, n_estimators=80;, score=-0.794 total time=   0.5s\n",
      "[CV 5/5] END learning_rate=1.5, max_depth=7, max_features=10, n_estimators=80;, score=-0.761 total time=   0.5s\n",
      "[CV 1/5] END learning_rate=1.5, max_depth=7, max_features=10, n_estimators=100;, score=-0.396 total time=   0.7s\n",
      "[CV 2/5] END learning_rate=1.5, max_depth=7, max_features=10, n_estimators=100;, score=-0.874 total time=   0.7s\n",
      "[CV 3/5] END learning_rate=1.5, max_depth=7, max_features=10, n_estimators=100;, score=-0.124 total time=   0.7s\n",
      "[CV 4/5] END learning_rate=1.5, max_depth=7, max_features=10, n_estimators=100;, score=-0.174 total time=   0.7s\n",
      "[CV 5/5] END learning_rate=1.5, max_depth=7, max_features=10, n_estimators=100;, score=-0.971 total time=   0.7s\n",
      "[CV 1/5] END learning_rate=1.5, max_depth=7, max_features=10, n_estimators=150;, score=-0.588 total time=   1.1s\n",
      "[CV 2/5] END learning_rate=1.5, max_depth=7, max_features=10, n_estimators=150;, score=-0.328 total time=   1.0s\n",
      "[CV 3/5] END learning_rate=1.5, max_depth=7, max_features=10, n_estimators=150;, score=-0.495 total time=   1.0s\n",
      "[CV 4/5] END learning_rate=1.5, max_depth=7, max_features=10, n_estimators=150;, score=-0.259 total time=   1.0s\n",
      "[CV 5/5] END learning_rate=1.5, max_depth=7, max_features=10, n_estimators=150;, score=-1.027 total time=   1.0s\n",
      "[CV 1/5] END learning_rate=1.5, max_depth=7, max_features=11, n_estimators=80;, score=-0.831 total time=   0.5s\n",
      "[CV 2/5] END learning_rate=1.5, max_depth=7, max_features=11, n_estimators=80;, score=-0.293 total time=   0.5s\n",
      "[CV 3/5] END learning_rate=1.5, max_depth=7, max_features=11, n_estimators=80;, score=-0.167 total time=   0.5s\n",
      "[CV 4/5] END learning_rate=1.5, max_depth=7, max_features=11, n_estimators=80;, score=-0.890 total time=   0.5s\n",
      "[CV 5/5] END learning_rate=1.5, max_depth=7, max_features=11, n_estimators=80;, score=-0.961 total time=   0.5s\n",
      "[CV 1/5] END learning_rate=1.5, max_depth=7, max_features=11, n_estimators=100;, score=-0.626 total time=   0.7s\n",
      "[CV 2/5] END learning_rate=1.5, max_depth=7, max_features=11, n_estimators=100;, score=-0.292 total time=   0.6s\n",
      "[CV 3/5] END learning_rate=1.5, max_depth=7, max_features=11, n_estimators=100;, score=-0.087 total time=   0.7s\n",
      "[CV 4/5] END learning_rate=1.5, max_depth=7, max_features=11, n_estimators=100;, score=-0.819 total time=   0.7s\n",
      "[CV 5/5] END learning_rate=1.5, max_depth=7, max_features=11, n_estimators=100;, score=-0.823 total time=   0.6s\n",
      "[CV 1/5] END learning_rate=1.5, max_depth=7, max_features=11, n_estimators=150;, score=-0.392 total time=   1.0s\n",
      "[CV 2/5] END learning_rate=1.5, max_depth=7, max_features=11, n_estimators=150;, score=-0.293 total time=   1.0s\n",
      "[CV 3/5] END learning_rate=1.5, max_depth=7, max_features=11, n_estimators=150;, score=-0.471 total time=   1.0s\n",
      "[CV 4/5] END learning_rate=1.5, max_depth=7, max_features=11, n_estimators=150;, score=-0.856 total time=   1.0s\n",
      "[CV 5/5] END learning_rate=1.5, max_depth=7, max_features=11, n_estimators=150;, score=-0.956 total time=   1.0s\n",
      "[CV 1/5] END learning_rate=1.5, max_depth=7, max_features=12, n_estimators=80;, score=-0.589 total time=   0.5s\n",
      "[CV 2/5] END learning_rate=1.5, max_depth=7, max_features=12, n_estimators=80;, score=-0.289 total time=   0.5s\n",
      "[CV 3/5] END learning_rate=1.5, max_depth=7, max_features=12, n_estimators=80;, score=-0.448 total time=   0.5s\n",
      "[CV 4/5] END learning_rate=1.5, max_depth=7, max_features=12, n_estimators=80;, score=-0.209 total time=   0.5s\n",
      "[CV 5/5] END learning_rate=1.5, max_depth=7, max_features=12, n_estimators=80;, score=-0.739 total time=   0.5s\n",
      "[CV 1/5] END learning_rate=1.5, max_depth=7, max_features=12, n_estimators=100;, score=-0.856 total time=   0.6s\n",
      "[CV 2/5] END learning_rate=1.5, max_depth=7, max_features=12, n_estimators=100;, score=-0.388 total time=   0.6s\n",
      "[CV 3/5] END learning_rate=1.5, max_depth=7, max_features=12, n_estimators=100;, score=-0.145 total time=   0.6s\n",
      "[CV 4/5] END learning_rate=1.5, max_depth=7, max_features=12, n_estimators=100;, score=-0.191 total time=   0.6s\n",
      "[CV 5/5] END learning_rate=1.5, max_depth=7, max_features=12, n_estimators=100;, score=-0.962 total time=   0.6s\n",
      "[CV 1/5] END learning_rate=1.5, max_depth=7, max_features=12, n_estimators=150;, score=-0.672 total time=   1.0s\n",
      "[CV 2/5] END learning_rate=1.5, max_depth=7, max_features=12, n_estimators=150;, score=-0.421 total time=   1.0s\n",
      "[CV 3/5] END learning_rate=1.5, max_depth=7, max_features=12, n_estimators=150;, score=-0.533 total time=   1.0s\n",
      "[CV 4/5] END learning_rate=1.5, max_depth=7, max_features=12, n_estimators=150;, score=-0.790 total time=   1.0s\n",
      "[CV 5/5] END learning_rate=1.5, max_depth=7, max_features=12, n_estimators=150;, score=-0.949 total time=   1.2s\n",
      "[CV 1/5] END learning_rate=1.5, max_depth=8, max_features=10, n_estimators=80;, score=-0.232 total time=   0.6s\n",
      "[CV 2/5] END learning_rate=1.5, max_depth=8, max_features=10, n_estimators=80;, score=-0.944 total time=   0.6s\n",
      "[CV 3/5] END learning_rate=1.5, max_depth=8, max_features=10, n_estimators=80;, score=-0.146 total time=   0.6s\n",
      "[CV 4/5] END learning_rate=1.5, max_depth=8, max_features=10, n_estimators=80;, score=-0.710 total time=   0.7s\n"
     ]
    },
    {
     "name": "stdout",
     "output_type": "stream",
     "text": [
      "[CV 5/5] END learning_rate=1.5, max_depth=8, max_features=10, n_estimators=80;, score=-0.510 total time=   0.6s\n",
      "[CV 1/5] END learning_rate=1.5, max_depth=8, max_features=10, n_estimators=100;, score=-0.331 total time=   0.8s\n",
      "[CV 2/5] END learning_rate=1.5, max_depth=8, max_features=10, n_estimators=100;, score=-0.803 total time=   0.8s\n",
      "[CV 3/5] END learning_rate=1.5, max_depth=8, max_features=10, n_estimators=100;, score=-0.220 total time=   0.9s\n",
      "[CV 4/5] END learning_rate=1.5, max_depth=8, max_features=10, n_estimators=100;, score=-0.226 total time=   0.8s\n",
      "[CV 5/5] END learning_rate=1.5, max_depth=8, max_features=10, n_estimators=100;, score=-0.473 total time=   0.7s\n",
      "[CV 1/5] END learning_rate=1.5, max_depth=8, max_features=10, n_estimators=150;, score=-0.208 total time=   1.2s\n",
      "[CV 2/5] END learning_rate=1.5, max_depth=8, max_features=10, n_estimators=150;, score=-0.833 total time=   1.2s\n",
      "[CV 3/5] END learning_rate=1.5, max_depth=8, max_features=10, n_estimators=150;, score=-0.172 total time=   1.2s\n",
      "[CV 4/5] END learning_rate=1.5, max_depth=8, max_features=10, n_estimators=150;, score=-0.139 total time=   1.2s\n",
      "[CV 5/5] END learning_rate=1.5, max_depth=8, max_features=10, n_estimators=150;, score=-0.563 total time=   1.2s\n",
      "[CV 1/5] END learning_rate=1.5, max_depth=8, max_features=11, n_estimators=80;, score=-0.337 total time=   0.6s\n",
      "[CV 2/5] END learning_rate=1.5, max_depth=8, max_features=11, n_estimators=80;, score=-0.833 total time=   0.6s\n",
      "[CV 3/5] END learning_rate=1.5, max_depth=8, max_features=11, n_estimators=80;, score=-0.156 total time=   0.6s\n",
      "[CV 4/5] END learning_rate=1.5, max_depth=8, max_features=11, n_estimators=80;, score=-0.093 total time=   0.6s\n",
      "[CV 5/5] END learning_rate=1.5, max_depth=8, max_features=11, n_estimators=80;, score=-0.423 total time=   0.6s\n",
      "[CV 1/5] END learning_rate=1.5, max_depth=8, max_features=11, n_estimators=100;, score=-0.332 total time=   0.7s\n",
      "[CV 2/5] END learning_rate=1.5, max_depth=8, max_features=11, n_estimators=100;, score=-0.875 total time=   0.7s\n",
      "[CV 3/5] END learning_rate=1.5, max_depth=8, max_features=11, n_estimators=100;, score=-0.224 total time=   0.7s\n",
      "[CV 4/5] END learning_rate=1.5, max_depth=8, max_features=11, n_estimators=100;, score=-0.157 total time=   0.7s\n",
      "[CV 5/5] END learning_rate=1.5, max_depth=8, max_features=11, n_estimators=100;, score=-0.846 total time=   0.7s\n",
      "[CV 1/5] END learning_rate=1.5, max_depth=8, max_features=11, n_estimators=150;, score=-0.170 total time=   1.2s\n",
      "[CV 2/5] END learning_rate=1.5, max_depth=8, max_features=11, n_estimators=150;, score=-0.886 total time=   1.1s\n",
      "[CV 3/5] END learning_rate=1.5, max_depth=8, max_features=11, n_estimators=150;, score=-0.179 total time=   1.2s\n",
      "[CV 4/5] END learning_rate=1.5, max_depth=8, max_features=11, n_estimators=150;, score=-0.692 total time=   1.1s\n",
      "[CV 5/5] END learning_rate=1.5, max_depth=8, max_features=11, n_estimators=150;, score=-0.865 total time=   1.2s\n",
      "[CV 1/5] END learning_rate=1.5, max_depth=8, max_features=12, n_estimators=80;, score=-0.356 total time=   0.6s\n",
      "[CV 2/5] END learning_rate=1.5, max_depth=8, max_features=12, n_estimators=80;, score=-0.885 total time=   0.6s\n",
      "[CV 3/5] END learning_rate=1.5, max_depth=8, max_features=12, n_estimators=80;, score=-0.193 total time=   0.6s\n",
      "[CV 4/5] END learning_rate=1.5, max_depth=8, max_features=12, n_estimators=80;, score=-0.988 total time=   0.6s\n",
      "[CV 5/5] END learning_rate=1.5, max_depth=8, max_features=12, n_estimators=80;, score=-0.444 total time=   0.6s\n",
      "[CV 1/5] END learning_rate=1.5, max_depth=8, max_features=12, n_estimators=100;, score=-0.285 total time=   0.7s\n",
      "[CV 2/5] END learning_rate=1.5, max_depth=8, max_features=12, n_estimators=100;, score=-0.955 total time=   0.7s\n",
      "[CV 3/5] END learning_rate=1.5, max_depth=8, max_features=12, n_estimators=100;, score=-0.140 total time=   0.7s\n",
      "[CV 4/5] END learning_rate=1.5, max_depth=8, max_features=12, n_estimators=100;, score=-0.721 total time=   0.7s\n",
      "[CV 5/5] END learning_rate=1.5, max_depth=8, max_features=12, n_estimators=100;, score=-0.381 total time=   0.7s\n",
      "[CV 1/5] END learning_rate=1.5, max_depth=8, max_features=12, n_estimators=150;, score=-0.282 total time=   1.2s\n",
      "[CV 2/5] END learning_rate=1.5, max_depth=8, max_features=12, n_estimators=150;, score=-0.796 total time=   1.1s\n",
      "[CV 3/5] END learning_rate=1.5, max_depth=8, max_features=12, n_estimators=150;, score=-0.181 total time=   1.1s\n",
      "[CV 4/5] END learning_rate=1.5, max_depth=8, max_features=12, n_estimators=150;, score=-0.853 total time=   1.1s\n",
      "[CV 5/5] END learning_rate=1.5, max_depth=8, max_features=12, n_estimators=150;, score=-0.406 total time=   1.1s\n",
      "[CV 1/5] END learning_rate=1.5, max_depth=9, max_features=10, n_estimators=80;, score=-0.433 total time=   0.6s\n",
      "[CV 2/5] END learning_rate=1.5, max_depth=9, max_features=10, n_estimators=80;, score=-0.504 total time=   0.6s\n",
      "[CV 3/5] END learning_rate=1.5, max_depth=9, max_features=10, n_estimators=80;, score=-0.135 total time=   0.6s\n",
      "[CV 4/5] END learning_rate=1.5, max_depth=9, max_features=10, n_estimators=80;, score=-0.227 total time=   0.6s\n",
      "[CV 5/5] END learning_rate=1.5, max_depth=9, max_features=10, n_estimators=80;, score=-0.859 total time=   0.6s\n",
      "[CV 1/5] END learning_rate=1.5, max_depth=9, max_features=10, n_estimators=100;, score=-0.428 total time=   0.8s\n",
      "[CV 2/5] END learning_rate=1.5, max_depth=9, max_features=10, n_estimators=100;, score=-0.526 total time=   0.8s\n",
      "[CV 3/5] END learning_rate=1.5, max_depth=9, max_features=10, n_estimators=100;, score=-0.134 total time=   0.8s\n",
      "[CV 4/5] END learning_rate=1.5, max_depth=9, max_features=10, n_estimators=100;, score=-0.228 total time=   0.8s\n",
      "[CV 5/5] END learning_rate=1.5, max_depth=9, max_features=10, n_estimators=100;, score=-0.806 total time=   0.8s\n",
      "[CV 1/5] END learning_rate=1.5, max_depth=9, max_features=10, n_estimators=150;, score=-0.448 total time=   1.3s\n",
      "[CV 2/5] END learning_rate=1.5, max_depth=9, max_features=10, n_estimators=150;, score=-0.521 total time=   1.3s\n",
      "[CV 3/5] END learning_rate=1.5, max_depth=9, max_features=10, n_estimators=150;, score=-0.127 total time=   1.3s\n",
      "[CV 4/5] END learning_rate=1.5, max_depth=9, max_features=10, n_estimators=150;, score=-0.303 total time=   1.3s\n",
      "[CV 5/5] END learning_rate=1.5, max_depth=9, max_features=10, n_estimators=150;, score=-0.803 total time=   1.3s\n",
      "[CV 1/5] END learning_rate=1.5, max_depth=9, max_features=11, n_estimators=80;, score=-0.272 total time=   0.7s\n",
      "[CV 2/5] END learning_rate=1.5, max_depth=9, max_features=11, n_estimators=80;, score=-0.488 total time=   0.7s\n",
      "[CV 3/5] END learning_rate=1.5, max_depth=9, max_features=11, n_estimators=80;, score=-0.137 total time=   0.6s\n",
      "[CV 4/5] END learning_rate=1.5, max_depth=9, max_features=11, n_estimators=80;, score=-0.637 total time=   0.6s\n",
      "[CV 5/5] END learning_rate=1.5, max_depth=9, max_features=11, n_estimators=80;, score=-0.563 total time=   0.6s\n",
      "[CV 1/5] END learning_rate=1.5, max_depth=9, max_features=11, n_estimators=100;, score=-0.361 total time=   0.8s\n",
      "[CV 2/5] END learning_rate=1.5, max_depth=9, max_features=11, n_estimators=100;, score=-0.467 total time=   0.8s\n",
      "[CV 3/5] END learning_rate=1.5, max_depth=9, max_features=11, n_estimators=100;, score=-0.123 total time=   0.8s\n",
      "[CV 4/5] END learning_rate=1.5, max_depth=9, max_features=11, n_estimators=100;, score=-0.280 total time=   0.8s\n",
      "[CV 5/5] END learning_rate=1.5, max_depth=9, max_features=11, n_estimators=100;, score=-1.215 total time=   0.8s\n",
      "[CV 1/5] END learning_rate=1.5, max_depth=9, max_features=11, n_estimators=150;, score=-0.381 total time=   1.3s\n",
      "[CV 2/5] END learning_rate=1.5, max_depth=9, max_features=11, n_estimators=150;, score=-0.522 total time=   1.3s\n",
      "[CV 3/5] END learning_rate=1.5, max_depth=9, max_features=11, n_estimators=150;, score=-0.119 total time=   1.3s\n",
      "[CV 4/5] END learning_rate=1.5, max_depth=9, max_features=11, n_estimators=150;, score=-0.586 total time=   1.3s\n",
      "[CV 5/5] END learning_rate=1.5, max_depth=9, max_features=11, n_estimators=150;, score=-0.716 total time=   1.3s\n",
      "[CV 1/5] END learning_rate=1.5, max_depth=9, max_features=12, n_estimators=80;, score=-0.377 total time=   0.6s\n",
      "[CV 2/5] END learning_rate=1.5, max_depth=9, max_features=12, n_estimators=80;, score=-0.563 total time=   0.6s\n"
     ]
    },
    {
     "name": "stdout",
     "output_type": "stream",
     "text": [
      "[CV 3/5] END learning_rate=1.5, max_depth=9, max_features=12, n_estimators=80;, score=-0.158 total time=   0.6s\n",
      "[CV 4/5] END learning_rate=1.5, max_depth=9, max_features=12, n_estimators=80;, score=-0.690 total time=   0.6s\n",
      "[CV 5/5] END learning_rate=1.5, max_depth=9, max_features=12, n_estimators=80;, score=-0.582 total time=   0.6s\n",
      "[CV 1/5] END learning_rate=1.5, max_depth=9, max_features=12, n_estimators=100;, score=-0.250 total time=   0.8s\n",
      "[CV 2/5] END learning_rate=1.5, max_depth=9, max_features=12, n_estimators=100;, score=-0.505 total time=   0.8s\n",
      "[CV 3/5] END learning_rate=1.5, max_depth=9, max_features=12, n_estimators=100;, score=-0.125 total time=   0.8s\n",
      "[CV 4/5] END learning_rate=1.5, max_depth=9, max_features=12, n_estimators=100;, score=-0.562 total time=   0.8s\n",
      "[CV 5/5] END learning_rate=1.5, max_depth=9, max_features=12, n_estimators=100;, score=-0.853 total time=   0.8s\n",
      "[CV 1/5] END learning_rate=1.5, max_depth=9, max_features=12, n_estimators=150;, score=-0.251 total time=   1.3s\n",
      "[CV 2/5] END learning_rate=1.5, max_depth=9, max_features=12, n_estimators=150;, score=-0.531 total time=   1.3s\n",
      "[CV 3/5] END learning_rate=1.5, max_depth=9, max_features=12, n_estimators=150;, score=-0.156 total time=   1.3s\n",
      "[CV 4/5] END learning_rate=1.5, max_depth=9, max_features=12, n_estimators=150;, score=-0.744 total time=   1.3s\n",
      "[CV 5/5] END learning_rate=1.5, max_depth=9, max_features=12, n_estimators=150;, score=-0.822 total time=   1.3s\n",
      "[CV 1/5] END learning_rate=1.5, max_depth=10, max_features=10, n_estimators=80;, score=-0.359 total time=   0.7s\n",
      "[CV 2/5] END learning_rate=1.5, max_depth=10, max_features=10, n_estimators=80;, score=-0.843 total time=   0.7s\n",
      "[CV 3/5] END learning_rate=1.5, max_depth=10, max_features=10, n_estimators=80;, score=-0.091 total time=   0.7s\n",
      "[CV 4/5] END learning_rate=1.5, max_depth=10, max_features=10, n_estimators=80;, score=-1.333 total time=   0.7s\n",
      "[CV 5/5] END learning_rate=1.5, max_depth=10, max_features=10, n_estimators=80;, score=-0.821 total time=   0.7s\n",
      "[CV 1/5] END learning_rate=1.5, max_depth=10, max_features=10, n_estimators=100;, score=-0.375 total time=   0.9s\n",
      "[CV 2/5] END learning_rate=1.5, max_depth=10, max_features=10, n_estimators=100;, score=-0.838 total time=   0.9s\n",
      "[CV 3/5] END learning_rate=1.5, max_depth=10, max_features=10, n_estimators=100;, score=-0.018 total time=   0.9s\n",
      "[CV 4/5] END learning_rate=1.5, max_depth=10, max_features=10, n_estimators=100;, score=-0.523 total time=   0.9s\n",
      "[CV 5/5] END learning_rate=1.5, max_depth=10, max_features=10, n_estimators=100;, score=-1.902 total time=   0.9s\n",
      "[CV 1/5] END learning_rate=1.5, max_depth=10, max_features=10, n_estimators=150;, score=-0.401 total time=   1.4s\n",
      "[CV 2/5] END learning_rate=1.5, max_depth=10, max_features=10, n_estimators=150;, score=-0.874 total time=   1.4s\n",
      "[CV 3/5] END learning_rate=1.5, max_depth=10, max_features=10, n_estimators=150;, score=-0.016 total time=   1.4s\n",
      "[CV 4/5] END learning_rate=1.5, max_depth=10, max_features=10, n_estimators=150;, score=-0.928 total time=   1.4s\n",
      "[CV 5/5] END learning_rate=1.5, max_depth=10, max_features=10, n_estimators=150;, score=-0.958 total time=   1.4s\n",
      "[CV 1/5] END learning_rate=1.5, max_depth=10, max_features=11, n_estimators=80;, score=-0.406 total time=   0.7s\n",
      "[CV 2/5] END learning_rate=1.5, max_depth=10, max_features=11, n_estimators=80;, score=-0.898 total time=   0.7s\n",
      "[CV 3/5] END learning_rate=1.5, max_depth=10, max_features=11, n_estimators=80;, score=-0.070 total time=   0.7s\n",
      "[CV 4/5] END learning_rate=1.5, max_depth=10, max_features=11, n_estimators=80;, score=-0.650 total time=   0.7s\n",
      "[CV 5/5] END learning_rate=1.5, max_depth=10, max_features=11, n_estimators=80;, score=-0.997 total time=   0.7s\n",
      "[CV 1/5] END learning_rate=1.5, max_depth=10, max_features=11, n_estimators=100;, score=-0.398 total time=   0.9s\n",
      "[CV 2/5] END learning_rate=1.5, max_depth=10, max_features=11, n_estimators=100;, score=-0.795 total time=   0.9s\n",
      "[CV 3/5] END learning_rate=1.5, max_depth=10, max_features=11, n_estimators=100;, score=-0.074 total time=   0.9s\n",
      "[CV 4/5] END learning_rate=1.5, max_depth=10, max_features=11, n_estimators=100;, score=-1.385 total time=   1.0s\n",
      "[CV 5/5] END learning_rate=1.5, max_depth=10, max_features=11, n_estimators=100;, score=-1.282 total time=   0.9s\n",
      "[CV 1/5] END learning_rate=1.5, max_depth=10, max_features=11, n_estimators=150;, score=-0.245 total time=   1.5s\n",
      "[CV 2/5] END learning_rate=1.5, max_depth=10, max_features=11, n_estimators=150;, score=-0.748 total time=   1.4s\n",
      "[CV 3/5] END learning_rate=1.5, max_depth=10, max_features=11, n_estimators=150;, score=-0.075 total time=   1.4s\n",
      "[CV 4/5] END learning_rate=1.5, max_depth=10, max_features=11, n_estimators=150;, score=-0.472 total time=   1.4s\n",
      "[CV 5/5] END learning_rate=1.5, max_depth=10, max_features=11, n_estimators=150;, score=-0.899 total time=   1.4s\n",
      "[CV 1/5] END learning_rate=1.5, max_depth=10, max_features=12, n_estimators=80;, score=-0.373 total time=   0.7s\n",
      "[CV 2/5] END learning_rate=1.5, max_depth=10, max_features=12, n_estimators=80;, score=-0.743 total time=   0.7s\n",
      "[CV 3/5] END learning_rate=1.5, max_depth=10, max_features=12, n_estimators=80;, score=-0.050 total time=   0.7s\n",
      "[CV 4/5] END learning_rate=1.5, max_depth=10, max_features=12, n_estimators=80;, score=-1.272 total time=   0.7s\n",
      "[CV 5/5] END learning_rate=1.5, max_depth=10, max_features=12, n_estimators=80;, score=-1.354 total time=   0.7s\n",
      "[CV 1/5] END learning_rate=1.5, max_depth=10, max_features=12, n_estimators=100;, score=-0.392 total time=   0.9s\n",
      "[CV 2/5] END learning_rate=1.5, max_depth=10, max_features=12, n_estimators=100;, score=-0.826 total time=   0.9s\n",
      "[CV 3/5] END learning_rate=1.5, max_depth=10, max_features=12, n_estimators=100;, score=-0.120 total time=   0.9s\n",
      "[CV 4/5] END learning_rate=1.5, max_depth=10, max_features=12, n_estimators=100;, score=-0.535 total time=   0.9s\n",
      "[CV 5/5] END learning_rate=1.5, max_depth=10, max_features=12, n_estimators=100;, score=-1.567 total time=   0.9s\n",
      "[CV 1/5] END learning_rate=1.5, max_depth=10, max_features=12, n_estimators=150;, score=-0.400 total time=   1.4s\n",
      "[CV 2/5] END learning_rate=1.5, max_depth=10, max_features=12, n_estimators=150;, score=-0.891 total time=   1.4s\n",
      "[CV 3/5] END learning_rate=1.5, max_depth=10, max_features=12, n_estimators=150;, score=-0.046 total time=   1.4s\n",
      "[CV 4/5] END learning_rate=1.5, max_depth=10, max_features=12, n_estimators=150;, score=-0.916 total time=   1.4s\n",
      "[CV 5/5] END learning_rate=1.5, max_depth=10, max_features=12, n_estimators=150;, score=-1.438 total time=   1.4s\n"
     ]
    },
    {
     "data": {
      "text/html": [
       "<style>#sk-container-id-1 {\n",
       "  /* Definition of color scheme common for light and dark mode */\n",
       "  --sklearn-color-text: black;\n",
       "  --sklearn-color-line: gray;\n",
       "  /* Definition of color scheme for unfitted estimators */\n",
       "  --sklearn-color-unfitted-level-0: #fff5e6;\n",
       "  --sklearn-color-unfitted-level-1: #f6e4d2;\n",
       "  --sklearn-color-unfitted-level-2: #ffe0b3;\n",
       "  --sklearn-color-unfitted-level-3: chocolate;\n",
       "  /* Definition of color scheme for fitted estimators */\n",
       "  --sklearn-color-fitted-level-0: #f0f8ff;\n",
       "  --sklearn-color-fitted-level-1: #d4ebff;\n",
       "  --sklearn-color-fitted-level-2: #b3dbfd;\n",
       "  --sklearn-color-fitted-level-3: cornflowerblue;\n",
       "\n",
       "  /* Specific color for light theme */\n",
       "  --sklearn-color-text-on-default-background: var(--sg-text-color, var(--theme-code-foreground, var(--jp-content-font-color1, black)));\n",
       "  --sklearn-color-background: var(--sg-background-color, var(--theme-background, var(--jp-layout-color0, white)));\n",
       "  --sklearn-color-border-box: var(--sg-text-color, var(--theme-code-foreground, var(--jp-content-font-color1, black)));\n",
       "  --sklearn-color-icon: #696969;\n",
       "\n",
       "  @media (prefers-color-scheme: dark) {\n",
       "    /* Redefinition of color scheme for dark theme */\n",
       "    --sklearn-color-text-on-default-background: var(--sg-text-color, var(--theme-code-foreground, var(--jp-content-font-color1, white)));\n",
       "    --sklearn-color-background: var(--sg-background-color, var(--theme-background, var(--jp-layout-color0, #111)));\n",
       "    --sklearn-color-border-box: var(--sg-text-color, var(--theme-code-foreground, var(--jp-content-font-color1, white)));\n",
       "    --sklearn-color-icon: #878787;\n",
       "  }\n",
       "}\n",
       "\n",
       "#sk-container-id-1 {\n",
       "  color: var(--sklearn-color-text);\n",
       "}\n",
       "\n",
       "#sk-container-id-1 pre {\n",
       "  padding: 0;\n",
       "}\n",
       "\n",
       "#sk-container-id-1 input.sk-hidden--visually {\n",
       "  border: 0;\n",
       "  clip: rect(1px 1px 1px 1px);\n",
       "  clip: rect(1px, 1px, 1px, 1px);\n",
       "  height: 1px;\n",
       "  margin: -1px;\n",
       "  overflow: hidden;\n",
       "  padding: 0;\n",
       "  position: absolute;\n",
       "  width: 1px;\n",
       "}\n",
       "\n",
       "#sk-container-id-1 div.sk-dashed-wrapped {\n",
       "  border: 1px dashed var(--sklearn-color-line);\n",
       "  margin: 0 0.4em 0.5em 0.4em;\n",
       "  box-sizing: border-box;\n",
       "  padding-bottom: 0.4em;\n",
       "  background-color: var(--sklearn-color-background);\n",
       "}\n",
       "\n",
       "#sk-container-id-1 div.sk-container {\n",
       "  /* jupyter's `normalize.less` sets `[hidden] { display: none; }`\n",
       "     but bootstrap.min.css set `[hidden] { display: none !important; }`\n",
       "     so we also need the `!important` here to be able to override the\n",
       "     default hidden behavior on the sphinx rendered scikit-learn.org.\n",
       "     See: https://github.com/scikit-learn/scikit-learn/issues/21755 */\n",
       "  display: inline-block !important;\n",
       "  position: relative;\n",
       "}\n",
       "\n",
       "#sk-container-id-1 div.sk-text-repr-fallback {\n",
       "  display: none;\n",
       "}\n",
       "\n",
       "div.sk-parallel-item,\n",
       "div.sk-serial,\n",
       "div.sk-item {\n",
       "  /* draw centered vertical line to link estimators */\n",
       "  background-image: linear-gradient(var(--sklearn-color-text-on-default-background), var(--sklearn-color-text-on-default-background));\n",
       "  background-size: 2px 100%;\n",
       "  background-repeat: no-repeat;\n",
       "  background-position: center center;\n",
       "}\n",
       "\n",
       "/* Parallel-specific style estimator block */\n",
       "\n",
       "#sk-container-id-1 div.sk-parallel-item::after {\n",
       "  content: \"\";\n",
       "  width: 100%;\n",
       "  border-bottom: 2px solid var(--sklearn-color-text-on-default-background);\n",
       "  flex-grow: 1;\n",
       "}\n",
       "\n",
       "#sk-container-id-1 div.sk-parallel {\n",
       "  display: flex;\n",
       "  align-items: stretch;\n",
       "  justify-content: center;\n",
       "  background-color: var(--sklearn-color-background);\n",
       "  position: relative;\n",
       "}\n",
       "\n",
       "#sk-container-id-1 div.sk-parallel-item {\n",
       "  display: flex;\n",
       "  flex-direction: column;\n",
       "}\n",
       "\n",
       "#sk-container-id-1 div.sk-parallel-item:first-child::after {\n",
       "  align-self: flex-end;\n",
       "  width: 50%;\n",
       "}\n",
       "\n",
       "#sk-container-id-1 div.sk-parallel-item:last-child::after {\n",
       "  align-self: flex-start;\n",
       "  width: 50%;\n",
       "}\n",
       "\n",
       "#sk-container-id-1 div.sk-parallel-item:only-child::after {\n",
       "  width: 0;\n",
       "}\n",
       "\n",
       "/* Serial-specific style estimator block */\n",
       "\n",
       "#sk-container-id-1 div.sk-serial {\n",
       "  display: flex;\n",
       "  flex-direction: column;\n",
       "  align-items: center;\n",
       "  background-color: var(--sklearn-color-background);\n",
       "  padding-right: 1em;\n",
       "  padding-left: 1em;\n",
       "}\n",
       "\n",
       "\n",
       "/* Toggleable style: style used for estimator/Pipeline/ColumnTransformer box that is\n",
       "clickable and can be expanded/collapsed.\n",
       "- Pipeline and ColumnTransformer use this feature and define the default style\n",
       "- Estimators will overwrite some part of the style using the `sk-estimator` class\n",
       "*/\n",
       "\n",
       "/* Pipeline and ColumnTransformer style (default) */\n",
       "\n",
       "#sk-container-id-1 div.sk-toggleable {\n",
       "  /* Default theme specific background. It is overwritten whether we have a\n",
       "  specific estimator or a Pipeline/ColumnTransformer */\n",
       "  background-color: var(--sklearn-color-background);\n",
       "}\n",
       "\n",
       "/* Toggleable label */\n",
       "#sk-container-id-1 label.sk-toggleable__label {\n",
       "  cursor: pointer;\n",
       "  display: block;\n",
       "  width: 100%;\n",
       "  margin-bottom: 0;\n",
       "  padding: 0.5em;\n",
       "  box-sizing: border-box;\n",
       "  text-align: center;\n",
       "}\n",
       "\n",
       "#sk-container-id-1 label.sk-toggleable__label-arrow:before {\n",
       "  /* Arrow on the left of the label */\n",
       "  content: \"▸\";\n",
       "  float: left;\n",
       "  margin-right: 0.25em;\n",
       "  color: var(--sklearn-color-icon);\n",
       "}\n",
       "\n",
       "#sk-container-id-1 label.sk-toggleable__label-arrow:hover:before {\n",
       "  color: var(--sklearn-color-text);\n",
       "}\n",
       "\n",
       "/* Toggleable content - dropdown */\n",
       "\n",
       "#sk-container-id-1 div.sk-toggleable__content {\n",
       "  max-height: 0;\n",
       "  max-width: 0;\n",
       "  overflow: hidden;\n",
       "  text-align: left;\n",
       "  /* unfitted */\n",
       "  background-color: var(--sklearn-color-unfitted-level-0);\n",
       "}\n",
       "\n",
       "#sk-container-id-1 div.sk-toggleable__content.fitted {\n",
       "  /* fitted */\n",
       "  background-color: var(--sklearn-color-fitted-level-0);\n",
       "}\n",
       "\n",
       "#sk-container-id-1 div.sk-toggleable__content pre {\n",
       "  margin: 0.2em;\n",
       "  border-radius: 0.25em;\n",
       "  color: var(--sklearn-color-text);\n",
       "  /* unfitted */\n",
       "  background-color: var(--sklearn-color-unfitted-level-0);\n",
       "}\n",
       "\n",
       "#sk-container-id-1 div.sk-toggleable__content.fitted pre {\n",
       "  /* unfitted */\n",
       "  background-color: var(--sklearn-color-fitted-level-0);\n",
       "}\n",
       "\n",
       "#sk-container-id-1 input.sk-toggleable__control:checked~div.sk-toggleable__content {\n",
       "  /* Expand drop-down */\n",
       "  max-height: 200px;\n",
       "  max-width: 100%;\n",
       "  overflow: auto;\n",
       "}\n",
       "\n",
       "#sk-container-id-1 input.sk-toggleable__control:checked~label.sk-toggleable__label-arrow:before {\n",
       "  content: \"▾\";\n",
       "}\n",
       "\n",
       "/* Pipeline/ColumnTransformer-specific style */\n",
       "\n",
       "#sk-container-id-1 div.sk-label input.sk-toggleable__control:checked~label.sk-toggleable__label {\n",
       "  color: var(--sklearn-color-text);\n",
       "  background-color: var(--sklearn-color-unfitted-level-2);\n",
       "}\n",
       "\n",
       "#sk-container-id-1 div.sk-label.fitted input.sk-toggleable__control:checked~label.sk-toggleable__label {\n",
       "  background-color: var(--sklearn-color-fitted-level-2);\n",
       "}\n",
       "\n",
       "/* Estimator-specific style */\n",
       "\n",
       "/* Colorize estimator box */\n",
       "#sk-container-id-1 div.sk-estimator input.sk-toggleable__control:checked~label.sk-toggleable__label {\n",
       "  /* unfitted */\n",
       "  background-color: var(--sklearn-color-unfitted-level-2);\n",
       "}\n",
       "\n",
       "#sk-container-id-1 div.sk-estimator.fitted input.sk-toggleable__control:checked~label.sk-toggleable__label {\n",
       "  /* fitted */\n",
       "  background-color: var(--sklearn-color-fitted-level-2);\n",
       "}\n",
       "\n",
       "#sk-container-id-1 div.sk-label label.sk-toggleable__label,\n",
       "#sk-container-id-1 div.sk-label label {\n",
       "  /* The background is the default theme color */\n",
       "  color: var(--sklearn-color-text-on-default-background);\n",
       "}\n",
       "\n",
       "/* On hover, darken the color of the background */\n",
       "#sk-container-id-1 div.sk-label:hover label.sk-toggleable__label {\n",
       "  color: var(--sklearn-color-text);\n",
       "  background-color: var(--sklearn-color-unfitted-level-2);\n",
       "}\n",
       "\n",
       "/* Label box, darken color on hover, fitted */\n",
       "#sk-container-id-1 div.sk-label.fitted:hover label.sk-toggleable__label.fitted {\n",
       "  color: var(--sklearn-color-text);\n",
       "  background-color: var(--sklearn-color-fitted-level-2);\n",
       "}\n",
       "\n",
       "/* Estimator label */\n",
       "\n",
       "#sk-container-id-1 div.sk-label label {\n",
       "  font-family: monospace;\n",
       "  font-weight: bold;\n",
       "  display: inline-block;\n",
       "  line-height: 1.2em;\n",
       "}\n",
       "\n",
       "#sk-container-id-1 div.sk-label-container {\n",
       "  text-align: center;\n",
       "}\n",
       "\n",
       "/* Estimator-specific */\n",
       "#sk-container-id-1 div.sk-estimator {\n",
       "  font-family: monospace;\n",
       "  border: 1px dotted var(--sklearn-color-border-box);\n",
       "  border-radius: 0.25em;\n",
       "  box-sizing: border-box;\n",
       "  margin-bottom: 0.5em;\n",
       "  /* unfitted */\n",
       "  background-color: var(--sklearn-color-unfitted-level-0);\n",
       "}\n",
       "\n",
       "#sk-container-id-1 div.sk-estimator.fitted {\n",
       "  /* fitted */\n",
       "  background-color: var(--sklearn-color-fitted-level-0);\n",
       "}\n",
       "\n",
       "/* on hover */\n",
       "#sk-container-id-1 div.sk-estimator:hover {\n",
       "  /* unfitted */\n",
       "  background-color: var(--sklearn-color-unfitted-level-2);\n",
       "}\n",
       "\n",
       "#sk-container-id-1 div.sk-estimator.fitted:hover {\n",
       "  /* fitted */\n",
       "  background-color: var(--sklearn-color-fitted-level-2);\n",
       "}\n",
       "\n",
       "/* Specification for estimator info (e.g. \"i\" and \"?\") */\n",
       "\n",
       "/* Common style for \"i\" and \"?\" */\n",
       "\n",
       ".sk-estimator-doc-link,\n",
       "a:link.sk-estimator-doc-link,\n",
       "a:visited.sk-estimator-doc-link {\n",
       "  float: right;\n",
       "  font-size: smaller;\n",
       "  line-height: 1em;\n",
       "  font-family: monospace;\n",
       "  background-color: var(--sklearn-color-background);\n",
       "  border-radius: 1em;\n",
       "  height: 1em;\n",
       "  width: 1em;\n",
       "  text-decoration: none !important;\n",
       "  margin-left: 1ex;\n",
       "  /* unfitted */\n",
       "  border: var(--sklearn-color-unfitted-level-1) 1pt solid;\n",
       "  color: var(--sklearn-color-unfitted-level-1);\n",
       "}\n",
       "\n",
       ".sk-estimator-doc-link.fitted,\n",
       "a:link.sk-estimator-doc-link.fitted,\n",
       "a:visited.sk-estimator-doc-link.fitted {\n",
       "  /* fitted */\n",
       "  border: var(--sklearn-color-fitted-level-1) 1pt solid;\n",
       "  color: var(--sklearn-color-fitted-level-1);\n",
       "}\n",
       "\n",
       "/* On hover */\n",
       "div.sk-estimator:hover .sk-estimator-doc-link:hover,\n",
       ".sk-estimator-doc-link:hover,\n",
       "div.sk-label-container:hover .sk-estimator-doc-link:hover,\n",
       ".sk-estimator-doc-link:hover {\n",
       "  /* unfitted */\n",
       "  background-color: var(--sklearn-color-unfitted-level-3);\n",
       "  color: var(--sklearn-color-background);\n",
       "  text-decoration: none;\n",
       "}\n",
       "\n",
       "div.sk-estimator.fitted:hover .sk-estimator-doc-link.fitted:hover,\n",
       ".sk-estimator-doc-link.fitted:hover,\n",
       "div.sk-label-container:hover .sk-estimator-doc-link.fitted:hover,\n",
       ".sk-estimator-doc-link.fitted:hover {\n",
       "  /* fitted */\n",
       "  background-color: var(--sklearn-color-fitted-level-3);\n",
       "  color: var(--sklearn-color-background);\n",
       "  text-decoration: none;\n",
       "}\n",
       "\n",
       "/* Span, style for the box shown on hovering the info icon */\n",
       ".sk-estimator-doc-link span {\n",
       "  display: none;\n",
       "  z-index: 9999;\n",
       "  position: relative;\n",
       "  font-weight: normal;\n",
       "  right: .2ex;\n",
       "  padding: .5ex;\n",
       "  margin: .5ex;\n",
       "  width: min-content;\n",
       "  min-width: 20ex;\n",
       "  max-width: 50ex;\n",
       "  color: var(--sklearn-color-text);\n",
       "  box-shadow: 2pt 2pt 4pt #999;\n",
       "  /* unfitted */\n",
       "  background: var(--sklearn-color-unfitted-level-0);\n",
       "  border: .5pt solid var(--sklearn-color-unfitted-level-3);\n",
       "}\n",
       "\n",
       ".sk-estimator-doc-link.fitted span {\n",
       "  /* fitted */\n",
       "  background: var(--sklearn-color-fitted-level-0);\n",
       "  border: var(--sklearn-color-fitted-level-3);\n",
       "}\n",
       "\n",
       ".sk-estimator-doc-link:hover span {\n",
       "  display: block;\n",
       "}\n",
       "\n",
       "/* \"?\"-specific style due to the `<a>` HTML tag */\n",
       "\n",
       "#sk-container-id-1 a.estimator_doc_link {\n",
       "  float: right;\n",
       "  font-size: 1rem;\n",
       "  line-height: 1em;\n",
       "  font-family: monospace;\n",
       "  background-color: var(--sklearn-color-background);\n",
       "  border-radius: 1rem;\n",
       "  height: 1rem;\n",
       "  width: 1rem;\n",
       "  text-decoration: none;\n",
       "  /* unfitted */\n",
       "  color: var(--sklearn-color-unfitted-level-1);\n",
       "  border: var(--sklearn-color-unfitted-level-1) 1pt solid;\n",
       "}\n",
       "\n",
       "#sk-container-id-1 a.estimator_doc_link.fitted {\n",
       "  /* fitted */\n",
       "  border: var(--sklearn-color-fitted-level-1) 1pt solid;\n",
       "  color: var(--sklearn-color-fitted-level-1);\n",
       "}\n",
       "\n",
       "/* On hover */\n",
       "#sk-container-id-1 a.estimator_doc_link:hover {\n",
       "  /* unfitted */\n",
       "  background-color: var(--sklearn-color-unfitted-level-3);\n",
       "  color: var(--sklearn-color-background);\n",
       "  text-decoration: none;\n",
       "}\n",
       "\n",
       "#sk-container-id-1 a.estimator_doc_link.fitted:hover {\n",
       "  /* fitted */\n",
       "  background-color: var(--sklearn-color-fitted-level-3);\n",
       "}\n",
       "</style><div id=\"sk-container-id-1\" class=\"sk-top-container\"><div class=\"sk-text-repr-fallback\"><pre>GridSearchCV(cv=5, estimator=GradientBoostingRegressor(),\n",
       "             param_grid={&#x27;learning_rate&#x27;: [0.05, 1, 1.0, 1.5],\n",
       "                         &#x27;max_depth&#x27;: [7, 8, 9, 10],\n",
       "                         &#x27;max_features&#x27;: [10, 11, 12],\n",
       "                         &#x27;n_estimators&#x27;: [80, 100, 150]},\n",
       "             scoring=&#x27;r2&#x27;, verbose=3)</pre><b>In a Jupyter environment, please rerun this cell to show the HTML representation or trust the notebook. <br />On GitHub, the HTML representation is unable to render, please try loading this page with nbviewer.org.</b></div><div class=\"sk-container\" hidden><div class=\"sk-item sk-dashed-wrapped\"><div class=\"sk-label-container\"><div class=\"sk-label fitted sk-toggleable\"><input class=\"sk-toggleable__control sk-hidden--visually\" id=\"sk-estimator-id-1\" type=\"checkbox\" ><label for=\"sk-estimator-id-1\" class=\"sk-toggleable__label fitted sk-toggleable__label-arrow fitted\">&nbsp;&nbsp;GridSearchCV<a class=\"sk-estimator-doc-link fitted\" rel=\"noreferrer\" target=\"_blank\" href=\"https://scikit-learn.org/1.5/modules/generated/sklearn.model_selection.GridSearchCV.html\">?<span>Documentation for GridSearchCV</span></a><span class=\"sk-estimator-doc-link fitted\">i<span>Fitted</span></span></label><div class=\"sk-toggleable__content fitted\"><pre>GridSearchCV(cv=5, estimator=GradientBoostingRegressor(),\n",
       "             param_grid={&#x27;learning_rate&#x27;: [0.05, 1, 1.0, 1.5],\n",
       "                         &#x27;max_depth&#x27;: [7, 8, 9, 10],\n",
       "                         &#x27;max_features&#x27;: [10, 11, 12],\n",
       "                         &#x27;n_estimators&#x27;: [80, 100, 150]},\n",
       "             scoring=&#x27;r2&#x27;, verbose=3)</pre></div> </div></div><div class=\"sk-parallel\"><div class=\"sk-parallel-item\"><div class=\"sk-item\"><div class=\"sk-label-container\"><div class=\"sk-label fitted sk-toggleable\"><input class=\"sk-toggleable__control sk-hidden--visually\" id=\"sk-estimator-id-2\" type=\"checkbox\" ><label for=\"sk-estimator-id-2\" class=\"sk-toggleable__label fitted sk-toggleable__label-arrow fitted\">best_estimator_: GradientBoostingRegressor</label><div class=\"sk-toggleable__content fitted\"><pre>GradientBoostingRegressor(learning_rate=0.05, max_depth=8, max_features=12,\n",
       "                          n_estimators=150)</pre></div> </div></div><div class=\"sk-serial\"><div class=\"sk-item\"><div class=\"sk-estimator fitted sk-toggleable\"><input class=\"sk-toggleable__control sk-hidden--visually\" id=\"sk-estimator-id-3\" type=\"checkbox\" ><label for=\"sk-estimator-id-3\" class=\"sk-toggleable__label fitted sk-toggleable__label-arrow fitted\">&nbsp;GradientBoostingRegressor<a class=\"sk-estimator-doc-link fitted\" rel=\"noreferrer\" target=\"_blank\" href=\"https://scikit-learn.org/1.5/modules/generated/sklearn.ensemble.GradientBoostingRegressor.html\">?<span>Documentation for GradientBoostingRegressor</span></a></label><div class=\"sk-toggleable__content fitted\"><pre>GradientBoostingRegressor(learning_rate=0.05, max_depth=8, max_features=12,\n",
       "                          n_estimators=150)</pre></div> </div></div></div></div></div></div></div></div></div>"
      ],
      "text/plain": [
       "GridSearchCV(cv=5, estimator=GradientBoostingRegressor(),\n",
       "             param_grid={'learning_rate': [0.05, 1, 1.0, 1.5],\n",
       "                         'max_depth': [7, 8, 9, 10],\n",
       "                         'max_features': [10, 11, 12],\n",
       "                         'n_estimators': [80, 100, 150]},\n",
       "             scoring='r2', verbose=3)"
      ]
     },
     "execution_count": 103,
     "metadata": {},
     "output_type": "execute_result"
    }
   ],
   "source": [
    "gscv.fit(xtrain,ytrain)"
   ]
  },
  {
   "cell_type": "code",
   "execution_count": 104,
   "id": "968782fe",
   "metadata": {},
   "outputs": [
    {
     "data": {
      "text/plain": [
       "0.39963639899457093"
      ]
     },
     "execution_count": 104,
     "metadata": {},
     "output_type": "execute_result"
    }
   ],
   "source": [
    "gscv.best_score_"
   ]
  },
  {
   "cell_type": "code",
   "execution_count": 105,
   "id": "984d494f",
   "metadata": {},
   "outputs": [
    {
     "data": {
      "text/plain": [
       "{'learning_rate': 0.05,\n",
       " 'max_depth': 8,\n",
       " 'max_features': 12,\n",
       " 'n_estimators': 150}"
      ]
     },
     "execution_count": 105,
     "metadata": {},
     "output_type": "execute_result"
    }
   ],
   "source": [
    "gscv.best_params_"
   ]
  },
  {
   "cell_type": "code",
   "execution_count": 106,
   "id": "ea3103f6",
   "metadata": {},
   "outputs": [
    {
     "name": "stdout",
     "output_type": "stream",
     "text": [
      "R2:  0.35940034474821325\n",
      "MSE:  15598.507874809524\n",
      "RMSE:  0.5995000790226914\n",
      "MAPE:  0.38618979965096734\n",
      "MAE:  45.28810539808375\n",
      "Hack Score:  0.8079424764816869\n",
      "Do you want to save this model?  Y/Ny\n"
     ]
    }
   ],
   "source": [
    "model_evaluation(GradientBoostingRegressor(**gscv.best_params_),xtrain,ytrain,xtest,ytest)"
   ]
  },
  {
   "cell_type": "code",
   "execution_count": 107,
   "id": "1f23da89",
   "metadata": {},
   "outputs": [
    {
     "data": {
      "text/html": [
       "<div>\n",
       "<style scoped>\n",
       "    .dataframe tbody tr th:only-of-type {\n",
       "        vertical-align: middle;\n",
       "    }\n",
       "\n",
       "    .dataframe tbody tr th {\n",
       "        vertical-align: top;\n",
       "    }\n",
       "\n",
       "    .dataframe thead th {\n",
       "        text-align: right;\n",
       "    }\n",
       "</style>\n",
       "<table border=\"1\" class=\"dataframe\">\n",
       "  <thead>\n",
       "    <tr style=\"text-align: right;\">\n",
       "      <th></th>\n",
       "      <th>model</th>\n",
       "      <th>R2</th>\n",
       "      <th>RMSE</th>\n",
       "      <th>MAPE</th>\n",
       "      <th>Hack Score</th>\n",
       "    </tr>\n",
       "  </thead>\n",
       "  <tbody>\n",
       "    <tr>\n",
       "      <th>0</th>\n",
       "      <td>LinearRegression()</td>\n",
       "      <td>0.230773</td>\n",
       "      <td>0.480389</td>\n",
       "      <td>0.515511</td>\n",
       "      <td>0.734933</td>\n",
       "    </tr>\n",
       "    <tr>\n",
       "      <th>1</th>\n",
       "      <td>Ridge()</td>\n",
       "      <td>0.230772</td>\n",
       "      <td>0.480388</td>\n",
       "      <td>0.515533</td>\n",
       "      <td>0.735406</td>\n",
       "    </tr>\n",
       "    <tr>\n",
       "      <th>2</th>\n",
       "      <td>Lasso(alpha=1)</td>\n",
       "      <td>0.229372</td>\n",
       "      <td>0.478928</td>\n",
       "      <td>0.524263</td>\n",
       "      <td>0.749687</td>\n",
       "    </tr>\n",
       "    <tr>\n",
       "      <th>3</th>\n",
       "      <td>DecisionTreeRegressor(max_depth=9, max_feature...</td>\n",
       "      <td>0.080594</td>\n",
       "      <td>0.283891</td>\n",
       "      <td>0.473737</td>\n",
       "      <td>0.774914</td>\n",
       "    </tr>\n",
       "    <tr>\n",
       "      <th>4</th>\n",
       "      <td>RandomForestRegressor(max_depth=9, max_feature...</td>\n",
       "      <td>0.320268</td>\n",
       "      <td>0.565922</td>\n",
       "      <td>0.432577</td>\n",
       "      <td>0.791517</td>\n",
       "    </tr>\n",
       "    <tr>\n",
       "      <th>5</th>\n",
       "      <td>RandomForestRegressor(max_depth=9, max_feature...</td>\n",
       "      <td>0.312917</td>\n",
       "      <td>0.559390</td>\n",
       "      <td>0.432227</td>\n",
       "      <td>0.791382</td>\n",
       "    </tr>\n",
       "    <tr>\n",
       "      <th>6</th>\n",
       "      <td>AdaBoostRegressor(estimator=RandomForestRegres...</td>\n",
       "      <td>0.356757</td>\n",
       "      <td>0.597291</td>\n",
       "      <td>0.461442</td>\n",
       "      <td>0.789684</td>\n",
       "    </tr>\n",
       "    <tr>\n",
       "      <th>7</th>\n",
       "      <td>GradientBoostingRegressor(max_depth=7)</td>\n",
       "      <td>0.382848</td>\n",
       "      <td>0.618747</td>\n",
       "      <td>0.386319</td>\n",
       "      <td>0.808835</td>\n",
       "    </tr>\n",
       "    <tr>\n",
       "      <th>8</th>\n",
       "      <td>XGBRegressor(base_score=None, booster=None, ca...</td>\n",
       "      <td>0.215271</td>\n",
       "      <td>0.463973</td>\n",
       "      <td>0.395319</td>\n",
       "      <td>0.788115</td>\n",
       "    </tr>\n",
       "    <tr>\n",
       "      <th>9</th>\n",
       "      <td>VotingRegressor(estimators=[('DT',\\n          ...</td>\n",
       "      <td>0.329017</td>\n",
       "      <td>0.573600</td>\n",
       "      <td>0.382710</td>\n",
       "      <td>0.807947</td>\n",
       "    </tr>\n",
       "    <tr>\n",
       "      <th>10</th>\n",
       "      <td>StackingRegressor(estimators=[('DT',\\n        ...</td>\n",
       "      <td>0.377531</td>\n",
       "      <td>0.614435</td>\n",
       "      <td>0.416233</td>\n",
       "      <td>0.802589</td>\n",
       "    </tr>\n",
       "    <tr>\n",
       "      <th>11</th>\n",
       "      <td>StackingRegressor(estimators=[('DT',\\n        ...</td>\n",
       "      <td>0.392600</td>\n",
       "      <td>0.626578</td>\n",
       "      <td>0.389435</td>\n",
       "      <td>0.806843</td>\n",
       "    </tr>\n",
       "    <tr>\n",
       "      <th>12</th>\n",
       "      <td>GradientBoostingRegressor(learning_rate=0.05, ...</td>\n",
       "      <td>0.359400</td>\n",
       "      <td>0.599500</td>\n",
       "      <td>0.386190</td>\n",
       "      <td>0.807942</td>\n",
       "    </tr>\n",
       "  </tbody>\n",
       "</table>\n",
       "</div>"
      ],
      "text/plain": [
       "                                                model        R2      RMSE  \\\n",
       "0                                  LinearRegression()  0.230773  0.480389   \n",
       "1                                             Ridge()  0.230772  0.480388   \n",
       "2                                      Lasso(alpha=1)  0.229372  0.478928   \n",
       "3   DecisionTreeRegressor(max_depth=9, max_feature...  0.080594  0.283891   \n",
       "4   RandomForestRegressor(max_depth=9, max_feature...  0.320268  0.565922   \n",
       "5   RandomForestRegressor(max_depth=9, max_feature...  0.312917  0.559390   \n",
       "6   AdaBoostRegressor(estimator=RandomForestRegres...  0.356757  0.597291   \n",
       "7              GradientBoostingRegressor(max_depth=7)  0.382848  0.618747   \n",
       "8   XGBRegressor(base_score=None, booster=None, ca...  0.215271  0.463973   \n",
       "9   VotingRegressor(estimators=[('DT',\\n          ...  0.329017  0.573600   \n",
       "10  StackingRegressor(estimators=[('DT',\\n        ...  0.377531  0.614435   \n",
       "11  StackingRegressor(estimators=[('DT',\\n        ...  0.392600  0.626578   \n",
       "12  GradientBoostingRegressor(learning_rate=0.05, ...  0.359400  0.599500   \n",
       "\n",
       "        MAPE  Hack Score  \n",
       "0   0.515511    0.734933  \n",
       "1   0.515533    0.735406  \n",
       "2   0.524263    0.749687  \n",
       "3   0.473737    0.774914  \n",
       "4   0.432577    0.791517  \n",
       "5   0.432227    0.791382  \n",
       "6   0.461442    0.789684  \n",
       "7   0.386319    0.808835  \n",
       "8   0.395319    0.788115  \n",
       "9   0.382710    0.807947  \n",
       "10  0.416233    0.802589  \n",
       "11  0.389435    0.806843  \n",
       "12  0.386190    0.807942  "
      ]
     },
     "execution_count": 107,
     "metadata": {},
     "output_type": "execute_result"
    }
   ],
   "source": [
    "score_card"
   ]
  },
  {
   "cell_type": "code",
   "execution_count": 108,
   "id": "6e667c2e",
   "metadata": {},
   "outputs": [
    {
     "name": "stdout",
     "output_type": "stream",
     "text": [
      "R2:  0.3076671326034275\n",
      "MSE:  16858.204021090554\n",
      "RMSE:  0.5546775032425846\n",
      "MAPE:  0.3665004024200387\n",
      "MAE:  43.89989831125082\n",
      "Hack Score:  0.8129309383507246\n",
      "Do you want to save this model?  Y/Ny\n"
     ]
    }
   ],
   "source": [
    "model_evaluation(GradientBoostingRegressor(n_estimators=200,max_depth=7,max_features=10,min_samples_split=4,learning_rate=0.1),xtrain,ytrain,xtest,ytest)"
   ]
  },
  {
   "cell_type": "code",
   "execution_count": null,
   "id": "a704c0f3",
   "metadata": {},
   "outputs": [],
   "source": []
  },
  {
   "cell_type": "code",
   "execution_count": null,
   "id": "9159b675",
   "metadata": {},
   "outputs": [],
   "source": []
  },
  {
   "cell_type": "code",
   "execution_count": null,
   "id": "fd4cc2c1",
   "metadata": {},
   "outputs": [],
   "source": []
  },
  {
   "cell_type": "code",
   "execution_count": null,
   "id": "e487cb49",
   "metadata": {},
   "outputs": [],
   "source": []
  },
  {
   "cell_type": "code",
   "execution_count": null,
   "id": "4324b084",
   "metadata": {},
   "outputs": [],
   "source": [
    "from sklearn.preprocessing import LabelEncoder"
   ]
  },
  {
   "cell_type": "raw",
   "id": "788a2bf0",
   "metadata": {},
   "source": [
    "\n",
    "data['area_type']=pd.DataFrame(pd.DataFrame(data['area_type']))"
   ]
  },
  {
   "cell_type": "raw",
   "id": "921b5676",
   "metadata": {},
   "source": [
    "mdata['size']=data['size'].apply(extract_bhk)"
   ]
  },
  {
   "cell_type": "raw",
   "id": "9302cd1e",
   "metadata": {},
   "source": [
    "data['size'].value_counts()"
   ]
  },
  {
   "cell_type": "raw",
   "id": "78847e65",
   "metadata": {},
   "source": [
    "data"
   ]
  },
  {
   "cell_type": "raw",
   "id": "0526e6e0",
   "metadata": {},
   "source": [
    "le=LabelEncoder()\n",
    "data['size']=le.fit_transform(pd.DataFrame(data['size']))"
   ]
  },
  {
   "cell_type": "raw",
   "id": "50162cd1",
   "metadata": {},
   "source": [
    "data['availability']=[1 if x=='Ready To Move' else 0 for x in data['availability']]\n",
    "data['availability']=data['availability'].astype(int)"
   ]
  },
  {
   "cell_type": "raw",
   "id": "ab2838b4",
   "metadata": {},
   "source": [
    "data.head()"
   ]
  },
  {
   "cell_type": "raw",
   "id": "3a28716f",
   "metadata": {},
   "source": [
    "data['location'].shape"
   ]
  },
  {
   "cell_type": "raw",
   "id": "e2f2e0c8",
   "metadata": {},
   "source": [
    "best_loc=data['location'].value_counts().head(10).index"
   ]
  },
  {
   "cell_type": "raw",
   "id": "9e63a880",
   "metadata": {},
   "source": [
    "data['location']=data['location'].apply(lambda x: 1 if x in best_loc else 0)"
   ]
  },
  {
   "cell_type": "raw",
   "id": "e4e7fbc4",
   "metadata": {},
   "source": [
    "data['society'].value_counts().head(10)"
   ]
  },
  {
   "cell_type": "raw",
   "id": "93535e32",
   "metadata": {},
   "source": [
    "best_soc=data['society'].value_counts().head(1).index"
   ]
  },
  {
   "cell_type": "raw",
   "id": "c7911782",
   "metadata": {},
   "source": [
    "data['society']=data['society'].apply(lambda x: 1 if x in best_soc else 0)"
   ]
  },
  {
   "cell_type": "raw",
   "id": "40877715",
   "metadata": {},
   "source": [
    "data"
   ]
  },
  {
   "cell_type": "raw",
   "id": "995e6701",
   "metadata": {},
   "source": [
    "### Train Test Split"
   ]
  },
  {
   "cell_type": "raw",
   "id": "33978076",
   "metadata": {},
   "source": [
    "train_set=data[data['price'].notnull()]\n",
    "test_set=data[data['price'].isnull()]"
   ]
  },
  {
   "cell_type": "raw",
   "id": "e5ee8af5",
   "metadata": {},
   "source": [
    "test_set.drop(columns=['price'],inplace=True)\n",
    "test_set"
   ]
  },
  {
   "cell_type": "raw",
   "id": "1abadd29",
   "metadata": {},
   "source": [
    "# Train test split on train_set\n",
    "\n",
    "from sklearn.model_selection import train_test_split"
   ]
  },
  {
   "cell_type": "code",
   "execution_count": 125,
   "id": "e8c5791a",
   "metadata": {},
   "outputs": [],
   "source": [
    "y=train_set['price']\n",
    "x=train_set.drop(columns='price')"
   ]
  },
  {
   "cell_type": "raw",
   "id": "9fdbcdeb",
   "metadata": {},
   "source": [
    "xtrain,xtest,ytrain,ytest=train_test_split(x,y,train_size=0.8,random_state=2)"
   ]
  },
  {
   "cell_type": "raw",
   "id": "bf86fe3c",
   "metadata": {},
   "source": [
    "print(xtrain.shape,xtest.shape,ytrain.shape,ytest.shape)"
   ]
  },
  {
   "cell_type": "raw",
   "id": "f2c5aaa4",
   "metadata": {},
   "source": [
    "###  Predective Modelling"
   ]
  },
  {
   "cell_type": "raw",
   "id": "bbeae413",
   "metadata": {},
   "source": [
    "from sklearn.linear_model import LinearRegression,Ridge,Lasso\n",
    "from sklearn.tree import DecisionTreeRegressor\n",
    "from sklearn.ensemble import RandomForestRegressor,AdaBoostRegressor,GradientBoostingRegressor\n",
    "from xgboost import XGBRegressor\n",
    "from sklearn.ensemble import VotingRegressor,StackingRegressor\n",
    "from sklearn.model_selection import GridSearchCV\n",
    "\n",
    "from sklearn.metrics import r2_score, mean_squared_error,mean_absolute_error,mean_absolute_percentage_error"
   ]
  },
  {
   "cell_type": "raw",
   "id": "ee23b9cf",
   "metadata": {},
   "source": [
    "# Scoring parameter on Hackathon\n",
    "\n",
    "1 - np.sqrt(np.square(np.log10(y_pred +1) - np.log10(y_true +1)).mean())"
   ]
  },
  {
   "cell_type": "raw",
   "id": "56284a5c",
   "metadata": {},
   "source": [
    "def hack_eval(y_true,y_pred):\n",
    "    scor=1 - np.sqrt(np.square(np.log10(y_pred +1) - np.log10(y_true +1)).mean())\n",
    "    return scor"
   ]
  },
  {
   "cell_type": "code",
   "execution_count": 130,
   "id": "3f5bcaf2",
   "metadata": {},
   "outputs": [],
   "source": [
    "r2=[]\n",
    "ms_error=[]\n",
    "rmse_errr=[]\n",
    "map_error=[]\n",
    "fit_model=[]\n",
    "hack_score=[]\n",
    "\n",
    "def model_evaluation(model,xtrain,ytrain,xtest,ytest):\n",
    "    model=model\n",
    "    model.fit(xtrain,ytrain)\n",
    "    pred=model.predict(xtest)\n",
    "    \n",
    "    print('R2: ', r2_score(ytest,pred))\n",
    "    print('MSE: ',mean_squared_error(ytest,pred))\n",
    "    print('RMSE: ',np.sqrt(r2_score(ytest,pred)))\n",
    "    print('MAPE: ',mean_absolute_percentage_error(ytest,pred))\n",
    "    print('MAE: ',mean_absolute_error(ytest,pred))\n",
    "    print('Hack Score: ', hack_eval(ytest,pred))\n",
    "    \n",
    "    inp=input('Do you want to save this model?  Y/N')\n",
    "    if inp.lower()=='y':\n",
    "        fit_model.append(str(model))\n",
    "        r2.append(r2_score(ytest,pred))\n",
    "        ms_error.append(mean_squared_error(ytest,pred))\n",
    "        rmse_errr.append(np.sqrt(r2_score(ytest,pred)))\n",
    "        map_error.append(mean_absolute_percentage_error(ytest,pred))\n",
    "        hack_score.append(hack_eval(ytest,pred))\n",
    "\n",
    "        global score_card\n",
    "\n",
    "        score_card=pd.DataFrame({'model':fit_model,\n",
    "                                'R2':r2,\n",
    "                                'RMSE':rmse_errr,\n",
    "                                'MAPE':map_error,\n",
    "                                'Hack Score':hack_score})\n",
    "    else:\n",
    "        return \n",
    "          "
   ]
  },
  {
   "cell_type": "raw",
   "id": "0d1abd74",
   "metadata": {},
   "source": [
    "### Linear Regression "
   ]
  },
  {
   "cell_type": "raw",
   "id": "4f6d2186",
   "metadata": {},
   "source": [
    "model_evaluation(LinearRegression(),xtrain,ytrain,xtest,ytest)"
   ]
  },
  {
   "cell_type": "raw",
   "id": "f6b5552a",
   "metadata": {},
   "source": [
    "model_evaluation(Ridge(alpha=1.0),xtrain,ytrain,xtest,ytest)"
   ]
  },
  {
   "cell_type": "raw",
   "id": "e3f4ae72",
   "metadata": {},
   "source": [
    "model_evaluation(Lasso(alpha=1),xtrain,ytrain,xtest,ytest)"
   ]
  },
  {
   "cell_type": "raw",
   "id": "203f0ad4",
   "metadata": {},
   "source": [
    "xtrain.shape"
   ]
  },
  {
   "cell_type": "raw",
   "id": "f177064f",
   "metadata": {},
   "source": [
    "model_evaluation(DecisionTreeRegressor(max_depth=9,max_features=7),xtrain,ytrain,xtest,ytest)"
   ]
  },
  {
   "cell_type": "raw",
   "id": "413d4220",
   "metadata": {},
   "source": [
    "model_evaluation(RandomForestRegressor(n_estimators=90,max_depth=9,max_features=7),xtrain,ytrain,xtest,ytest)"
   ]
  },
  {
   "cell_type": "raw",
   "id": "f1c5a1f3",
   "metadata": {},
   "source": [
    "model_evaluation(AdaBoostRegressor(estimator=RandomForestRegressor(max_depth=9)),xtrain,ytrain,xtest,ytest)"
   ]
  },
  {
   "cell_type": "raw",
   "id": "41abb3ed",
   "metadata": {},
   "source": [
    "model_evaluation(GradientBoostingRegressor(max_depth=7,n_estimators=100),xtrain,ytrain,xtest,ytest)"
   ]
  },
  {
   "cell_type": "raw",
   "id": "300158fc",
   "metadata": {},
   "source": [
    "model_evaluation(XGBRegressor(n_estimator=200,max_depth=10),xtrain,ytrain,xtest,ytest)"
   ]
  },
  {
   "cell_type": "raw",
   "id": "790a72eb",
   "metadata": {},
   "source": [
    "base_models=[('DT',DecisionTreeRegressor(max_depth=10,max_features=9)),\n",
    "            ('RF',RandomForestRegressor(n_estimators=100,max_depth=9)),\n",
    "            ('GBR',GradientBoostingRegressor(max_depth=7,n_estimators=130)),\n",
    "            ('XGB',XGBRegressor(max_depth=8,n_estimators=130))]"
   ]
  },
  {
   "cell_type": "raw",
   "id": "51b7e6af",
   "metadata": {},
   "source": [
    "model_evaluation(VotingRegressor(base_models),xtrain,ytrain,xtest,ytest)"
   ]
  },
  {
   "cell_type": "raw",
   "id": "6d862aa9",
   "metadata": {},
   "source": [
    "base_models=[('DT 1',DecisionTreeRegressor(max_depth=10,max_features=9)),\n",
    "             ('DT 2',DecisionTreeRegressor(max_depth=9)),\n",
    "            ('RF 1',RandomForestRegressor(n_estimators=100,max_depth=9)),\n",
    "             ('RF 2',RandomForestRegressor(n_estimators=130,max_depth=8)),\n",
    "            ('GBR',GradientBoostingRegressor(max_depth=7,n_estimators=130)),\n",
    "            ('XGB',XGBRegressor(max_depth=8,n_estimators=130))]"
   ]
  },
  {
   "cell_type": "raw",
   "id": "2a793010",
   "metadata": {},
   "source": [
    "model_evaluation(StackingRegressor(estimators=base_models),xtrain,ytrain,xtest,ytest)"
   ]
  },
  {
   "cell_type": "raw",
   "id": "d2a9706e",
   "metadata": {},
   "source": [
    "model_evaluation(StackingRegressor(estimators=base_models,final_estimator=DecisionTreeRegressor(max_depth=5)),xtrain,ytrain,xtest,ytest)"
   ]
  },
  {
   "cell_type": "raw",
   "id": "4b7fd068",
   "metadata": {},
   "source": [
    "score_card"
   ]
  },
  {
   "cell_type": "code",
   "execution_count": null,
   "id": "2595a976",
   "metadata": {},
   "outputs": [],
   "source": []
  }
 ],
 "metadata": {
  "kernelspec": {
   "display_name": "Python 3 (ipykernel)",
   "language": "python",
   "name": "python3"
  },
  "language_info": {
   "codemirror_mode": {
    "name": "ipython",
    "version": 3
   },
   "file_extension": ".py",
   "mimetype": "text/x-python",
   "name": "python",
   "nbconvert_exporter": "python",
   "pygments_lexer": "ipython3",
   "version": "3.11.5"
  }
 },
 "nbformat": 4,
 "nbformat_minor": 5
}
